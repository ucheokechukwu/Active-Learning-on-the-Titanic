{
  "nbformat": 4,
  "nbformat_minor": 0,
  "metadata": {
    "colab": {
      "provenance": [],
      "machine_shape": "hm",
      "gpuType": "V100",
      "toc_visible": true,
      "mount_file_id": "1DT_LChle3t5uQM_dInZLUM9UXFRJImIs",
      "authorship_tag": "ABX9TyNVrnQ4EbF0LBd4+o7gpawP",
      "include_colab_link": true
    },
    "kernelspec": {
      "name": "python3",
      "display_name": "Python 3"
    },
    "language_info": {
      "name": "python"
    },
    "accelerator": "GPU"
  },
  "cells": [
    {
      "cell_type": "markdown",
      "metadata": {
        "id": "view-in-github",
        "colab_type": "text"
      },
      "source": [
        "<a href=\"https://colab.research.google.com/github/ucheokechukwu/Active-Learning-on-the-Titanic/blob/main/Pytorch_For_Deep_Learning/01_workflow_fundamentals.ipynb\" target=\"_parent\"><img src=\"https://colab.research.google.com/assets/colab-badge.svg\" alt=\"Open In Colab\"/></a>"
      ]
    },
    {
      "cell_type": "markdown",
      "source": [],
      "metadata": {
        "id": "uwwFghf7w2CE"
      }
    },
    {
      "cell_type": "code",
      "source": [
        "what_were_covering = {1: \"data (prepare and load)\",\n",
        "                      2: \"build model\",\n",
        "                      3: \"fitting the model to data (training)\",\n",
        "                      4: \"making predictions and evaluating the model (inferences)\",\n",
        "                      5: \"saving and loading a model\",\n",
        "                      6: \"putting it all together\"}\n"
      ],
      "metadata": {
        "id": "xemiv1Fyw9x0"
      },
      "execution_count": 1,
      "outputs": []
    },
    {
      "cell_type": "code",
      "execution_count": 2,
      "metadata": {
        "colab": {
          "base_uri": "https://localhost:8080/",
          "height": 35
        },
        "id": "uuPqzUTPwdrh",
        "outputId": "13bf0dee-c9df-4e2f-afe7-dd1c427b8513"
      },
      "outputs": [
        {
          "output_type": "execute_result",
          "data": {
            "text/plain": [
              "'2.0.1+cu118'"
            ],
            "application/vnd.google.colaboratory.intrinsic+json": {
              "type": "string"
            }
          },
          "metadata": {},
          "execution_count": 2
        }
      ],
      "source": [
        "import torch\n",
        "from torch import nn # building blocks of graphs (neural networks)\n",
        "import matplotlib.pyplot as plt\n",
        "\n",
        "# check pytorch version\n",
        "torch.__version__"
      ]
    },
    {
      "cell_type": "code",
      "source": [
        "!nvidia-smi"
      ],
      "metadata": {
        "colab": {
          "base_uri": "https://localhost:8080/"
        },
        "id": "4Un5Ag47xc39",
        "outputId": "bcd42f95-0149-40d8-9234-2f32707ce7a3"
      },
      "execution_count": 3,
      "outputs": [
        {
          "output_type": "stream",
          "name": "stdout",
          "text": [
            "Wed Aug  2 15:00:39 2023       \n",
            "+-----------------------------------------------------------------------------+\n",
            "| NVIDIA-SMI 525.105.17   Driver Version: 525.105.17   CUDA Version: 12.0     |\n",
            "|-------------------------------+----------------------+----------------------+\n",
            "| GPU  Name        Persistence-M| Bus-Id        Disp.A | Volatile Uncorr. ECC |\n",
            "| Fan  Temp  Perf  Pwr:Usage/Cap|         Memory-Usage | GPU-Util  Compute M. |\n",
            "|                               |                      |               MIG M. |\n",
            "|===============================+======================+======================|\n",
            "|   0  Tesla V100-SXM2...  Off  | 00000000:00:04.0 Off |                    0 |\n",
            "| N/A   38C    P0    25W / 300W |      0MiB / 16384MiB |      0%      Default |\n",
            "|                               |                      |                  N/A |\n",
            "+-------------------------------+----------------------+----------------------+\n",
            "                                                                               \n",
            "+-----------------------------------------------------------------------------+\n",
            "| Processes:                                                                  |\n",
            "|  GPU   GI   CI        PID   Type   Process name                  GPU Memory |\n",
            "|        ID   ID                                                   Usage      |\n",
            "|=============================================================================|\n",
            "|  No running processes found                                                 |\n",
            "+-----------------------------------------------------------------------------+\n"
          ]
        }
      ]
    },
    {
      "cell_type": "markdown",
      "source": [
        "# Data\n",
        "\n",
        "## turning our data into tensors"
      ],
      "metadata": {
        "id": "OXAFNE0kRG9-"
      }
    },
    {
      "cell_type": "code",
      "source": [
        "# create *known* parameters\n",
        "weight = 0.7\n",
        "bias = 0.3\n",
        "\n",
        "start = 0\n",
        "end = 1\n",
        "step = 0.02\n",
        "X = torch.arange(start, end, step).unsqueeze(dim=1)\n",
        "y = weight * X + bias\n",
        "\n",
        "X[:10], y[:10]"
      ],
      "metadata": {
        "colab": {
          "base_uri": "https://localhost:8080/"
        },
        "id": "kC2_EoCaxe02",
        "outputId": "92cdf5ef-b85b-4d20-d800-68e48849d38a"
      },
      "execution_count": 4,
      "outputs": [
        {
          "output_type": "execute_result",
          "data": {
            "text/plain": [
              "(tensor([[0.0000],\n",
              "         [0.0200],\n",
              "         [0.0400],\n",
              "         [0.0600],\n",
              "         [0.0800],\n",
              "         [0.1000],\n",
              "         [0.1200],\n",
              "         [0.1400],\n",
              "         [0.1600],\n",
              "         [0.1800]]),\n",
              " tensor([[0.3000],\n",
              "         [0.3140],\n",
              "         [0.3280],\n",
              "         [0.3420],\n",
              "         [0.3560],\n",
              "         [0.3700],\n",
              "         [0.3840],\n",
              "         [0.3980],\n",
              "         [0.4120],\n",
              "         [0.4260]]))"
            ]
          },
          "metadata": {},
          "execution_count": 4
        }
      ]
    },
    {
      "cell_type": "markdown",
      "source": [
        "## splitting data into training and testing"
      ],
      "metadata": {
        "id": "gjzjjGFpRPYo"
      }
    },
    {
      "cell_type": "code",
      "source": [
        "# splitting the data into training and sets\n",
        "train_split = int(0.8*len(X))\n",
        "X_train, y_train, X_test, y_test = X[:train_split], y[:train_split], X[train_split:], y[train_split:]\n",
        "len(X_train), len(y_train), len(X_test), len(y_test)"
      ],
      "metadata": {
        "colab": {
          "base_uri": "https://localhost:8080/"
        },
        "id": "w7IVdV7kyRZR",
        "outputId": "a45049d5-df16-4584-e30c-a1398e8ced36"
      },
      "execution_count": 5,
      "outputs": [
        {
          "output_type": "execute_result",
          "data": {
            "text/plain": [
              "(40, 40, 10, 10)"
            ]
          },
          "metadata": {},
          "execution_count": 5
        }
      ]
    },
    {
      "cell_type": "code",
      "source": [
        "def plot_predictions(train_data = X_train,\n",
        "                     train_label = y_train,\n",
        "                     test_data = X_test,\n",
        "                     test_label = y_test,\n",
        "                     predictions=None):\n",
        "    \"\"\"plots training data, test data, and compares predictions\"\"\"\n",
        "    plt.figure(figsize=(10,7))\n",
        "    plt.scatter(train_data, train_label, c= 'b', s=4, label=\"Training data\")\n",
        "    plt.scatter(test_data, test_label, c= 'g', s=4, label=\"Testing data\")\n",
        "\n",
        "\n",
        "    if predictions is not None:\n",
        "        plt.scatter(test_data, predictions, c= 'r', s=4, label=\"Predictions\")\n",
        "\n",
        "    plt.legend(prop={'size':14})"
      ],
      "metadata": {
        "id": "8XmgRWw1yy-4"
      },
      "execution_count": 6,
      "outputs": []
    },
    {
      "cell_type": "code",
      "source": [
        "plot_predictions()"
      ],
      "metadata": {
        "colab": {
          "base_uri": "https://localhost:8080/",
          "height": 599
        },
        "id": "8Lrct31YzB9x",
        "outputId": "16009610-38be-4f0c-d0ae-b222e799ed8e"
      },
      "execution_count": 7,
      "outputs": [
        {
          "output_type": "display_data",
          "data": {
            "text/plain": [
              "<Figure size 1000x700 with 1 Axes>"
            ],
            "image/png": "[encoded data removed]"
          },
          "metadata": {}
        }
      ]
    },
    {
      "cell_type": "markdown",
      "source": [
        "# 2. Build Model\n",
        "\n",
        "What our model does:\n",
        "1. starts with random values (weight and bias),\n",
        "2. look at training data nad adjust the random values to better represent the ideal values (i.e. weight and biase used to create data)\n",
        "\n",
        "how does it do so? 2 main algorithms:\n",
        "1. gradient descent\n",
        "2. back propagations"
      ],
      "metadata": {
        "id": "njbqY3JSzpwI"
      }
    },
    {
      "cell_type": "code",
      "source": [
        "from torch import nn\n",
        "# create a linear regression model class\n",
        "\n",
        "class LinearRegressionModel(nn.Module):\n",
        "    def __init__(self):\n",
        "        super().__init__()\n",
        "\n",
        "        # initialize the model parameters (could be single parameters, layers or functions)\n",
        "        self.weights = nn.Parameter(torch.randn(1,\n",
        "                                                requires_grad=True,\n",
        "                                                dtype=torch.float))\n",
        "        self.bias = nn.Parameter(torch.randn(1,\n",
        "                                             requires_grad=True,\n",
        "                                             dtype=torch.float))\n",
        "\n",
        "    # forward method to define the computation in the model\n",
        "    # need to override the forward method of nn.Module\n",
        "    def forward(self, x:torch.Tensor) -> torch.Tensor:  # input is x of type torch.Tensor and returns type torch.Tensor\n",
        "        return self.weights * x + self.bias\n"
      ],
      "metadata": {
        "id": "3Eh4NnYbze2Z"
      },
      "execution_count": 8,
      "outputs": []
    },
    {
      "cell_type": "markdown",
      "source": [
        "### pytorch model building essentials\n",
        "\n",
        "* `torch.nn` - contains building blocks for computational graphs (neural networks)\n",
        "* `torch.nn.Parameter` - parameters for the model to try and learn\n",
        "* `torch.nn.Module` - base class\n",
        "* `def forward` - all nn.Module submodules requre you to overwrite this\n",
        "* `torch.optim `- optimizers, help with gradient descent\n",
        "* `torch.utils.data.Dataset` - represents a map between key (label) and sample (features) pairs of data\n",
        "* `torch.utils.data.Dataloader` - creates a python iterable over a torch Dataset (allows you to iterate over your data)\n",
        "\n",
        "\n",
        "Pytorch cheat sheet: https://pytorch.org/tutorials/beginner/ptcheat.html\n"
      ],
      "metadata": {
        "id": "Nu3UMjYB6s2z"
      }
    },
    {
      "cell_type": "markdown",
      "source": [
        "### checking the contents of the Pytorch model\n",
        "- we can do this with `.parameters()`"
      ],
      "metadata": {
        "id": "TND7y9Em1Yku"
      }
    },
    {
      "cell_type": "code",
      "source": [
        "# create a random seed\n",
        "torch.manual_seed(88)\n",
        "\n",
        "# create an instance of the model\n",
        "model_0 = LinearRegressionModel()\n",
        "\n",
        "# check out parameters\n",
        "display(model_0.parameters()) # get a generator\n",
        "list(model_0.parameters())"
      ],
      "metadata": {
        "colab": {
          "base_uri": "https://localhost:8080/",
          "height": 106
        },
        "id": "vt025lFY87Vx",
        "outputId": "524752b4-f0ac-48e2-fa54-cfe5c06ffe6b"
      },
      "execution_count": 103,
      "outputs": [
        {
          "output_type": "display_data",
          "data": {
            "text/plain": [
              "<generator object Module.parameters at 0x7db97e1199a0>"
            ]
          },
          "metadata": {}
        },
        {
          "output_type": "execute_result",
          "data": {
            "text/plain": [
              "[Parameter containing:\n",
              " tensor([0.5734], requires_grad=True),\n",
              " Parameter containing:\n",
              " tensor([1.3148], requires_grad=True)]"
            ]
          },
          "metadata": {},
          "execution_count": 103
        }
      ]
    },
    {
      "cell_type": "code",
      "source": [
        "# list named parameters\n",
        "model_0.state_dict()"
      ],
      "metadata": {
        "colab": {
          "base_uri": "https://localhost:8080/"
        },
        "id": "TyMN_wj59Jj7",
        "outputId": "0c294501-772a-48fb-8ff6-3d5dabd73838"
      },
      "execution_count": 89,
      "outputs": [
        {
          "output_type": "execute_result",
          "data": {
            "text/plain": [
              "OrderedDict([('weights', tensor([0.5734])), ('bias', tensor([1.3148]))])"
            ]
          },
          "metadata": {},
          "execution_count": 89
        }
      ]
    },
    {
      "cell_type": "markdown",
      "source": [
        "### making predictions using `torch.inference_mode()`\n",
        "\n",
        "when we pass data through the model, it runs it through the `foward()` method\n",
        "\n",
        "* inference mode turns off gradient tracking, which saves the data that Python is keeping track off, and makes predictions faster"
      ],
      "metadata": {
        "id": "TuQD9fzW9nAX"
      }
    },
    {
      "cell_type": "code",
      "source": [
        "# make predictions with model\n",
        "with torch.inference_mode():\n",
        "    y_preds = model_0(X_test)\n",
        "\n",
        "y_preds"
      ],
      "metadata": {
        "colab": {
          "base_uri": "https://localhost:8080/"
        },
        "id": "cb10BcW9-H7i",
        "outputId": "513cee18-d521-4e8a-8c6e-8e0c7c92b8dd"
      },
      "execution_count": 90,
      "outputs": [
        {
          "output_type": "execute_result",
          "data": {
            "text/plain": [
              "tensor([[1.7735],\n",
              "        [1.7850],\n",
              "        [1.7965],\n",
              "        [1.8079],\n",
              "        [1.8194],\n",
              "        [1.8309],\n",
              "        [1.8423],\n",
              "        [1.8538],\n",
              "        [1.8653],\n",
              "        [1.8767]])"
            ]
          },
          "metadata": {},
          "execution_count": 90
        }
      ]
    },
    {
      "cell_type": "code",
      "source": [
        "plot_predictions(predictions=y_preds)"
      ],
      "metadata": {
        "colab": {
          "base_uri": "https://localhost:8080/",
          "height": 599
        },
        "id": "QHBI9ciR-ca7",
        "outputId": "c2f4db04-0a93-4ce0-b618-a5a5f8853117"
      },
      "execution_count": 91,
      "outputs": [
        {
          "output_type": "display_data",
          "data": {
            "text/plain": [
              "<Figure size 1000x700 with 1 Axes>"
            ],
            "image/png": "[encoded data removed]"
          },
          "metadata": {}
        }
      ]
    },
    {
      "cell_type": "markdown",
      "source": [
        "### 3. train model\n",
        "\n",
        "the idea of training is for model to move from a poor representation of the data to a better representation of the data.\n",
        "\n",
        "one way to measure how poorly the model is predictign is to use a **loss functions** (also known as a **criterion** or **cost function**).\n",
        "\n",
        "**Loss function**: how far model predictions are from ideal values (lower is better)\n",
        "\n",
        "**Optimizer**: adjusts the model parameters (weights and biases) to improve loss function.\n",
        "\n",
        "pytorch needs: training loop and testing loop."
      ],
      "metadata": {
        "id": "stFMavSc_Sjd"
      }
    },
    {
      "cell_type": "code",
      "source": [
        "# set up a loss function\n",
        "loss_fn = nn.L1Loss() # mean absolute error\n",
        "\n",
        "# set up optimizer\n",
        "optimizer = torch.optim.SGD(params=model_0.parameters(),\n",
        "                            lr=0.01) #lr -> learning rate"
      ],
      "metadata": {
        "id": "KxteR4mJ-eQJ"
      },
      "execution_count": 107,
      "outputs": []
    },
    {
      "cell_type": "markdown",
      "source": [
        "#### building a training loop (and a testing loop) in pytorch\n",
        "\n",
        "0. loop throught the data\n",
        "1. forward pass (involves data moving through our model's `forward` functions) also known as forward propagation\n",
        "2. calculate the loss (compare forward pass predictions to ground truth labels)\n",
        "3. optimizer zero grad\n",
        "4. loss backward - move backwards through the network to calculate the gradient of each of the parameters of our model wrt to the loss\n",
        "5. optimizer loss - use the optimizer to adjust the model's parameter to try and improve the loss (**gradient descent**)"
      ],
      "metadata": {
        "id": "I0jKHeoYBUkF"
      }
    },
    {
      "cell_type": "code",
      "source": [
        "model_0.state_dict()"
      ],
      "metadata": {
        "colab": {
          "base_uri": "https://localhost:8080/"
        },
        "id": "9gLQ3GFQ9jsT",
        "outputId": "6f8dd243-ff41-4844-eb6c-d590467c6d83"
      },
      "execution_count": 16,
      "outputs": [
        {
          "output_type": "execute_result",
          "data": {
            "text/plain": [
              "OrderedDict([('weights', tensor([0.5656])), ('bias', tensor([1.2948]))])"
            ]
          },
          "metadata": {},
          "execution_count": 16
        }
      ]
    },
    {
      "cell_type": "code",
      "source": [
        "# an epoch is one loop through the data\n",
        "\n",
        "epochs = 300\n",
        "# tracking parameters\n",
        "epoch_count = []\n",
        "loss_values = []\n",
        "test_loss_values = []\n",
        "### Training\n",
        "# 0. loop through the data\n",
        "for epoch in range(epochs):\n",
        "    # set the model to training mode\n",
        "    model_0.train()\n",
        "    # 1. forward pass\n",
        "    y_pred = model_0(X_train)\n",
        "    # 2. calculate the loss\n",
        "    loss = loss_fn(y_pred, y_train)\n",
        "    # 3. optimizer zero grad\n",
        "    optimizer.zero_grad()\n",
        "    # 4. perform back propagation on the loss wrt parameters\n",
        "    loss.backward()\n",
        "    # 5. step the optimizer (perform gradient descent)\n",
        "    optimizer.step()\n",
        "    # how the optimizer changes accumulates through the loop so we have to zero it above\n",
        "\n",
        "    ### testing\n",
        "    model_0.eval() # set the model to testing mode\n",
        "    with torch.inference_mode(): # turns off gradient tracking & other things behind the scene\n",
        "        # 1 forward pass\n",
        "        test_pred = model_0(X_test)\n",
        "\n",
        "        # 2 calculate the loss\n",
        "        test_loss = loss_fn(test_pred, y_test)\n",
        "\n",
        "    # print out what's happening\n",
        "    if epoch%10==0:\n",
        "        # epoch_count.append(epoch)\n",
        "        # train_loss_values.append(loss.detach().numpy())\n",
        "        # test_loss_values.append(test_loss.detach().numpy())\n",
        "        epoch_count.append(epoch)\n",
        "        loss_values.append(loss)\n",
        "        test_loss_values.append(test_loss)\n",
        "        print(f\"Epoch: {epoch} | Loss: {loss} | Test loss: {test_loss}\")\n",
        "        print(model_0.state_dict())"
      ],
      "metadata": {
        "id": "Y3M5dBu_CEEV",
        "colab": {
          "base_uri": "https://localhost:8080/"
        },
        "outputId": "340e882a-3bad-412c-e561-ca44513de9a6"
      },
      "execution_count": 108,
      "outputs": [
        {
          "output_type": "stream",
          "name": "stdout",
          "text": [
            "Epoch: 0 | Loss: 0.9654504656791687 | Test loss: 0.8886706233024597\n",
            "OrderedDict([('weights', tensor([0.5695])), ('bias', tensor([1.3048]))])\n",
            "Epoch: 10 | Loss: 0.8502405285835266 | Test loss: 0.7539607286453247\n",
            "OrderedDict([('weights', tensor([0.5305])), ('bias', tensor([1.2048]))])\n",
            "Epoch: 20 | Loss: 0.7350306510925293 | Test loss: 0.619251012802124\n",
            "OrderedDict([('weights', tensor([0.4915])), ('bias', tensor([1.1048]))])\n",
            "Epoch: 30 | Loss: 0.6198208332061768 | Test loss: 0.484541118144989\n",
            "OrderedDict([('weights', tensor([0.4525])), ('bias', tensor([1.0048]))])\n",
            "Epoch: 40 | Loss: 0.5046108961105347 | Test loss: 0.34983134269714355\n",
            "OrderedDict([('weights', tensor([0.4135])), ('bias', tensor([0.9048]))])\n",
            "Epoch: 50 | Loss: 0.38940104842185974 | Test loss: 0.21512147784233093\n",
            "OrderedDict([('weights', tensor([0.3745])), ('bias', tensor([0.8048]))])\n",
            "Epoch: 60 | Loss: 0.2741912007331848 | Test loss: 0.08041167259216309\n",
            "OrderedDict([('weights', tensor([0.3355])), ('bias', tensor([0.7048]))])\n",
            "Epoch: 70 | Loss: 0.1589812934398651 | Test loss: 0.05429816246032715\n",
            "OrderedDict([('weights', tensor([0.2965])), ('bias', tensor([0.6048]))])\n",
            "Epoch: 80 | Loss: 0.10258181393146515 | Test loss: 0.135066419839859\n",
            "OrderedDict([('weights', tensor([0.2810])), ('bias', tensor([0.5378]))])\n",
            "Epoch: 90 | Loss: 0.0888788178563118 | Test loss: 0.16591742634773254\n",
            "OrderedDict([('weights', tensor([0.2851])), ('bias', tensor([0.5033]))])\n",
            "Epoch: 100 | Loss: 0.08315080404281616 | Test loss: 0.17650285363197327\n",
            "OrderedDict([('weights', tensor([0.2963])), ('bias', tensor([0.4828]))])\n",
            "Epoch: 110 | Loss: 0.07921352237462997 | Test loss: 0.17652657628059387\n",
            "OrderedDict([('weights', tensor([0.3108])), ('bias', tensor([0.4698]))])\n",
            "Epoch: 120 | Loss: 0.07568541914224625 | Test loss: 0.17237529158592224\n",
            "OrderedDict([('weights', tensor([0.3267])), ('bias', tensor([0.4598]))])\n",
            "Epoch: 130 | Loss: 0.07215730845928192 | Test loss: 0.16822406649589539\n",
            "OrderedDict([('weights', tensor([0.3426])), ('bias', tensor([0.4498]))])\n",
            "Epoch: 140 | Loss: 0.0687277764081955 | Test loss: 0.15995149314403534\n",
            "OrderedDict([('weights', tensor([0.3598])), ('bias', tensor([0.4428]))])\n",
            "Epoch: 150 | Loss: 0.0652889758348465 | Test loss: 0.15167896449565887\n",
            "OrderedDict([('weights', tensor([0.3770])), ('bias', tensor([0.4358]))])\n",
            "Epoch: 160 | Loss: 0.06185537576675415 | Test loss: 0.14409330487251282\n",
            "OrderedDict([('weights', tensor([0.3939])), ('bias', tensor([0.4283]))])\n",
            "Epoch: 170 | Loss: 0.05842416360974312 | Test loss: 0.13582077622413635\n",
            "OrderedDict([('weights', tensor([0.4111])), ('bias', tensor([0.4213]))])\n",
            "Epoch: 180 | Loss: 0.05498536303639412 | Test loss: 0.1275482475757599\n",
            "OrderedDict([('weights', tensor([0.4282])), ('bias', tensor([0.4143]))])\n",
            "Epoch: 190 | Loss: 0.051553450524806976 | Test loss: 0.11996257305145264\n",
            "OrderedDict([('weights', tensor([0.4452])), ('bias', tensor([0.4068]))])\n",
            "Epoch: 200 | Loss: 0.048120539635419846 | Test loss: 0.11169002205133438\n",
            "OrderedDict([('weights', tensor([0.4623])), ('bias', tensor([0.3998]))])\n",
            "Epoch: 210 | Loss: 0.04468173533678055 | Test loss: 0.10341749340295792\n",
            "OrderedDict([('weights', tensor([0.4795])), ('bias', tensor([0.3928]))])\n",
            "Epoch: 220 | Loss: 0.04125151410698891 | Test loss: 0.09583182632923126\n",
            "OrderedDict([('weights', tensor([0.4964])), ('bias', tensor([0.3853]))])\n",
            "Epoch: 230 | Loss: 0.03781692311167717 | Test loss: 0.08755931258201599\n",
            "OrderedDict([('weights', tensor([0.5136])), ('bias', tensor([0.3783]))])\n",
            "Epoch: 240 | Loss: 0.03437811881303787 | Test loss: 0.07928676903247833\n",
            "OrderedDict([('weights', tensor([0.5308])), ('bias', tensor([0.3713]))])\n",
            "Epoch: 250 | Loss: 0.030949583277106285 | Test loss: 0.07170109450817108\n",
            "OrderedDict([('weights', tensor([0.5477])), ('bias', tensor([0.3638]))])\n",
            "Epoch: 260 | Loss: 0.027513304725289345 | Test loss: 0.06342856585979462\n",
            "OrderedDict([('weights', tensor([0.5649])), ('bias', tensor([0.3568]))])\n",
            "Epoch: 270 | Loss: 0.02407609298825264 | Test loss: 0.05584292486310005\n",
            "OrderedDict([('weights', tensor([0.5818])), ('bias', tensor([0.3493]))])\n",
            "Epoch: 280 | Loss: 0.020647652447223663 | Test loss: 0.0475703664124012\n",
            "OrderedDict([('weights', tensor([0.5990])), ('bias', tensor([0.3423]))])\n",
            "Epoch: 290 | Loss: 0.017209690064191818 | Test loss: 0.03929782658815384\n",
            "OrderedDict([('weights', tensor([0.6161])), ('bias', tensor([0.3353]))])\n"
          ]
        }
      ]
    },
    {
      "cell_type": "code",
      "source": [
        "weight, bias"
      ],
      "metadata": {
        "colab": {
          "base_uri": "https://localhost:8080/"
        },
        "id": "Nq9A42Fd9oRO",
        "outputId": "31521ac4-81a0-4390-b207-8044947c04e8"
      },
      "execution_count": 46,
      "outputs": [
        {
          "output_type": "execute_result",
          "data": {
            "text/plain": [
              "(0.7, 0.3)"
            ]
          },
          "metadata": {},
          "execution_count": 46
        }
      ]
    },
    {
      "cell_type": "code",
      "source": [
        "plot_predictions(predictions=y_preds)"
      ],
      "metadata": {
        "colab": {
          "base_uri": "https://localhost:8080/",
          "height": 599
        },
        "id": "pB9Of7UO-267",
        "outputId": "d667e3fc-7be2-4db1-dfdb-adf695af82fe"
      },
      "execution_count": 75,
      "outputs": [
        {
          "output_type": "display_data",
          "data": {
            "text/plain": [
              "<Figure size 1000x700 with 1 Axes>"
            ],
            "image/png": "[encoded data removed]"
          },
          "metadata": {}
        }
      ]
    },
    {
      "cell_type": "code",
      "source": [
        "# making some predictions\n",
        "with torch.inference_mode():\n",
        "    y_preds_new = model_0(X_test)\n",
        "plot_predictions(predictions=y_preds_new)"
      ],
      "metadata": {
        "colab": {
          "base_uri": "https://localhost:8080/",
          "height": 599
        },
        "id": "BkM-uoE4_AGP",
        "outputId": "4377d81d-6d1e-411a-e2ac-0c461be6287c"
      },
      "execution_count": 109,
      "outputs": [
        {
          "output_type": "display_data",
          "data": {
            "text/plain": [
              "<Figure size 1000x700 with 1 Axes>"
            ],
            "image/png": "[encoded data removed]"
          },
          "metadata": {}
        }
      ]
    },
    {
      "cell_type": "code",
      "source": [
        "# plot the loss curves\n",
        "import numpy as np\n",
        "plt.plot(epoch_count, np.array(torch.tensor(loss_values).numpy()), label=\"Train loss\")\n",
        "plt.plot(epoch_count, test_loss_values, label=\"Test loss\")\n",
        "plt.title(\"training and test loss curves\")\n",
        "plt.ylabel(\"Loss\")\n",
        "plt.xlabel(\"Epochs\")\n",
        "plt.legend()\n",
        "\n",
        "\n",
        "\n",
        "\n",
        "\n"
      ],
      "metadata": {
        "colab": {
          "base_uri": "https://localhost:8080/",
          "height": 490
        },
        "id": "UxgF15y6_C5B",
        "outputId": "159e77e5-5a97-4373-8f71-f2daa0edce7e"
      },
      "execution_count": 115,
      "outputs": [
        {
          "output_type": "execute_result",
          "data": {
            "text/plain": [
              "<matplotlib.legend.Legend at 0x7db97de03640>"
            ]
          },
          "metadata": {},
          "execution_count": 115
        },
        {
          "output_type": "display_data",
          "data": {
            "text/plain": [
              "<Figure size 640x480 with 1 Axes>"
            ],
            "image/png": "[encoded data removed]"
          },
          "metadata": {}
        }
      ]
    },
    {
      "cell_type": "markdown",
      "source": [
        "## Save a model in Pytorch\n",
        "\n",
        "- `torch.save()`\n",
        "- `torch.load()`\n",
        "- `torch.nn.Module.load_state_dict()` - a python dictionary object that maps each layer to its Parameter tensor"
      ],
      "metadata": {
        "id": "DE5KWvLdNqyG"
      }
    },
    {
      "cell_type": "code",
      "source": [
        "# saving our pytorch model\n",
        "from pathlib import Path\n",
        "# 1. create a model directory\n",
        "MODEL_PATH = Path(\"models\")\n",
        "MODEL_PATH.mkdir(parents=True, exist_ok=True)\n",
        "\n",
        "# 2 create a model save path\n",
        "MODEL_NAME = \"01_pytorch_workflow_model_0.pt\" # .pth or .pt for pytorch\n",
        "MODEL_SAVE_PATH = MODEL_PATH / MODEL_NAME\n",
        "display(MODEL_SAVE_PATH)\n",
        "\n",
        "# 3. save the model state dict\n",
        "print(f\"Saving model to: {MODEL_SAVE_PATH}\")\n",
        "torch.save(obj=model_0.state_dict(),\n",
        "           f=MODEL_SAVE_PATH)"
      ],
      "metadata": {
        "colab": {
          "base_uri": "https://localhost:8080/",
          "height": 53
        },
        "id": "pZKelNoXLJxt",
        "outputId": "91de4901-bd1b-46ea-f68a-68dbba900cdd"
      },
      "execution_count": 126,
      "outputs": [
        {
          "output_type": "display_data",
          "data": {
            "text/plain": [
              "PosixPath('models/01_pytorch_workflow_model_0.pt')"
            ]
          },
          "metadata": {}
        },
        {
          "output_type": "stream",
          "name": "stdout",
          "text": [
            "Saving model to: models/01_pytorch_workflow_model_0.pt\n"
          ]
        }
      ]
    },
    {
      "cell_type": "code",
      "source": [
        "%ls -l models"
      ],
      "metadata": {
        "colab": {
          "base_uri": "https://localhost:8080/"
        },
        "id": "dOptSYnqOoIk",
        "outputId": "b515b92a-96d4-4706-9357-dce79d845819"
      },
      "execution_count": 125,
      "outputs": [
        {
          "output_type": "stream",
          "name": "stdout",
          "text": [
            "total 4\n",
            "-rw-r--r-- 1 root root 1207 Aug  2 17:12 01_pytorch_workflow_model_0.pt\n"
          ]
        }
      ]
    },
    {
      "cell_type": "markdown",
      "source": [
        "#### loading the model\n",
        "We will create a new instance of our model class and load in the `state_dict`."
      ],
      "metadata": {
        "id": "zBECr-SiPm4S"
      }
    },
    {
      "cell_type": "code",
      "source": [
        "# instantiating model class\n",
        "loaded_model_0 = LinearRegressionModel()\n",
        "display(loaded_model_0.state_dict())\n",
        "# load the saved state dict\n",
        "loaded_model_0.load_state_dict(torch.load(f=MODEL_SAVE_PATH))\n",
        "# loaded_model_0.load_state_dict(torch.load \\\n",
        "        # ('/content/drive/MyDrive/ZTM_Pytorch_tutorial/models/01_pytorch_workflow_model_0.pt'))"
      ],
      "metadata": {
        "colab": {
          "base_uri": "https://localhost:8080/",
          "height": 53
        },
        "id": "smbG7JlpOytv",
        "outputId": "71999f07-17e7-407c-f564-2fa9eee54fb2"
      },
      "execution_count": 134,
      "outputs": [
        {
          "output_type": "display_data",
          "data": {
            "text/plain": [
              "OrderedDict([('weights', tensor([0.6986])), ('bias', tensor([0.5706]))])"
            ]
          },
          "metadata": {}
        },
        {
          "output_type": "execute_result",
          "data": {
            "text/plain": [
              "<All keys matched successfully>"
            ]
          },
          "metadata": {},
          "execution_count": 134
        }
      ]
    },
    {
      "cell_type": "code",
      "source": [
        "# compare the two\n",
        "loaded_model_0.eval()\n",
        "model_0.eval()\n",
        "with torch.inference_mode():\n",
        "    y_preds = model_0(X_test)\n",
        "    loaded_model_y_preds = loaded_model_0(X_test)\n",
        "# checking if they're the same\n",
        "loaded_model_y_preds == y_preds"
      ],
      "metadata": {
        "colab": {
          "base_uri": "https://localhost:8080/"
        },
        "id": "Gkjq2qmlPenO",
        "outputId": "99077d97-d26c-4dbc-e9a3-1aeed3f1e521"
      },
      "execution_count": 137,
      "outputs": [
        {
          "output_type": "execute_result",
          "data": {
            "text/plain": [
              "tensor([[True],\n",
              "        [True],\n",
              "        [True],\n",
              "        [True],\n",
              "        [True],\n",
              "        [True],\n",
              "        [True],\n",
              "        [True],\n",
              "        [True],\n",
              "        [True]])"
            ]
          },
          "metadata": {},
          "execution_count": 137
        }
      ]
    },
    {
      "cell_type": "markdown",
      "source": [
        "# Putting it all together"
      ],
      "metadata": {
        "id": "UUDT3QDBRUxK"
      }
    },
    {
      "cell_type": "markdown",
      "source": [
        "## importing models and device agnostic code"
      ],
      "metadata": {
        "id": "Pb7j88ASV-GB"
      }
    },
    {
      "cell_type": "code",
      "source": [
        "# import pytorch and matplotlib\n",
        "import torch\n",
        "import matplotlib.pyplot as plt\n",
        "\n",
        "# check pytorch version\n",
        "display(torch.__version__)\n",
        "\n",
        "\n",
        "# create device agnostic code\n",
        "device = 'cuda' if torch.cuda.is_available() else 'cpu'\n",
        "print(f\"Using device: {device}\")"
      ],
      "metadata": {
        "colab": {
          "base_uri": "https://localhost:8080/",
          "height": 53
        },
        "id": "sg6keJIfPk9e",
        "outputId": "7d1b5a60-19a8-4d05-a9c8-8daf14279bb8"
      },
      "execution_count": 149,
      "outputs": [
        {
          "output_type": "display_data",
          "data": {
            "text/plain": [
              "'2.0.1+cu118'"
            ],
            "application/vnd.google.colaboratory.intrinsic+json": {
              "type": "string"
            }
          },
          "metadata": {}
        },
        {
          "output_type": "stream",
          "name": "stdout",
          "text": [
            "Using device: cuda\n"
          ]
        }
      ]
    },
    {
      "cell_type": "markdown",
      "source": [
        "## data preparation"
      ],
      "metadata": {
        "id": "v855CrKNWBQn"
      }
    },
    {
      "cell_type": "code",
      "source": [
        "# data\n",
        "X = torch.arange(0,10,0.1).unsqueeze(dim=1)\n",
        "weight, bias = 5.5,-1\n",
        "y = X*weight + bias\n",
        "\n",
        "# splitting the data into training and test\n",
        "testsplit = int(0.8*len(X))\n",
        "X_train, X_test = X[:testsplit], X[testsplit:]\n",
        "y_train, y_test = y[:testsplit], y[testsplit:]\n"
      ],
      "metadata": {
        "id": "u3lSSTD3Rkef"
      },
      "execution_count": 167,
      "outputs": []
    },
    {
      "cell_type": "code",
      "source": [
        "# plot the data\n",
        "plot_predictions(X_train, y_train, X_test, y_test)"
      ],
      "metadata": {
        "colab": {
          "base_uri": "https://localhost:8080/",
          "height": 599
        },
        "id": "kctN3GFWUB0Q",
        "outputId": "0856cef9-8ebc-4852-f3c8-0cdc898f9d2e"
      },
      "execution_count": 168,
      "outputs": [
        {
          "output_type": "display_data",
          "data": {
            "text/plain": [
              "<Figure size 1000x700 with 1 Axes>"
            ],
            "image/png": "[encoded data removed]"
          },
          "metadata": {}
        }
      ]
    },
    {
      "cell_type": "markdown",
      "source": [
        "## building the linear module\n"
      ],
      "metadata": {
        "id": "oVCW5LdJWfXg"
      }
    },
    {
      "cell_type": "code",
      "source": [
        "# building the module\n",
        "from torch import nn\n",
        "class LinearRegModel(nn.Module):\n",
        "    def __init__(self):\n",
        "        super().__init__()\n",
        "        # initialize the parameters\n",
        "        self.weight = nn.Parameter(torch.randn(1, requires_grad=True, dtype=torch.float))\n",
        "        self.bias = nn.Parameter(torch.randn(1, requires_grad=True, dtype=torch.float))\n",
        "\n",
        "    def foward(self, x:torch.Tensor) -> torch.Tensor:\n",
        "        return self.weight*x + self.bias\n",
        "\n",
        "LinearRegModel().state_dict()"
      ],
      "metadata": {
        "colab": {
          "base_uri": "https://localhost:8080/"
        },
        "id": "ZWOyYJdzRuzK",
        "outputId": "c6cb5203-9635-48df-e839-12c25f115a7c"
      },
      "execution_count": 173,
      "outputs": [
        {
          "output_type": "execute_result",
          "data": {
            "text/plain": [
              "OrderedDict([('weight', tensor([0.5929])), ('bias', tensor([-1.7912]))])"
            ]
          },
          "metadata": {},
          "execution_count": 173
        }
      ]
    },
    {
      "cell_type": "code",
      "source": [
        "from torch import nn\n",
        "class LinearReg(nn.Module):\n",
        "    def __init__(self):\n",
        "        super().__init__()\n",
        "        # using torch.Linear() to create parameters\n",
        "        # applies a linear transformation (wx + b) to the incoming data\n",
        "        self.linear_layer = nn.Linear(in_features=1, # input feature, X has 1 dimension\n",
        "                                      out_features=1) # outpute feature, y has 1 dimension\n",
        "    def forward(self, x:torch.Tensor) -> torch.Tensor:\n",
        "        return self.linear_layer(x)\n",
        "\n",
        "torch.manual_seed(88)\n",
        "model_1 = LinearReg()\n",
        "model_1.state_dict()"
      ],
      "metadata": {
        "colab": {
          "base_uri": "https://localhost:8080/"
        },
        "id": "xLJz6H9qUMJU",
        "outputId": "ac28e396-2633-4a81-8dd2-b9225db6c93b"
      },
      "execution_count": 205,
      "outputs": [
        {
          "output_type": "execute_result",
          "data": {
            "text/plain": [
              "OrderedDict([('linear_layer.weight', tensor([[0.5461]])),\n",
              "             ('linear_layer.bias', tensor([0.3875]))])"
            ]
          },
          "metadata": {},
          "execution_count": 205
        }
      ]
    },
    {
      "cell_type": "code",
      "source": [
        "# set the model to use the target device\n",
        "model_1.to(device)\n",
        "next(model_1.parameters()).device"
      ],
      "metadata": {
        "colab": {
          "base_uri": "https://localhost:8080/"
        },
        "id": "6q9oq-VDVkwr",
        "outputId": "cf857a67-614a-4981-f37a-447ec4a34d1f"
      },
      "execution_count": 206,
      "outputs": [
        {
          "output_type": "execute_result",
          "data": {
            "text/plain": [
              "device(type='cuda', index=0)"
            ]
          },
          "metadata": {},
          "execution_count": 206
        }
      ]
    },
    {
      "cell_type": "markdown",
      "source": [
        "## training\n",
        "\n",
        "- loss function\n",
        "- optimizer\n",
        "- training loop\n",
        "- testing loop"
      ],
      "metadata": {
        "id": "2mD-kzhQWZoH"
      }
    },
    {
      "cell_type": "code",
      "source": [
        "# create optimizer function\n",
        "optimizer = torch.optim.SGD(params = model_1.parameters(),\n",
        "                             lr=0.01)\n",
        "# create loss function\n",
        "loss_fn = nn.L1Loss()"
      ],
      "metadata": {
        "id": "OeIuBl8FTxRE"
      },
      "execution_count": 207,
      "outputs": []
    },
    {
      "cell_type": "code",
      "source": [
        "# training loop\n",
        "torch.manual_seed(88)\n",
        "epochs = 200\n",
        "# put data on the target device\n",
        "X_train = X_train.to(device)\n",
        "X_test = X_test.to(device)\n",
        "y_train = y_train.to(device)\n",
        "y_test = y_test.to(device)\n",
        "for epoch in range(epochs):\n",
        "    # set it to training mode\n",
        "    model_1.train()\n",
        "    # 1. forward pass\n",
        "    y_pred = model_1(X_train)\n",
        "    # 2. calculate loss\n",
        "    loss = loss_fn(y_pred, y_train)\n",
        "    # 3. optimize zero grad\n",
        "    optimizer.zero_grad()\n",
        "    # 4. backpropagation\n",
        "    loss.backward() # calculate the grad for the loss function\n",
        "    # 5. optimzer the loss parameters\n",
        "    optimizer.step()\n",
        "\n",
        "    ### testing\n",
        "    # set the model into eval mode\n",
        "    model_1.eval()\n",
        "    with torch.inference_mode():\n",
        "        # forward pass\n",
        "        test_pred = model_1(X_test)\n",
        "        # loss\n",
        "        test_loss = loss_fn(test_pred, y_test)\n",
        "\n",
        "\n",
        "    # print what's happening\n",
        "    if epoch % 10 == 0:\n",
        "        print(f\"Epoch: {epoch}, loss: {loss}, test_loss: {test_loss}\")\n",
        "        print(model_1.state_dict())\n",
        ""
      ],
      "metadata": {
        "colab": {
          "base_uri": "https://localhost:8080/"
        },
        "id": "lR7zixBqVklq",
        "outputId": "2ea1e0b8-b5d0-4496-ff36-faa53a89d0ec"
      },
      "execution_count": 208,
      "outputs": [
        {
          "output_type": "stream",
          "name": "stdout",
          "text": [
            "Epoch: 0, loss: 18.247177124023438, test_loss: 42.58747863769531\n",
            "OrderedDict([('linear_layer.weight', tensor([[0.5856]], device='cuda:0')), ('linear_layer.bias', tensor([0.3967], device='cuda:0'))])\n",
            "Epoch: 10, loss: 16.612688064575195, test_loss: 38.97196960449219\n",
            "OrderedDict([('linear_layer.weight', tensor([[0.9794]], device='cuda:0')), ('linear_layer.bias', tensor([0.4877], device='cuda:0'))])\n",
            "Epoch: 20, loss: 14.983263969421387, test_loss: 35.36014175415039\n",
            "OrderedDict([('linear_layer.weight', tensor([[1.3729]], device='cuda:0')), ('linear_layer.bias', tensor([0.5777], device='cuda:0'))])\n",
            "Epoch: 30, loss: 13.361247062683105, test_loss: 31.756330490112305\n",
            "OrderedDict([('linear_layer.weight', tensor([[1.7657]], device='cuda:0')), ('linear_layer.bias', tensor([0.6660], device='cuda:0'))])\n",
            "Epoch: 40, loss: 11.746179580688477, test_loss: 28.158695220947266\n",
            "OrderedDict([('linear_layer.weight', tensor([[2.1579]], device='cuda:0')), ('linear_layer.bias', tensor([0.7530], device='cuda:0'))])\n",
            "Epoch: 50, loss: 10.144843101501465, test_loss: 24.575193405151367\n",
            "OrderedDict([('linear_layer.weight', tensor([[2.5489]], device='cuda:0')), ('linear_layer.bias', tensor([0.8375], device='cuda:0'))])\n",
            "Epoch: 60, loss: 8.561775207519531, test_loss: 21.00988006591797\n",
            "OrderedDict([('linear_layer.weight', tensor([[2.9381]], device='cuda:0')), ('linear_layer.bias', tensor([0.9192], device='cuda:0'))])\n",
            "Epoch: 70, loss: 7.002691745758057, test_loss: 17.46952247619629\n",
            "OrderedDict([('linear_layer.weight', tensor([[3.3249]], device='cuda:0')), ('linear_layer.bias', tensor([0.9977], device='cuda:0'))])\n",
            "Epoch: 80, loss: 5.486714839935303, test_loss: 13.980310440063477\n",
            "OrderedDict([('linear_layer.weight', tensor([[3.7066]], device='cuda:0')), ('linear_layer.bias', tensor([1.0707], device='cuda:0'))])\n",
            "Epoch: 90, loss: 4.039183616638184, test_loss: 10.568780899047852\n",
            "OrderedDict([('linear_layer.weight', tensor([[4.0804]], device='cuda:0')), ('linear_layer.bias', tensor([1.1370], device='cuda:0'))])\n",
            "Epoch: 100, loss: 2.718554735183716, test_loss: 7.315225124359131\n",
            "OrderedDict([('linear_layer.weight', tensor([[4.4377]], device='cuda:0')), ('linear_layer.bias', tensor([1.1925], device='cuda:0'))])\n",
            "Epoch: 110, loss: 1.6509617567062378, test_loss: 4.409430027008057\n",
            "OrderedDict([('linear_layer.weight', tensor([[4.7581]], device='cuda:0')), ('linear_layer.bias', tensor([1.2305], device='cuda:0'))])\n",
            "Epoch: 120, loss: 1.0625762939453125, test_loss: 2.340193510055542\n",
            "OrderedDict([('linear_layer.weight', tensor([[4.9884]], device='cuda:0')), ('linear_layer.bias', tensor([1.2390], device='cuda:0'))])\n",
            "Epoch: 130, loss: 0.933466911315918, test_loss: 1.5015531778335571\n",
            "OrderedDict([('linear_layer.weight', tensor([[5.0847]], device='cuda:0')), ('linear_layer.bias', tensor([1.2157], device='cuda:0'))])\n",
            "Epoch: 140, loss: 0.9122331738471985, test_loss: 1.3520478010177612\n",
            "OrderedDict([('linear_layer.weight', tensor([[5.1056]], device='cuda:0')), ('linear_layer.bias', tensor([1.1777], device='cuda:0'))])\n",
            "Epoch: 150, loss: 0.8952333331108093, test_loss: 1.302553415298462\n",
            "OrderedDict([('linear_layer.weight', tensor([[5.1156]], device='cuda:0')), ('linear_layer.bias', tensor([1.1377], device='cuda:0'))])\n",
            "Epoch: 160, loss: 0.8782336115837097, test_loss: 1.2530596256256104\n",
            "OrderedDict([('linear_layer.weight', tensor([[5.1256]], device='cuda:0')), ('linear_layer.bias', tensor([1.0977], device='cuda:0'))])\n",
            "Epoch: 170, loss: 0.8613137602806091, test_loss: 1.2291253805160522\n",
            "OrderedDict([('linear_layer.weight', tensor([[5.1328]], device='cuda:0')), ('linear_layer.bias', tensor([1.0572], device='cuda:0'))])\n",
            "Epoch: 180, loss: 0.8443939089775085, test_loss: 1.2051912546157837\n",
            "OrderedDict([('linear_layer.weight', tensor([[5.1400]], device='cuda:0')), ('linear_layer.bias', tensor([1.0167], device='cuda:0'))])\n",
            "Epoch: 190, loss: 0.8274741172790527, test_loss: 1.1812578439712524\n",
            "OrderedDict([('linear_layer.weight', tensor([[5.1472]], device='cuda:0')), ('linear_layer.bias', tensor([0.9762], device='cuda:0'))])\n"
          ]
        }
      ]
    },
    {
      "cell_type": "code",
      "source": [
        "# making some predictions\n",
        "model_1.eval()\n",
        "with torch.inference_mode():\n",
        "    y_preds_new = model_1(X_test)\n",
        "plot_predictions(X_train.cpu(),\n",
        "                 torch.Tensor.cpu(y_train),\n",
        "                 torch.Tensor.cpu(X_test),\n",
        "                 torch.Tensor.cpu(y_test),\n",
        "                 predictions=torch.Tensor.cpu(y_preds_new))"
      ],
      "metadata": {
        "colab": {
          "base_uri": "https://localhost:8080/",
          "height": 599
        },
        "id": "phiMX9gBVkin",
        "outputId": "4dcb221c-8346-47bd-e3d9-7b5c4a820560"
      },
      "execution_count": 211,
      "outputs": [
        {
          "output_type": "display_data",
          "data": {
            "text/plain": [
              "<Figure size 1000x700 with 1 Axes>"
            ],
            "image/png": "[encoded data removed]"
          },
          "metadata": {}
        }
      ]
    },
    {
      "cell_type": "markdown",
      "source": [
        "## saving and loading"
      ],
      "metadata": {
        "id": "iYTB6rOHc6LN"
      }
    },
    {
      "cell_type": "code",
      "source": [
        "## saving and loading\n",
        "from pathlib import Path\n",
        "# create models dictionary\n",
        "MODEL_PATH = Path(\"models\")\n",
        "MODEL_PATH.mkdir(parents=True, exist_ok=True)\n",
        "MODEL_NAME = \"01_pytorch_workflow_model_1.pt\"\n",
        "MODEL_SAVE_PATH = MODEL_PATH/MODEL_NAME\n",
        "\n",
        "# save the state dict\n",
        "\n",
        "torch.save(obj = model_1.state_dict(), f = MODEL_SAVE_PATH)\n",
        "\n",
        "loaded_model_1 = LinearReg()\n",
        "loaded_model_1.load_state_dict(torch.load(f=MODEL_SAVE_PATH))"
      ],
      "metadata": {
        "colab": {
          "base_uri": "https://localhost:8080/"
        },
        "id": "-lza47OqVkdX",
        "outputId": "fc39424c-de0b-4c4a-dd5e-6419be80d901"
      },
      "execution_count": 215,
      "outputs": [
        {
          "output_type": "execute_result",
          "data": {
            "text/plain": [
              "<All keys matched successfully>"
            ]
          },
          "metadata": {},
          "execution_count": 215
        }
      ]
    },
    {
      "cell_type": "code",
      "source": [
        "loaded_model_1.to(device)\n"
      ],
      "metadata": {
        "colab": {
          "base_uri": "https://localhost:8080/"
        },
        "id": "su2fUvutVkUA",
        "outputId": "27f75b15-a8f3-4682-d612-9c146eb323e3"
      },
      "execution_count": 218,
      "outputs": [
        {
          "output_type": "execute_result",
          "data": {
            "text/plain": [
              "LinearReg(\n",
              "  (linear_layer): Linear(in_features=1, out_features=1, bias=True)\n",
              ")"
            ]
          },
          "metadata": {},
          "execution_count": 218
        }
      ]
    },
    {
      "cell_type": "code",
      "source": [
        "loaded_model_1.state_dict() == model_1.state_dict()"
      ],
      "metadata": {
        "colab": {
          "base_uri": "https://localhost:8080/"
        },
        "id": "o3iN2zavd8XA",
        "outputId": "fdd6a4ed-f314-42ed-d78a-9c78b4032411"
      },
      "execution_count": 219,
      "outputs": [
        {
          "output_type": "execute_result",
          "data": {
            "text/plain": [
              "True"
            ]
          },
          "metadata": {},
          "execution_count": 219
        }
      ]
    },
    {
      "cell_type": "code",
      "source": [],
      "metadata": {
        "id": "pSNPuolqeNfn"
      },
      "execution_count": null,
      "outputs": []
    }
  ]
}
{
 "cells": [
  {
   "cell_type": "markdown",
   "metadata": {},
   "source": [
    "# Using the Titanic DataSet as a Case Study to compare Active and Passive Learning"
   ]
  },
  {
   "cell_type": "markdown",
   "metadata": {},
   "source": [
    "On April 15, 1912 during her maiden voyage, the \"unsinkable\" RMS Titanic sank 1 hour after colliding wiht an iceberge. It is one of the most infamous maritime disasters in history, and has inspired several cultural references including the Award-winning James Cameron movie of the same name. \n",
    "\n",
    "1502 out of 2224 passengers died in the sinking. Some people were more likely to survive than others. This dataset was first created by Kaggle to answer the question \"What sort of people were more likely to survive the sinking?\" It is a popular ML challenge, and highly recommended to first-time challengers. \n",
    "\n",
    "The purpose of this experiment is to create a predictive model using two strategies: Active Learning and Passive Learning, and compare the differences, pros and cons of each process, as well as their evaluation metrics."
   ]
  },
  {
   "cell_type": "code",
   "execution_count": 1,
   "metadata": {},
   "outputs": [],
   "source": [
    "# Load the Data into variable df\n",
    "import pandas as pd\n",
    "import numpy as np\n",
    "import seaborn as sns\n",
    "import matplotlib.pyplot as plt"
   ]
  },
  {
   "cell_type": "code",
   "execution_count": 73,
   "metadata": {},
   "outputs": [],
   "source": [
    "df = pd.read_csv('titanic_dataset.csv')\n",
    "# display(df)\n",
    "# display(df.head(3))\n",
    "# display(df.info())"
   ]
  },
  {
   "cell_type": "markdown",
   "metadata": {},
   "source": [
    "**Observations**:\n",
    "* 12 columns, 891 records.\n",
    "* Missing data in cabon and Embarked and Age. Can we infer the missing data or will we have to delete these information?"
   ]
  },
  {
   "cell_type": "markdown",
   "metadata": {},
   "source": [
    "## Data Exploration\n",
    "\n",
    "For the purposes of this, we will keep the data exploration simple and restricted to these questions:\n",
    "\n",
    "1. Can we fill the missing values for Cabins, Embarked and Age?\n",
    "2. Are the Cabin numbers significant i.e. correlated to class?\n",
    "3. Can we find any trends in the missing Age feature wrt the other features\n",
    "4. Is there any correlation between a person's family (last name) and their chances of survival?"
   ]
  },
  {
   "cell_type": "markdown",
   "metadata": {},
   "source": [
    "**Question**: Are certain classes more likely to have missing records than others?"
   ]
  },
  {
   "cell_type": "code",
   "execution_count": null,
   "metadata": {},
   "outputs": [
    {
     "name": "stdout",
     "output_type": "stream",
     "text": [
      "Fraction of missing Age records per Pclass\n"
     ]
    },
    {
     "data": {
      "text/plain": [
       "1    0.138889\n",
       "2    0.059783\n",
       "3    0.276986\n",
       "Name: Pclass, dtype: float64"
      ]
     },
     "metadata": {},
     "output_type": "display_data"
    },
    {
     "name": "stdout",
     "output_type": "stream",
     "text": [
      "Fraction of missing Cabin records per Pclass\n",
      "Fraction of missing Cabin records per Pclass\n"
     ]
    }
   ],
   "source": [
    "missing_cols = ['Age', 'Cabin', 'Embarked']\n",
    "filter_survived = df['Survived'] == 1\n",
    "\n",
    "for col in missing_cols:\n",
    "    filter = df[col].isna()\n",
    "    print(f'Fraction of missing {col} records per Pclass')\n",
    "    display(df[filter]['Pclass'].value_counts() / df['Pclass'].value_counts().sort_values())\n"
   ]
  },
  {
   "cell_type": "markdown",
   "metadata": {},
   "source": [
    "**Question**: What is the survival rate for missing records?"
   ]
  },
  {
   "cell_type": "code",
   "execution_count": 5,
   "metadata": {},
   "outputs": [
    {
     "name": "stdout",
     "output_type": "stream",
     "text": [
      "Survival of missing Age records is 0.2937853107344633\n",
      "Survival of not-missing Age records is 0.4061624649859944\n",
      "Survival of missing Cabin records is 0.29985443959243085\n",
      "Survival of not-missing Cabin records is 0.6666666666666666\n"
     ]
    }
   ],
   "source": [
    "for col in ['Age', 'Cabin']:\n",
    "    null_frac = df[filter_survived][col].isna().sum()/df[col].isna().sum()\n",
    "    notnull_frac = df[filter_survived][col].notna().sum()/df[col].notna().sum()\n",
    "    print (f\"Survival of missing {col} records is {null_frac}\")\n",
    "    print (f\"Survival of not-missing {col} records is {notnull_frac}\")\n",
    "    \n",
    "    "
   ]
  },
  {
   "cell_type": "markdown",
   "metadata": {},
   "source": [
    "**Observations**: \n",
    "`Pclass == 1` passesngers are less likely to have 'Unknown' cabin numbers. \n",
    "\n",
    "`Pclass == 1` passengers are the only ones with missing Embarked records\n",
    "\n",
    "`Pclass == 3` are most likely to have missing Age records, followed by 1 and 2. Strategy would be to fill missing Age values by median/mean of class.\n",
    "\n",
    "The `Cabin` has a significant correlation with survival rate."
   ]
  },
  {
   "cell_type": "code",
   "execution_count": 6,
   "metadata": {},
   "outputs": [
    {
     "data": {
      "text/html": [
       "<div>\n",
       "<style scoped>\n",
       "    .dataframe tbody tr th:only-of-type {\n",
       "        vertical-align: middle;\n",
       "    }\n",
       "\n",
       "    .dataframe tbody tr th {\n",
       "        vertical-align: top;\n",
       "    }\n",
       "\n",
       "    .dataframe thead th {\n",
       "        text-align: right;\n",
       "    }\n",
       "</style>\n",
       "<table border=\"1\" class=\"dataframe\">\n",
       "  <thead>\n",
       "    <tr style=\"text-align: right;\">\n",
       "      <th></th>\n",
       "      <th>PassengerId</th>\n",
       "      <th>Survived</th>\n",
       "      <th>Pclass</th>\n",
       "      <th>Name</th>\n",
       "      <th>Sex</th>\n",
       "      <th>Age</th>\n",
       "      <th>SibSp</th>\n",
       "      <th>Parch</th>\n",
       "      <th>Ticket</th>\n",
       "      <th>Fare</th>\n",
       "      <th>Cabin</th>\n",
       "      <th>Embarked</th>\n",
       "    </tr>\n",
       "  </thead>\n",
       "  <tbody>\n",
       "    <tr>\n",
       "      <th>61</th>\n",
       "      <td>62</td>\n",
       "      <td>1</td>\n",
       "      <td>1</td>\n",
       "      <td>Icard, Miss. Amelie</td>\n",
       "      <td>female</td>\n",
       "      <td>38.0</td>\n",
       "      <td>0</td>\n",
       "      <td>0</td>\n",
       "      <td>113572</td>\n",
       "      <td>80.0</td>\n",
       "      <td>B28</td>\n",
       "      <td>NaN</td>\n",
       "    </tr>\n",
       "    <tr>\n",
       "      <th>829</th>\n",
       "      <td>830</td>\n",
       "      <td>1</td>\n",
       "      <td>1</td>\n",
       "      <td>Stone, Mrs. George Nelson (Martha Evelyn)</td>\n",
       "      <td>female</td>\n",
       "      <td>62.0</td>\n",
       "      <td>0</td>\n",
       "      <td>0</td>\n",
       "      <td>113572</td>\n",
       "      <td>80.0</td>\n",
       "      <td>B28</td>\n",
       "      <td>NaN</td>\n",
       "    </tr>\n",
       "  </tbody>\n",
       "</table>\n",
       "</div>"
      ],
      "text/plain": [
       "     PassengerId  Survived  Pclass                                       Name  \\\n",
       "61            62         1       1                        Icard, Miss. Amelie   \n",
       "829          830         1       1  Stone, Mrs. George Nelson (Martha Evelyn)   \n",
       "\n",
       "        Sex   Age  SibSp  Parch  Ticket  Fare Cabin Embarked  \n",
       "61   female  38.0      0      0  113572  80.0   B28      NaN  \n",
       "829  female  62.0      0      0  113572  80.0   B28      NaN  "
      ]
     },
     "metadata": {},
     "output_type": "display_data"
    },
    {
     "data": {
      "text/html": [
       "<div>\n",
       "<style scoped>\n",
       "    .dataframe tbody tr th:only-of-type {\n",
       "        vertical-align: middle;\n",
       "    }\n",
       "\n",
       "    .dataframe tbody tr th {\n",
       "        vertical-align: top;\n",
       "    }\n",
       "\n",
       "    .dataframe thead th {\n",
       "        text-align: right;\n",
       "    }\n",
       "</style>\n",
       "<table border=\"1\" class=\"dataframe\">\n",
       "  <thead>\n",
       "    <tr style=\"text-align: right;\">\n",
       "      <th></th>\n",
       "      <th>PassengerId</th>\n",
       "      <th>Survived</th>\n",
       "      <th>Pclass</th>\n",
       "      <th>Name</th>\n",
       "      <th>Sex</th>\n",
       "      <th>Age</th>\n",
       "      <th>SibSp</th>\n",
       "      <th>Parch</th>\n",
       "      <th>Ticket</th>\n",
       "      <th>Fare</th>\n",
       "      <th>Cabin</th>\n",
       "      <th>Embarked</th>\n",
       "    </tr>\n",
       "  </thead>\n",
       "  <tbody>\n",
       "    <tr>\n",
       "      <th>356</th>\n",
       "      <td>357</td>\n",
       "      <td>1</td>\n",
       "      <td>1</td>\n",
       "      <td>Bowerman, Miss. Elsie Edith</td>\n",
       "      <td>female</td>\n",
       "      <td>22.0</td>\n",
       "      <td>0</td>\n",
       "      <td>1</td>\n",
       "      <td>113505</td>\n",
       "      <td>55.0000</td>\n",
       "      <td>E33</td>\n",
       "      <td>S</td>\n",
       "    </tr>\n",
       "    <tr>\n",
       "      <th>54</th>\n",
       "      <td>55</td>\n",
       "      <td>0</td>\n",
       "      <td>1</td>\n",
       "      <td>Ostby, Mr. Engelhart Cornelius</td>\n",
       "      <td>male</td>\n",
       "      <td>65.0</td>\n",
       "      <td>0</td>\n",
       "      <td>1</td>\n",
       "      <td>113509</td>\n",
       "      <td>61.9792</td>\n",
       "      <td>B30</td>\n",
       "      <td>C</td>\n",
       "    </tr>\n",
       "    <tr>\n",
       "      <th>351</th>\n",
       "      <td>352</td>\n",
       "      <td>0</td>\n",
       "      <td>1</td>\n",
       "      <td>Williams-Lambert, Mr. Fletcher Fellows</td>\n",
       "      <td>male</td>\n",
       "      <td>NaN</td>\n",
       "      <td>0</td>\n",
       "      <td>0</td>\n",
       "      <td>113510</td>\n",
       "      <td>35.0000</td>\n",
       "      <td>C128</td>\n",
       "      <td>S</td>\n",
       "    </tr>\n",
       "    <tr>\n",
       "      <th>252</th>\n",
       "      <td>253</td>\n",
       "      <td>0</td>\n",
       "      <td>1</td>\n",
       "      <td>Stead, Mr. William Thomas</td>\n",
       "      <td>male</td>\n",
       "      <td>62.0</td>\n",
       "      <td>0</td>\n",
       "      <td>0</td>\n",
       "      <td>113514</td>\n",
       "      <td>26.5500</td>\n",
       "      <td>C87</td>\n",
       "      <td>S</td>\n",
       "    </tr>\n",
       "    <tr>\n",
       "      <th>61</th>\n",
       "      <td>62</td>\n",
       "      <td>1</td>\n",
       "      <td>1</td>\n",
       "      <td>Icard, Miss. Amelie</td>\n",
       "      <td>female</td>\n",
       "      <td>38.0</td>\n",
       "      <td>0</td>\n",
       "      <td>0</td>\n",
       "      <td>113572</td>\n",
       "      <td>80.0000</td>\n",
       "      <td>B28</td>\n",
       "      <td>NaN</td>\n",
       "    </tr>\n",
       "    <tr>\n",
       "      <th>829</th>\n",
       "      <td>830</td>\n",
       "      <td>1</td>\n",
       "      <td>1</td>\n",
       "      <td>Stone, Mrs. George Nelson (Martha Evelyn)</td>\n",
       "      <td>female</td>\n",
       "      <td>62.0</td>\n",
       "      <td>0</td>\n",
       "      <td>0</td>\n",
       "      <td>113572</td>\n",
       "      <td>80.0000</td>\n",
       "      <td>B28</td>\n",
       "      <td>NaN</td>\n",
       "    </tr>\n",
       "    <tr>\n",
       "      <th>435</th>\n",
       "      <td>436</td>\n",
       "      <td>1</td>\n",
       "      <td>1</td>\n",
       "      <td>Carter, Miss. Lucile Polk</td>\n",
       "      <td>female</td>\n",
       "      <td>14.0</td>\n",
       "      <td>1</td>\n",
       "      <td>2</td>\n",
       "      <td>113760</td>\n",
       "      <td>120.0000</td>\n",
       "      <td>B96 B98</td>\n",
       "      <td>S</td>\n",
       "    </tr>\n",
       "    <tr>\n",
       "      <th>390</th>\n",
       "      <td>391</td>\n",
       "      <td>1</td>\n",
       "      <td>1</td>\n",
       "      <td>Carter, Mr. William Ernest</td>\n",
       "      <td>male</td>\n",
       "      <td>36.0</td>\n",
       "      <td>1</td>\n",
       "      <td>2</td>\n",
       "      <td>113760</td>\n",
       "      <td>120.0000</td>\n",
       "      <td>B96 B98</td>\n",
       "      <td>S</td>\n",
       "    </tr>\n",
       "    <tr>\n",
       "      <th>802</th>\n",
       "      <td>803</td>\n",
       "      <td>1</td>\n",
       "      <td>1</td>\n",
       "      <td>Carter, Master. William Thornton II</td>\n",
       "      <td>male</td>\n",
       "      <td>11.0</td>\n",
       "      <td>1</td>\n",
       "      <td>2</td>\n",
       "      <td>113760</td>\n",
       "      <td>120.0000</td>\n",
       "      <td>B96 B98</td>\n",
       "      <td>S</td>\n",
       "    </tr>\n",
       "    <tr>\n",
       "      <th>763</th>\n",
       "      <td>764</td>\n",
       "      <td>1</td>\n",
       "      <td>1</td>\n",
       "      <td>Carter, Mrs. William Ernest (Lucile Polk)</td>\n",
       "      <td>female</td>\n",
       "      <td>36.0</td>\n",
       "      <td>1</td>\n",
       "      <td>2</td>\n",
       "      <td>113760</td>\n",
       "      <td>120.0000</td>\n",
       "      <td>B96 B98</td>\n",
       "      <td>S</td>\n",
       "    </tr>\n",
       "  </tbody>\n",
       "</table>\n",
       "</div>"
      ],
      "text/plain": [
       "     PassengerId  Survived  Pclass                                       Name  \\\n",
       "356          357         1       1                Bowerman, Miss. Elsie Edith   \n",
       "54            55         0       1             Ostby, Mr. Engelhart Cornelius   \n",
       "351          352         0       1     Williams-Lambert, Mr. Fletcher Fellows   \n",
       "252          253         0       1                  Stead, Mr. William Thomas   \n",
       "61            62         1       1                        Icard, Miss. Amelie   \n",
       "829          830         1       1  Stone, Mrs. George Nelson (Martha Evelyn)   \n",
       "435          436         1       1                  Carter, Miss. Lucile Polk   \n",
       "390          391         1       1                 Carter, Mr. William Ernest   \n",
       "802          803         1       1        Carter, Master. William Thornton II   \n",
       "763          764         1       1  Carter, Mrs. William Ernest (Lucile Polk)   \n",
       "\n",
       "        Sex   Age  SibSp  Parch  Ticket      Fare    Cabin Embarked  \n",
       "356  female  22.0      0      1  113505   55.0000      E33        S  \n",
       "54     male  65.0      0      1  113509   61.9792      B30        C  \n",
       "351    male   NaN      0      0  113510   35.0000     C128        S  \n",
       "252    male  62.0      0      0  113514   26.5500      C87        S  \n",
       "61   female  38.0      0      0  113572   80.0000      B28      NaN  \n",
       "829  female  62.0      0      0  113572   80.0000      B28      NaN  \n",
       "435  female  14.0      1      2  113760  120.0000  B96 B98        S  \n",
       "390    male  36.0      1      2  113760  120.0000  B96 B98        S  \n",
       "802    male  11.0      1      2  113760  120.0000  B96 B98        S  \n",
       "763  female  36.0      1      2  113760  120.0000  B96 B98        S  "
      ]
     },
     "execution_count": 6,
     "metadata": {},
     "output_type": "execute_result"
    }
   ],
   "source": [
    "# exploring Embarked further...\n",
    "filter = df['Embarked'].isna()\n",
    "display(df[filter])\n",
    "# sorting the records by ticket number to see where these particular values fall \n",
    "df.sort_values('Ticket')[35:45]"
   ]
  },
  {
   "cell_type": "markdown",
   "metadata": {},
   "source": [
    "**Observation**: Strong likelihood, that based on ticket number these passengers embarked at `S`."
   ]
  },
  {
   "cell_type": "code",
   "execution_count": 7,
   "metadata": {},
   "outputs": [
    {
     "data": {
      "image/png": "[encoded data removed]",
      "text/plain": [
       "<Figure size 300x300 with 1 Axes>"
      ]
     },
     "metadata": {},
     "output_type": "display_data"
    },
    {
     "data": {
      "image/png": "[encoded data removed]",
      "text/plain": [
       "<Figure size 300x300 with 1 Axes>"
      ]
     },
     "metadata": {},
     "output_type": "display_data"
    },
    {
     "data": {
      "image/png": "[encoded data removed]",
      "text/plain": [
       "<Figure size 300x300 with 1 Axes>"
      ]
     },
     "metadata": {},
     "output_type": "display_data"
    }
   ],
   "source": [
    "for cat in ['Pclass', 'Sex', 'Embarked']:\n",
    "    fig = plt.figure(figsize=(3,3))\n",
    "    sns.barplot(data=df, x=cat, y='Age')\n",
    "    plt.show()"
   ]
  },
  {
   "cell_type": "markdown",
   "metadata": {},
   "source": [
    "```python\n",
    "from scipy.stats import f_oneway\n",
    "   \n",
    "for col in ['Pclass', 'Sex', 'Embarked']:    \n",
    "    catgroup = df.groupby(col)['Age'].apply(list)\n",
    "    p = f_oneway(*catgroup)[1]\n",
    "    display(p)\n",
    "    print (f\"Age and {col} are\",\n",
    "          \"correlated.\" if p<0.05 else \"not correlated.\")\n",
    "```\n"
   ]
  },
  {
   "cell_type": "code",
   "execution_count": 8,
   "metadata": {},
   "outputs": [
    {
     "name": "stdout",
     "output_type": "stream",
     "text": [
      "0.031\n",
      "We reject the Hypothesis that Last Name and Survial rate are independent\n"
     ]
    }
   ],
   "source": [
    "# Last Names and chances of Survival\n",
    "\n",
    "df['LastName'] = df['Name'].apply(lambda x: x.split(\",\")[0])\n",
    "contingency = pd.crosstab(df['LastName'], df['Survived'])\n",
    "from scipy import stats\n",
    "stat, p, dof, expected = stats.chi2_contingency(contingency)\n",
    "print('%.3f' % p)\n",
    "print (\"We\", \n",
    "       \"reject\" if p < 0.05 else \"accept\",\n",
    "       \"the Hypothesis that Last Name and Survial rate are independent\")"
   ]
  },
  {
   "cell_type": "code",
   "execution_count": 9,
   "metadata": {},
   "outputs": [
    {
     "data": {
      "image/png": "[encoded data removed]",
      "text/plain": [
       "<Figure size 640x480 with 1 Axes>"
      ]
     },
     "metadata": {},
     "output_type": "display_data"
    },
    {
     "data": {
      "image/png": "[encoded data removed]",
      "text/plain": [
       "<Figure size 640x480 with 1 Axes>"
      ]
     },
     "metadata": {},
     "output_type": "display_data"
    }
   ],
   "source": [
    "Age = df['Age']\n",
    "Age.plot(kind='hist', bins=20)\n",
    "plt.show()\n",
    "from sklearn.preprocessing import PowerTransformer\n",
    "\n",
    "bc = PowerTransformer(method=\"box-cox\")\n",
    "X_trans_bc = bc.fit(Age.values.reshape(-1,1)).transform(Age.values.reshape(-1,1))\n",
    "plt.hist((X_trans_bc))\n",
    "plt.show()\n"
   ]
  },
  {
   "cell_type": "markdown",
   "metadata": {},
   "source": [
    "## Features Engineering\n",
    "\n",
    "\n",
    "There are many more ways to explore this data and consequently develop informative Features. However for the purpose of this analysis which is more related to Active Learning, we will keep our strategy simple:\n",
    "\n",
    "1. Disregard information about Tickets and Fare\n",
    "2. Reduce Cabin to \"Known\" and \"Unknown\" due to the correlation between the rate of survival of Cabin passengers\n",
    "3. Fill the missing information about 'Embarked' with 'S', based on the ticket pattern and most commonly embarked port.\n",
    "4. Reduce 'SibSp' and 'Parch' which are all indications of travelling with family/companions to With_Family\n",
    "5. Use the average value for Ages according to Sex and Pclass to fill the missing Ages."
   ]
  },
  {
   "cell_type": "code",
   "execution_count": 10,
   "metadata": {},
   "outputs": [],
   "source": [
    "df_old = df.copy() # back up for the dataset"
   ]
  },
  {
   "cell_type": "code",
   "execution_count": 11,
   "metadata": {},
   "outputs": [],
   "source": [
    "df = df.drop(columns=['PassengerId', 'Ticket', 'Fare'])\n",
    "df['Cabin_Info'] = df['Cabin'].apply(lambda x: 1 if x else 0)\n",
    "df['Embarked'] = df['Embarked'].fillna('S')\n",
    "df['Family'] = None\n",
    "for idx in df.index:\n",
    "    df.loc[idx, 'Family'] = 1 if (df.loc[idx, 'SibSp'] > 0 or df.loc[idx, 'Parch'] > 0) else 0\n",
    "df = df.drop(columns=['SibSp', 'Parch', 'Cabin'])  "
   ]
  },
  {
   "cell_type": "code",
   "execution_count": 12,
   "metadata": {},
   "outputs": [
    {
     "data": {
      "text/plain": [
       "Pclass  Sex   \n",
       "1       female    34.611765\n",
       "        male      41.281386\n",
       "2       female    28.722973\n",
       "        male      30.740707\n",
       "3       female    21.750000\n",
       "        male      26.507589\n",
       "Name: Age, dtype: float64"
      ]
     },
     "execution_count": 12,
     "metadata": {},
     "output_type": "execute_result"
    }
   ],
   "source": [
    "df.groupby(['Pclass', 'Sex'])['Age'].mean()"
   ]
  },
  {
   "cell_type": "code",
   "execution_count": 13,
   "metadata": {},
   "outputs": [],
   "source": [
    "age_by_sex_class = df.groupby(['Pclass', 'Sex'])['Age'].mean()\n",
    "age_by_sex_class\n",
    "for idx in df[df['Age'].isna()].index:\n",
    "    mean_age = age_by_sex_class[age_by_sex_class.index == tuple([df.loc[idx,'Pclass'], df.loc[idx,'Sex']])].values[0]\n",
    "    df.loc[idx,'Age'] = mean_age"
   ]
  },
  {
   "cell_type": "code",
   "execution_count": 14,
   "metadata": {},
   "outputs": [
    {
     "data": {
      "text/html": [
       "<div>\n",
       "<style scoped>\n",
       "    .dataframe tbody tr th:only-of-type {\n",
       "        vertical-align: middle;\n",
       "    }\n",
       "\n",
       "    .dataframe tbody tr th {\n",
       "        vertical-align: top;\n",
       "    }\n",
       "\n",
       "    .dataframe thead th {\n",
       "        text-align: right;\n",
       "    }\n",
       "</style>\n",
       "<table border=\"1\" class=\"dataframe\">\n",
       "  <thead>\n",
       "    <tr style=\"text-align: right;\">\n",
       "      <th></th>\n",
       "      <th>Survived</th>\n",
       "      <th>Pclass</th>\n",
       "      <th>Name</th>\n",
       "      <th>Sex</th>\n",
       "      <th>Age</th>\n",
       "      <th>Embarked</th>\n",
       "      <th>LastName</th>\n",
       "      <th>CabinNumber</th>\n",
       "      <th>Family</th>\n",
       "    </tr>\n",
       "  </thead>\n",
       "  <tbody>\n",
       "    <tr>\n",
       "      <th>0</th>\n",
       "      <td>0</td>\n",
       "      <td>3</td>\n",
       "      <td>Braund, Mr. Owen Harris</td>\n",
       "      <td>male</td>\n",
       "      <td>22.00</td>\n",
       "      <td>S</td>\n",
       "      <td>Braund</td>\n",
       "      <td>1</td>\n",
       "      <td>1</td>\n",
       "    </tr>\n",
       "    <tr>\n",
       "      <th>1</th>\n",
       "      <td>1</td>\n",
       "      <td>1</td>\n",
       "      <td>Cumings, Mrs. John Bradley (Florence Briggs Th...</td>\n",
       "      <td>female</td>\n",
       "      <td>38.00</td>\n",
       "      <td>C</td>\n",
       "      <td>Cumings</td>\n",
       "      <td>1</td>\n",
       "      <td>1</td>\n",
       "    </tr>\n",
       "    <tr>\n",
       "      <th>2</th>\n",
       "      <td>1</td>\n",
       "      <td>3</td>\n",
       "      <td>Heikkinen, Miss. Laina</td>\n",
       "      <td>female</td>\n",
       "      <td>26.00</td>\n",
       "      <td>S</td>\n",
       "      <td>Heikkinen</td>\n",
       "      <td>1</td>\n",
       "      <td>0</td>\n",
       "    </tr>\n",
       "    <tr>\n",
       "      <th>3</th>\n",
       "      <td>1</td>\n",
       "      <td>1</td>\n",
       "      <td>Futrelle, Mrs. Jacques Heath (Lily May Peel)</td>\n",
       "      <td>female</td>\n",
       "      <td>35.00</td>\n",
       "      <td>S</td>\n",
       "      <td>Futrelle</td>\n",
       "      <td>1</td>\n",
       "      <td>1</td>\n",
       "    </tr>\n",
       "    <tr>\n",
       "      <th>4</th>\n",
       "      <td>0</td>\n",
       "      <td>3</td>\n",
       "      <td>Allen, Mr. William Henry</td>\n",
       "      <td>male</td>\n",
       "      <td>35.00</td>\n",
       "      <td>S</td>\n",
       "      <td>Allen</td>\n",
       "      <td>1</td>\n",
       "      <td>0</td>\n",
       "    </tr>\n",
       "    <tr>\n",
       "      <th>...</th>\n",
       "      <td>...</td>\n",
       "      <td>...</td>\n",
       "      <td>...</td>\n",
       "      <td>...</td>\n",
       "      <td>...</td>\n",
       "      <td>...</td>\n",
       "      <td>...</td>\n",
       "      <td>...</td>\n",
       "      <td>...</td>\n",
       "    </tr>\n",
       "    <tr>\n",
       "      <th>886</th>\n",
       "      <td>0</td>\n",
       "      <td>2</td>\n",
       "      <td>Montvila, Rev. Juozas</td>\n",
       "      <td>male</td>\n",
       "      <td>27.00</td>\n",
       "      <td>S</td>\n",
       "      <td>Montvila</td>\n",
       "      <td>1</td>\n",
       "      <td>0</td>\n",
       "    </tr>\n",
       "    <tr>\n",
       "      <th>887</th>\n",
       "      <td>1</td>\n",
       "      <td>1</td>\n",
       "      <td>Graham, Miss. Margaret Edith</td>\n",
       "      <td>female</td>\n",
       "      <td>19.00</td>\n",
       "      <td>S</td>\n",
       "      <td>Graham</td>\n",
       "      <td>1</td>\n",
       "      <td>0</td>\n",
       "    </tr>\n",
       "    <tr>\n",
       "      <th>888</th>\n",
       "      <td>0</td>\n",
       "      <td>3</td>\n",
       "      <td>Johnston, Miss. Catherine Helen \"Carrie\"</td>\n",
       "      <td>female</td>\n",
       "      <td>21.75</td>\n",
       "      <td>S</td>\n",
       "      <td>Johnston</td>\n",
       "      <td>1</td>\n",
       "      <td>1</td>\n",
       "    </tr>\n",
       "    <tr>\n",
       "      <th>889</th>\n",
       "      <td>1</td>\n",
       "      <td>1</td>\n",
       "      <td>Behr, Mr. Karl Howell</td>\n",
       "      <td>male</td>\n",
       "      <td>26.00</td>\n",
       "      <td>C</td>\n",
       "      <td>Behr</td>\n",
       "      <td>1</td>\n",
       "      <td>0</td>\n",
       "    </tr>\n",
       "    <tr>\n",
       "      <th>890</th>\n",
       "      <td>0</td>\n",
       "      <td>3</td>\n",
       "      <td>Dooley, Mr. Patrick</td>\n",
       "      <td>male</td>\n",
       "      <td>32.00</td>\n",
       "      <td>Q</td>\n",
       "      <td>Dooley</td>\n",
       "      <td>1</td>\n",
       "      <td>0</td>\n",
       "    </tr>\n",
       "  </tbody>\n",
       "</table>\n",
       "<p>891 rows × 9 columns</p>\n",
       "</div>"
      ],
      "text/plain": [
       "     Survived  Pclass                                               Name  \\\n",
       "0           0       3                            Braund, Mr. Owen Harris   \n",
       "1           1       1  Cumings, Mrs. John Bradley (Florence Briggs Th...   \n",
       "2           1       3                             Heikkinen, Miss. Laina   \n",
       "3           1       1       Futrelle, Mrs. Jacques Heath (Lily May Peel)   \n",
       "4           0       3                           Allen, Mr. William Henry   \n",
       "..        ...     ...                                                ...   \n",
       "886         0       2                              Montvila, Rev. Juozas   \n",
       "887         1       1                       Graham, Miss. Margaret Edith   \n",
       "888         0       3           Johnston, Miss. Catherine Helen \"Carrie\"   \n",
       "889         1       1                              Behr, Mr. Karl Howell   \n",
       "890         0       3                                Dooley, Mr. Patrick   \n",
       "\n",
       "        Sex    Age Embarked   LastName  CabinNumber Family  \n",
       "0      male  22.00        S     Braund            1      1  \n",
       "1    female  38.00        C    Cumings            1      1  \n",
       "2    female  26.00        S  Heikkinen            1      0  \n",
       "3    female  35.00        S   Futrelle            1      1  \n",
       "4      male  35.00        S      Allen            1      0  \n",
       "..      ...    ...      ...        ...          ...    ...  \n",
       "886    male  27.00        S   Montvila            1      0  \n",
       "887  female  19.00        S     Graham            1      0  \n",
       "888  female  21.75        S   Johnston            1      1  \n",
       "889    male  26.00        C       Behr            1      0  \n",
       "890    male  32.00        Q     Dooley            1      0  \n",
       "\n",
       "[891 rows x 9 columns]"
      ]
     },
     "execution_count": 14,
     "metadata": {},
     "output_type": "execute_result"
    }
   ],
   "source": [
    "df"
   ]
  },
  {
   "cell_type": "code",
   "execution_count": 15,
   "metadata": {},
   "outputs": [],
   "source": [
    "df['LastName'] = df['Name'].apply(lambda x: x.split(\",\")[0])\n",
    "last_name_odds = df.groupby('LastName')['Survived'].mean()"
   ]
  },
  {
   "cell_type": "code",
   "execution_count": 16,
   "metadata": {},
   "outputs": [],
   "source": [
    "for idx in df.index:\n",
    "    df.loc[idx,'LastNameOdds'] = last_name_odds[last_name_odds.index == df.loc[idx,'LastName']].values\n",
    "df.drop(columns='LastName', inplace=True)"
   ]
  },
  {
   "cell_type": "code",
   "execution_count": 17,
   "metadata": {},
   "outputs": [
    {
     "name": "stdout",
     "output_type": "stream",
     "text": [
      "<class 'pandas.core.frame.DataFrame'>\n",
      "RangeIndex: 891 entries, 0 to 890\n",
      "Data columns (total 9 columns):\n",
      " #   Column        Non-Null Count  Dtype  \n",
      "---  ------        --------------  -----  \n",
      " 0   Survived      891 non-null    int64  \n",
      " 1   Pclass        891 non-null    int64  \n",
      " 2   Name          891 non-null    object \n",
      " 3   Sex           891 non-null    object \n",
      " 4   Age           891 non-null    float64\n",
      " 5   Embarked      891 non-null    object \n",
      " 6   CabinNumber   891 non-null    int64  \n",
      " 7   Family        891 non-null    object \n",
      " 8   LastNameOdds  891 non-null    float64\n",
      "dtypes: float64(2), int64(3), object(4)\n",
      "memory usage: 62.8+ KB\n"
     ]
    }
   ],
   "source": [
    "df.info()"
   ]
  },
  {
   "cell_type": "code",
   "execution_count": null,
   "metadata": {},
   "outputs": [],
   "source": []
  },
  {
   "cell_type": "markdown",
   "metadata": {},
   "source": [
    "# Building the Model\n",
    "\n",
    "- Require Imputer to fill missing values in Embarked (most frequent). \n",
    "- Require Class function to fill missing values for Age\n",
    "- Require Class function to create new columns CabinInfo and LastNameOdds (defaults to 0)"
   ]
  },
  {
   "cell_type": "code",
   "execution_count": 18,
   "metadata": {},
   "outputs": [],
   "source": [
    "class CustomImputer():\n",
    "    \"\"\"\n",
    "    Custom class to fill in the missing values of Age\n",
    "    based on aggregate means on the Pclass and Sex dimensions\n",
    "    This class will be re-instantiated after each Active Learning iteration\n",
    "    \"\"\"\n",
    "    def __init__(self, df):\n",
    "        # dictionary of missing values\n",
    "        self.age_by_sex_class = df.groupby(['Pclass', 'Sex'])['Age'].mean() \n",
    "\n",
    "        \n",
    "    def fit(self, X, y=None):\n",
    "        return self\n",
    "    def transform(self, X, y=None):\n",
    "        X = X.copy()\n",
    "        for idx in X[X['Age'].isna()].index:\n",
    "            mean_age = self.age_by_sex_class[self.age_by_sex_class.index == tuple([X.loc[idx,'Pclass'], X.loc[idx,'Sex']])].values[0]\n",
    "            X.loc[idx,'Age'] = mean_age \n",
    "        return X['Age'].values.reshape(-1,1) # required for the scalars"
   ]
  },
  {
   "cell_type": "code",
   "execution_count": 19,
   "metadata": {},
   "outputs": [
    {
     "data": {
      "text/plain": [
       "177"
      ]
     },
     "metadata": {},
     "output_type": "display_data"
    },
    {
     "data": {
      "text/plain": [
       "0"
      ]
     },
     "execution_count": 19,
     "metadata": {},
     "output_type": "execute_result"
    }
   ],
   "source": [
    "# testing the CustomImputer() class\n",
    "X = df_old.copy()\n",
    "display(X['Age'].isna().sum()) # sum of missing ages before transformation\n",
    "colgen_ = CustomImputer(df_old)\n",
    "data = colgen_.transform(X)\n",
    "np.count_nonzero(np.isnan(data))\n",
    "# colgen_.transform(X)['Age'].isna().sum() # sum of missing ages after transformation, should be 0 to pass"
   ]
  },
  {
   "cell_type": "code",
   "execution_count": 69,
   "metadata": {},
   "outputs": [],
   "source": [
    "# create a class \n",
    "class ColumnGenerator():\n",
    "    '''creates the CabinInfo and LastNameOdds columns''' \n",
    "    def __init__(self, df):\n",
    "        df = df.copy()\n",
    "        df['LastName'] = df['Name'].apply(lambda x: x.split(\",\")[0])\n",
    "        self.LastNames = df['LastName'].to_list()\n",
    "        self.last_name_odds = df.groupby('LastName')['Survived'].mean()\n",
    "\n",
    "        \n",
    "        \n",
    "    def fit(self, X=None, y=None):\n",
    "        return self\n",
    "    \n",
    "    def transform(self, X, y=None):\n",
    "        X = X.copy()\n",
    "        X['LastNameOdds'] = None\n",
    "        X['CabinInfo'] = X['Cabin'].apply(lambda x: 1 if x else 0)\n",
    "        X['LastName'] = X['Name'].apply(lambda x: x.split(\",\")[0])\n",
    "        X['Family'] = None\n",
    "\n",
    "        for idx in X.index:\n",
    "            if X.loc[idx,'LastName'] in self.LastNames:\n",
    "#                 pass\n",
    "                X.loc[idx,'LastNameOdds'] = self.last_name_odds[self.last_name_odds.index == X.loc[idx,'LastName']].values[0]\n",
    "            else:\n",
    "                X['LastNameOdds'] = X['LastNameOdds'].fillna(0.5)\n",
    "            # if last name is not on the list, it will be filled with 0.5            \n",
    "            \n",
    "            X.loc[idx, 'Family'] = 1 if (X.loc[idx, 'SibSp'] > 0 or X.loc[idx, 'Parch'] > 0) else 0\n",
    "        # fill missing values\n",
    "        X['Family'] = X['Family'].fillna(0)\n",
    "        X['LastNameOdds'] = X['LastNameOdds'].fillna(0)\n",
    "\n",
    "        X = X.drop(columns=['PassengerId', 'Name', 'SibSp', 'Parch', 'Ticket', 'Fare', 'Cabin', 'LastName'])    \n",
    "        return X"
   ]
  },
  {
   "cell_type": "code",
   "execution_count": 21,
   "metadata": {},
   "outputs": [
    {
     "data": {
      "text/plain": [
       "Survived          0\n",
       "Pclass            0\n",
       "Sex               0\n",
       "Age             177\n",
       "Embarked          2\n",
       "LastNameOdds      0\n",
       "CabinNumber       0\n",
       "Family            0\n",
       "dtype: int64"
      ]
     },
     "execution_count": 21,
     "metadata": {},
     "output_type": "execute_result"
    }
   ],
   "source": [
    "# testing the ColumnGenerator() class\n",
    "X = df_old.copy()\n",
    "colgen_ = ColumnGenerator(df_old)\n",
    "colgen_.transform(X).isna().sum()"
   ]
  },
  {
   "cell_type": "code",
   "execution_count": 22,
   "metadata": {},
   "outputs": [],
   "source": [
    "from sklearn.model_selection import train_test_split\n",
    "# separate label from features\n",
    "X = df_old.drop(columns='Survived')\n",
    "y = df_old['Survived']\n",
    "X_train, X_test, y_train, y_test = train_test_split(X, y, test_size=0.1)"
   ]
  },
  {
   "cell_type": "code",
   "execution_count": 23,
   "metadata": {},
   "outputs": [
    {
     "data": {
      "text/plain": [
       "(Index(['PassengerId', 'Pclass', 'Name', 'Sex', 'Age', 'SibSp', 'Parch',\n",
       "        'Ticket', 'Fare', 'Cabin', 'Embarked', 'LastName'],\n",
       "       dtype='object'),\n",
       " Index(['PassengerId', 'Survived', 'Pclass', 'Name', 'Sex', 'Age', 'SibSp',\n",
       "        'Parch', 'Ticket', 'Fare', 'Cabin', 'Embarked', 'LastName'],\n",
       "       dtype='object'))"
      ]
     },
     "execution_count": 23,
     "metadata": {},
     "output_type": "execute_result"
    }
   ],
   "source": [
    "X.columns, df_old.columns"
   ]
  },
  {
   "cell_type": "markdown",
   "metadata": {},
   "source": [
    "### Building the Pipeline"
   ]
  },
  {
   "cell_type": "code",
   "execution_count": 24,
   "metadata": {},
   "outputs": [],
   "source": [
    "\n",
    "from sklearn.compose import ColumnTransformer\n",
    "from sklearn.preprocessing import OneHotEncoder\n",
    "from sklearn.impute import SimpleImputer\n",
    "from sklearn.pipeline import Pipeline\n",
    "from sklearn.metrics import confusion_matrix\n",
    "from sklearn.base import BaseEstimator, TransformerMixin\n",
    "from sklearn.preprocessing import PowerTransformer\n",
    "\n",
    "from sklearn.model_selection import train_test_split\n",
    "from sklearn.decomposition import PCA\n",
    "from sklearn.preprocessing import StandardScaler, MinMaxScaler, RobustScaler, QuantileTransformer\n",
    "from sklearn.preprocessing import OrdinalEncoder, OneHotEncoder # for dependents, property area\n",
    "\n",
    "\n",
    "from sklearn.pipeline import FeatureUnion\n",
    "from sklearn.feature_selection import SelectKBest\n",
    "from sklearn.decomposition import PCA\n",
    "from sklearn.ensemble import RandomForestClassifier\n",
    "\n",
    "from sklearn.svm import SVC"
   ]
  },
  {
   "cell_type": "code",
   "execution_count": null,
   "metadata": {},
   "outputs": [],
   "source": []
  },
  {
   "cell_type": "markdown",
   "metadata": {},
   "source": [
    "### Preparing Training and Testing Data"
   ]
  },
  {
   "cell_type": "code",
   "execution_count": 25,
   "metadata": {},
   "outputs": [],
   "source": [
    "# TEST SAMPLE\n",
    "# USE THIS SAMPLE ONLY FOR TESTING\n",
    "# this sample will be also kept consistent in the Active Learning\n",
    "test_df = df_old.sample(n=100, random_state=394)\n",
    "\n",
    "#\n",
    "train_df = df_old[~df_old.PassengerId.isin(test_df.PassengerId.tolist())]\n",
    "X_train = train_df.drop(columns='Survived')\n",
    "y_train = train_df['Survived']\n",
    "X_test = test_df.drop(columns='Survived')\n",
    "y_test = test_df['Survived']"
   ]
  },
  {
   "cell_type": "markdown",
   "metadata": {},
   "source": [
    "**Checking for Class Imbalance**"
   ]
  },
  {
   "cell_type": "code",
   "execution_count": 26,
   "metadata": {},
   "outputs": [
    {
     "data": {
      "text/plain": [
       "0    489\n",
       "1    302\n",
       "Name: Survived, dtype: int64"
      ]
     },
     "execution_count": 26,
     "metadata": {},
     "output_type": "execute_result"
    }
   ],
   "source": [
    "y_train.value_counts()"
   ]
  },
  {
   "cell_type": "markdown",
   "metadata": {},
   "source": [
    "This is quite significant, so we shall try to update our training and test data to accomodate this class imbalance."
   ]
  },
  {
   "cell_type": "code",
   "execution_count": 27,
   "metadata": {},
   "outputs": [],
   "source": [
    "def class_balancing(df_, target_class, reduce_larger_class=False):\n",
    "    \"\"\"Takes df, checks for class imbalances\n",
    "    returns X and yq2 with proper balancing\n",
    "    Only works for binary classes at the moment.\n",
    "    \"\"\"\n",
    "\n",
    "\n",
    "    if reduce_larger_class:\n",
    "        Print (\"Does not have this function yet\")\n",
    "        return\n",
    "\n",
    "    df = df_.copy()\n",
    "    # extend the smaller class\n",
    "    y = df[target_class]\n",
    "    display(y.value_counts())\n",
    "\n",
    "    # find the larger value\n",
    "\n",
    "    imbalance = np.abs(y.value_counts()[0] - y.value_counts()[1])\n",
    "    smaller_class = np.argmin(y.value_counts()) \n",
    "\n",
    "    print(f\"We need {imbalance} new {smaller_class} records to offset class imbalance.\")\n",
    "\n",
    "\n",
    "    filter = y == smaller_class\n",
    "    tmp = df[filter].sample(n=imbalance, replace=True)\n",
    "\n",
    "    df_index = df.index.to_list() + tmp.index.to_list()\n",
    "    np.random.shuffle(df_index) # shuffling is important\n",
    "    df = df.loc[df_index].copy()\n",
    "    # checking the value counts\n",
    "    X = df.drop(columns=target_class)\n",
    "    y = df[target_class]\n",
    "    display(y.value_counts())\n",
    "\n",
    "    # reseting the index to handle the duplicated records.\n",
    "    X = X.reset_index(drop=True)\n",
    "    y = y.reset_index(drop=True)\n",
    "    return X, y"
   ]
  },
  {
   "cell_type": "code",
   "execution_count": 28,
   "metadata": {},
   "outputs": [
    {
     "data": {
      "text/plain": [
       "0    489\n",
       "1    302\n",
       "Name: Survived, dtype: int64"
      ]
     },
     "metadata": {},
     "output_type": "display_data"
    },
    {
     "name": "stdout",
     "output_type": "stream",
     "text": [
      "We need 187 new 1 records to offset class imbalance.\n"
     ]
    },
    {
     "data": {
      "text/plain": [
       "1    489\n",
       "0    489\n",
       "Name: Survived, dtype: int64"
      ]
     },
     "metadata": {},
     "output_type": "display_data"
    }
   ],
   "source": [
    "X_train, y_train = class_balancing(train_df, 'Survived')"
   ]
  },
  {
   "cell_type": "code",
   "execution_count": 72,
   "metadata": {},
   "outputs": [],
   "source": [
    "cat_transform = Pipeline([\n",
    "                    ('impute_mode', SimpleImputer(strategy='most_frequent')),\n",
    "                    ('onehot_encoder', OneHotEncoder(sparse_output=False))\n",
    "                    ])\n",
    "\n",
    "bin_transform = Pipeline([\n",
    "                    ('impute_mode', SimpleImputer(strategy='most_frequent')),\n",
    "                    ('onehot_encoder', OneHotEncoder(drop='if_binary', sparse_output=False))])\n",
    "\n",
    "num_transform = Pipeline([\n",
    "                    ('custom_imputer', CustomImputer(train_df)),\n",
    "                    ('power_transformer', PowerTransformer(method=\"box-cox\", standardize=True))])\n",
    "preprocessing = ColumnTransformer([\n",
    "                    ('cat_transform', cat_transform, ['Pclass', 'Embarked']),\n",
    "                    ('bin_transform', bin_transform, ['Sex']),\n",
    "                    ('num_transform', num_transform, ['Age', 'Pclass', 'Sex'])], # the 2 are required but will be dropped\n",
    "                remainder='passthrough')\n",
    "\n",
    "\n",
    "# creating the final pipeline\n",
    "model = Pipeline([\n",
    "                    ('add_new_columns', ColumnGenerator(train_df)),\n",
    "                    ('preprocessing', preprocessing), \n",
    "#                     ('classifier', SVC())\n",
    "                      ])"
   ]
  },
  {
   "cell_type": "code",
   "execution_count": 71,
   "metadata": {},
   "outputs": [
    {
     "data": {
      "text/html": [
       "<style>#sk-container-id-3 {color: black;background-color: white;}#sk-container-id-3 pre{padding: 0;}#sk-container-id-3 div.sk-toggleable {background-color: white;}#sk-container-id-3 label.sk-toggleable__label {cursor: pointer;display: block;width: 100%;margin-bottom: 0;padding: 0.3em;box-sizing: border-box;text-align: center;}#sk-container-id-3 label.sk-toggleable__label-arrow:before {content: \"▸\";float: left;margin-right: 0.25em;color: #696969;}#sk-container-id-3 label.sk-toggleable__label-arrow:hover:before {color: black;}#sk-container-id-3 div.sk-estimator:hover label.sk-toggleable__label-arrow:before {color: black;}#sk-container-id-3 div.sk-toggleable__content {max-height: 0;max-width: 0;overflow: hidden;text-align: left;background-color: #f0f8ff;}#sk-container-id-3 div.sk-toggleable__content pre {margin: 0.2em;color: black;border-radius: 0.25em;background-color: #f0f8ff;}#sk-container-id-3 input.sk-toggleable__control:checked~div.sk-toggleable__content {max-height: 200px;max-width: 100%;overflow: auto;}#sk-container-id-3 input.sk-toggleable__control:checked~label.sk-toggleable__label-arrow:before {content: \"▾\";}#sk-container-id-3 div.sk-estimator input.sk-toggleable__control:checked~label.sk-toggleable__label {background-color: #d4ebff;}#sk-container-id-3 div.sk-label input.sk-toggleable__control:checked~label.sk-toggleable__label {background-color: #d4ebff;}#sk-container-id-3 input.sk-hidden--visually {border: 0;clip: rect(1px 1px 1px 1px);clip: rect(1px, 1px, 1px, 1px);height: 1px;margin: -1px;overflow: hidden;padding: 0;position: absolute;width: 1px;}#sk-container-id-3 div.sk-estimator {font-family: monospace;background-color: #f0f8ff;border: 1px dotted black;border-radius: 0.25em;box-sizing: border-box;margin-bottom: 0.5em;}#sk-container-id-3 div.sk-estimator:hover {background-color: #d4ebff;}#sk-container-id-3 div.sk-parallel-item::after {content: \"\";width: 100%;border-bottom: 1px solid gray;flex-grow: 1;}#sk-container-id-3 div.sk-label:hover label.sk-toggleable__label {background-color: #d4ebff;}#sk-container-id-3 div.sk-serial::before {content: \"\";position: absolute;border-left: 1px solid gray;box-sizing: border-box;top: 0;bottom: 0;left: 50%;z-index: 0;}#sk-container-id-3 div.sk-serial {display: flex;flex-direction: column;align-items: center;background-color: white;padding-right: 0.2em;padding-left: 0.2em;position: relative;}#sk-container-id-3 div.sk-item {position: relative;z-index: 1;}#sk-container-id-3 div.sk-parallel {display: flex;align-items: stretch;justify-content: center;background-color: white;position: relative;}#sk-container-id-3 div.sk-item::before, #sk-container-id-3 div.sk-parallel-item::before {content: \"\";position: absolute;border-left: 1px solid gray;box-sizing: border-box;top: 0;bottom: 0;left: 50%;z-index: -1;}#sk-container-id-3 div.sk-parallel-item {display: flex;flex-direction: column;z-index: 1;position: relative;background-color: white;}#sk-container-id-3 div.sk-parallel-item:first-child::after {align-self: flex-end;width: 50%;}#sk-container-id-3 div.sk-parallel-item:last-child::after {align-self: flex-start;width: 50%;}#sk-container-id-3 div.sk-parallel-item:only-child::after {width: 0;}#sk-container-id-3 div.sk-dashed-wrapped {border: 1px dashed gray;margin: 0 0.4em 0.5em 0.4em;box-sizing: border-box;padding-bottom: 0.4em;background-color: white;}#sk-container-id-3 div.sk-label label {font-family: monospace;font-weight: bold;display: inline-block;line-height: 1.2em;}#sk-container-id-3 div.sk-label-container {text-align: center;}#sk-container-id-3 div.sk-container {/* jupyter's `normalize.less` sets `[hidden] { display: none; }` but bootstrap.min.css set `[hidden] { display: none !important; }` so we also need the `!important` here to be able to override the default hidden behavior on the sphinx rendered scikit-learn.org. See: https://github.com/scikit-learn/scikit-learn/issues/21755 */display: inline-block !important;position: relative;}#sk-container-id-3 div.sk-text-repr-fallback {display: none;}</style><div id=\"sk-container-id-3\" class=\"sk-top-container\"><div class=\"sk-text-repr-fallback\"><pre>Pipeline(steps=[(&#x27;add_new_columns&#x27;,\n",
       "                 &lt;__main__.ColumnGenerator object at 0x7fcc86d594f0&gt;),\n",
       "                (&#x27;preprocessing&#x27;,\n",
       "                 ColumnTransformer(remainder=&#x27;passthrough&#x27;,\n",
       "                                   transformers=[(&#x27;cat_transform&#x27;,\n",
       "                                                  Pipeline(steps=[(&#x27;impute_mode&#x27;,\n",
       "                                                                   SimpleImputer(strategy=&#x27;most_frequent&#x27;)),\n",
       "                                                                  (&#x27;onehot_encoder&#x27;,\n",
       "                                                                   OneHotEncoder(sparse_output=False))]),\n",
       "                                                  [&#x27;Pclass&#x27;, &#x27;Embarked&#x27;]),\n",
       "                                                 (&#x27;bin_transform&#x27;,\n",
       "                                                  Pipelin...eps=[(&#x27;impute_mode&#x27;,\n",
       "                                                                   SimpleImputer(strategy=&#x27;most_frequent&#x27;)),\n",
       "                                                                  (&#x27;onehot_encoder&#x27;,\n",
       "                                                                   OneHotEncoder(drop=&#x27;if_binary&#x27;,\n",
       "                                                                                 sparse_output=False))]),\n",
       "                                                  [&#x27;Sex&#x27;]),\n",
       "                                                 (&#x27;num_transform&#x27;,\n",
       "                                                  Pipeline(steps=[(&#x27;custom_imputer&#x27;,\n",
       "                                                                   &lt;__main__.CustomImputer object at 0x7fcc71c2d760&gt;),\n",
       "                                                                  (&#x27;power_transformer&#x27;,\n",
       "                                                                   PowerTransformer(method=&#x27;box-cox&#x27;))]),\n",
       "                                                  [&#x27;Age&#x27;, &#x27;Pclass&#x27;, &#x27;Sex&#x27;])])),\n",
       "                (&#x27;classifier&#x27;, SVC())])</pre><b>In a Jupyter environment, please rerun this cell to show the HTML representation or trust the notebook. <br />On GitHub, the HTML representation is unable to render, please try loading this page with nbviewer.org.</b></div><div class=\"sk-container\" hidden><div class=\"sk-item sk-dashed-wrapped\"><div class=\"sk-label-container\"><div class=\"sk-label sk-toggleable\"><input class=\"sk-toggleable__control sk-hidden--visually\" id=\"sk-estimator-id-17\" type=\"checkbox\" ><label for=\"sk-estimator-id-17\" class=\"sk-toggleable__label sk-toggleable__label-arrow\">Pipeline</label><div class=\"sk-toggleable__content\"><pre>Pipeline(steps=[(&#x27;add_new_columns&#x27;,\n",
       "                 &lt;__main__.ColumnGenerator object at 0x7fcc86d594f0&gt;),\n",
       "                (&#x27;preprocessing&#x27;,\n",
       "                 ColumnTransformer(remainder=&#x27;passthrough&#x27;,\n",
       "                                   transformers=[(&#x27;cat_transform&#x27;,\n",
       "                                                  Pipeline(steps=[(&#x27;impute_mode&#x27;,\n",
       "                                                                   SimpleImputer(strategy=&#x27;most_frequent&#x27;)),\n",
       "                                                                  (&#x27;onehot_encoder&#x27;,\n",
       "                                                                   OneHotEncoder(sparse_output=False))]),\n",
       "                                                  [&#x27;Pclass&#x27;, &#x27;Embarked&#x27;]),\n",
       "                                                 (&#x27;bin_transform&#x27;,\n",
       "                                                  Pipelin...eps=[(&#x27;impute_mode&#x27;,\n",
       "                                                                   SimpleImputer(strategy=&#x27;most_frequent&#x27;)),\n",
       "                                                                  (&#x27;onehot_encoder&#x27;,\n",
       "                                                                   OneHotEncoder(drop=&#x27;if_binary&#x27;,\n",
       "                                                                                 sparse_output=False))]),\n",
       "                                                  [&#x27;Sex&#x27;]),\n",
       "                                                 (&#x27;num_transform&#x27;,\n",
       "                                                  Pipeline(steps=[(&#x27;custom_imputer&#x27;,\n",
       "                                                                   &lt;__main__.CustomImputer object at 0x7fcc71c2d760&gt;),\n",
       "                                                                  (&#x27;power_transformer&#x27;,\n",
       "                                                                   PowerTransformer(method=&#x27;box-cox&#x27;))]),\n",
       "                                                  [&#x27;Age&#x27;, &#x27;Pclass&#x27;, &#x27;Sex&#x27;])])),\n",
       "                (&#x27;classifier&#x27;, SVC())])</pre></div></div></div><div class=\"sk-serial\"><div class=\"sk-item\"><div class=\"sk-estimator sk-toggleable\"><input class=\"sk-toggleable__control sk-hidden--visually\" id=\"sk-estimator-id-18\" type=\"checkbox\" ><label for=\"sk-estimator-id-18\" class=\"sk-toggleable__label sk-toggleable__label-arrow\">ColumnGenerator</label><div class=\"sk-toggleable__content\"><pre>&lt;__main__.ColumnGenerator object at 0x7fcc86d594f0&gt;</pre></div></div></div><div class=\"sk-item sk-dashed-wrapped\"><div class=\"sk-label-container\"><div class=\"sk-label sk-toggleable\"><input class=\"sk-toggleable__control sk-hidden--visually\" id=\"sk-estimator-id-19\" type=\"checkbox\" ><label for=\"sk-estimator-id-19\" class=\"sk-toggleable__label sk-toggleable__label-arrow\">preprocessing: ColumnTransformer</label><div class=\"sk-toggleable__content\"><pre>ColumnTransformer(remainder=&#x27;passthrough&#x27;,\n",
       "                  transformers=[(&#x27;cat_transform&#x27;,\n",
       "                                 Pipeline(steps=[(&#x27;impute_mode&#x27;,\n",
       "                                                  SimpleImputer(strategy=&#x27;most_frequent&#x27;)),\n",
       "                                                 (&#x27;onehot_encoder&#x27;,\n",
       "                                                  OneHotEncoder(sparse_output=False))]),\n",
       "                                 [&#x27;Pclass&#x27;, &#x27;Embarked&#x27;]),\n",
       "                                (&#x27;bin_transform&#x27;,\n",
       "                                 Pipeline(steps=[(&#x27;impute_mode&#x27;,\n",
       "                                                  SimpleImputer(strategy=&#x27;most_frequent&#x27;)),\n",
       "                                                 (&#x27;onehot_encoder&#x27;,\n",
       "                                                  OneHotEncoder(drop=&#x27;if_binary&#x27;,\n",
       "                                                                sparse_output=False))]),\n",
       "                                 [&#x27;Sex&#x27;]),\n",
       "                                (&#x27;num_transform&#x27;,\n",
       "                                 Pipeline(steps=[(&#x27;custom_imputer&#x27;,\n",
       "                                                  &lt;__main__.CustomImputer object at 0x7fcc71c2d760&gt;),\n",
       "                                                 (&#x27;power_transformer&#x27;,\n",
       "                                                  PowerTransformer(method=&#x27;box-cox&#x27;))]),\n",
       "                                 [&#x27;Age&#x27;, &#x27;Pclass&#x27;, &#x27;Sex&#x27;])])</pre></div></div></div><div class=\"sk-parallel\"><div class=\"sk-parallel-item\"><div class=\"sk-item\"><div class=\"sk-label-container\"><div class=\"sk-label sk-toggleable\"><input class=\"sk-toggleable__control sk-hidden--visually\" id=\"sk-estimator-id-20\" type=\"checkbox\" ><label for=\"sk-estimator-id-20\" class=\"sk-toggleable__label sk-toggleable__label-arrow\">cat_transform</label><div class=\"sk-toggleable__content\"><pre>[&#x27;Pclass&#x27;, &#x27;Embarked&#x27;]</pre></div></div></div><div class=\"sk-serial\"><div class=\"sk-item\"><div class=\"sk-serial\"><div class=\"sk-item\"><div class=\"sk-estimator sk-toggleable\"><input class=\"sk-toggleable__control sk-hidden--visually\" id=\"sk-estimator-id-21\" type=\"checkbox\" ><label for=\"sk-estimator-id-21\" class=\"sk-toggleable__label sk-toggleable__label-arrow\">SimpleImputer</label><div class=\"sk-toggleable__content\"><pre>SimpleImputer(strategy=&#x27;most_frequent&#x27;)</pre></div></div></div><div class=\"sk-item\"><div class=\"sk-estimator sk-toggleable\"><input class=\"sk-toggleable__control sk-hidden--visually\" id=\"sk-estimator-id-22\" type=\"checkbox\" ><label for=\"sk-estimator-id-22\" class=\"sk-toggleable__label sk-toggleable__label-arrow\">OneHotEncoder</label><div class=\"sk-toggleable__content\"><pre>OneHotEncoder(sparse_output=False)</pre></div></div></div></div></div></div></div></div><div class=\"sk-parallel-item\"><div class=\"sk-item\"><div class=\"sk-label-container\"><div class=\"sk-label sk-toggleable\"><input class=\"sk-toggleable__control sk-hidden--visually\" id=\"sk-estimator-id-23\" type=\"checkbox\" ><label for=\"sk-estimator-id-23\" class=\"sk-toggleable__label sk-toggleable__label-arrow\">bin_transform</label><div class=\"sk-toggleable__content\"><pre>[&#x27;Sex&#x27;]</pre></div></div></div><div class=\"sk-serial\"><div class=\"sk-item\"><div class=\"sk-serial\"><div class=\"sk-item\"><div class=\"sk-estimator sk-toggleable\"><input class=\"sk-toggleable__control sk-hidden--visually\" id=\"sk-estimator-id-24\" type=\"checkbox\" ><label for=\"sk-estimator-id-24\" class=\"sk-toggleable__label sk-toggleable__label-arrow\">SimpleImputer</label><div class=\"sk-toggleable__content\"><pre>SimpleImputer(strategy=&#x27;most_frequent&#x27;)</pre></div></div></div><div class=\"sk-item\"><div class=\"sk-estimator sk-toggleable\"><input class=\"sk-toggleable__control sk-hidden--visually\" id=\"sk-estimator-id-25\" type=\"checkbox\" ><label for=\"sk-estimator-id-25\" class=\"sk-toggleable__label sk-toggleable__label-arrow\">OneHotEncoder</label><div class=\"sk-toggleable__content\"><pre>OneHotEncoder(drop=&#x27;if_binary&#x27;, sparse_output=False)</pre></div></div></div></div></div></div></div></div><div class=\"sk-parallel-item\"><div class=\"sk-item\"><div class=\"sk-label-container\"><div class=\"sk-label sk-toggleable\"><input class=\"sk-toggleable__control sk-hidden--visually\" id=\"sk-estimator-id-26\" type=\"checkbox\" ><label for=\"sk-estimator-id-26\" class=\"sk-toggleable__label sk-toggleable__label-arrow\">num_transform</label><div class=\"sk-toggleable__content\"><pre>[&#x27;Age&#x27;, &#x27;Pclass&#x27;, &#x27;Sex&#x27;]</pre></div></div></div><div class=\"sk-serial\"><div class=\"sk-item\"><div class=\"sk-serial\"><div class=\"sk-item\"><div class=\"sk-estimator sk-toggleable\"><input class=\"sk-toggleable__control sk-hidden--visually\" id=\"sk-estimator-id-27\" type=\"checkbox\" ><label for=\"sk-estimator-id-27\" class=\"sk-toggleable__label sk-toggleable__label-arrow\">CustomImputer</label><div class=\"sk-toggleable__content\"><pre>&lt;__main__.CustomImputer object at 0x7fcc71c2d760&gt;</pre></div></div></div><div class=\"sk-item\"><div class=\"sk-estimator sk-toggleable\"><input class=\"sk-toggleable__control sk-hidden--visually\" id=\"sk-estimator-id-28\" type=\"checkbox\" ><label for=\"sk-estimator-id-28\" class=\"sk-toggleable__label sk-toggleable__label-arrow\">PowerTransformer</label><div class=\"sk-toggleable__content\"><pre>PowerTransformer(method=&#x27;box-cox&#x27;)</pre></div></div></div></div></div></div></div></div><div class=\"sk-parallel-item\"><div class=\"sk-item\"><div class=\"sk-label-container\"><div class=\"sk-label sk-toggleable\"><input class=\"sk-toggleable__control sk-hidden--visually\" id=\"sk-estimator-id-29\" type=\"checkbox\" ><label for=\"sk-estimator-id-29\" class=\"sk-toggleable__label sk-toggleable__label-arrow\">remainder</label><div class=\"sk-toggleable__content\"><pre>[&#x27;LastNameOdds&#x27;, &#x27;CabinInfo&#x27;, &#x27;Family&#x27;]</pre></div></div></div><div class=\"sk-serial\"><div class=\"sk-item\"><div class=\"sk-estimator sk-toggleable\"><input class=\"sk-toggleable__control sk-hidden--visually\" id=\"sk-estimator-id-30\" type=\"checkbox\" ><label for=\"sk-estimator-id-30\" class=\"sk-toggleable__label sk-toggleable__label-arrow\">passthrough</label><div class=\"sk-toggleable__content\"><pre>passthrough</pre></div></div></div></div></div></div></div></div><div class=\"sk-item\"><div class=\"sk-estimator sk-toggleable\"><input class=\"sk-toggleable__control sk-hidden--visually\" id=\"sk-estimator-id-31\" type=\"checkbox\" ><label for=\"sk-estimator-id-31\" class=\"sk-toggleable__label sk-toggleable__label-arrow\">SVC</label><div class=\"sk-toggleable__content\"><pre>SVC()</pre></div></div></div></div></div></div></div>"
      ],
      "text/plain": [
       "Pipeline(steps=[('add_new_columns',\n",
       "                 <__main__.ColumnGenerator object at 0x7fcc86d594f0>),\n",
       "                ('preprocessing',\n",
       "                 ColumnTransformer(remainder='passthrough',\n",
       "                                   transformers=[('cat_transform',\n",
       "                                                  Pipeline(steps=[('impute_mode',\n",
       "                                                                   SimpleImputer(strategy='most_frequent')),\n",
       "                                                                  ('onehot_encoder',\n",
       "                                                                   OneHotEncoder(sparse_output=False))]),\n",
       "                                                  ['Pclass', 'Embarked']),\n",
       "                                                 ('bin_transform',\n",
       "                                                  Pipelin...eps=[('impute_mode',\n",
       "                                                                   SimpleImputer(strategy='most_frequent')),\n",
       "                                                                  ('onehot_encoder',\n",
       "                                                                   OneHotEncoder(drop='if_binary',\n",
       "                                                                                 sparse_output=False))]),\n",
       "                                                  ['Sex']),\n",
       "                                                 ('num_transform',\n",
       "                                                  Pipeline(steps=[('custom_imputer',\n",
       "                                                                   <__main__.CustomImputer object at 0x7fcc71c2d760>),\n",
       "                                                                  ('power_transformer',\n",
       "                                                                   PowerTransformer(method='box-cox'))]),\n",
       "                                                  ['Age', 'Pclass', 'Sex'])])),\n",
       "                ('classifier', SVC())])"
      ]
     },
     "execution_count": 71,
     "metadata": {},
     "output_type": "execute_result"
    }
   ],
   "source": [
    "passive_model = model.fit(X_train, y_train)\n",
    "passive_model"
   ]
  },
  {
   "cell_type": "code",
   "execution_count": null,
   "metadata": {},
   "outputs": [],
   "source": []
  },
  {
   "cell_type": "code",
   "execution_count": 31,
   "metadata": {},
   "outputs": [
    {
     "data": {
      "text/plain": [
       "0.82"
      ]
     },
     "execution_count": 31,
     "metadata": {},
     "output_type": "execute_result"
    }
   ],
   "source": [
    "passive_model.score(X_test, y_test)"
   ]
  },
  {
   "cell_type": "markdown",
   "metadata": {},
   "source": [
    "### Model Evaluation"
   ]
  },
  {
   "cell_type": "code",
   "execution_count": 32,
   "metadata": {},
   "outputs": [],
   "source": [
    "from sklearn.metrics import classification_report\n",
    "from sklearn.metrics import precision_score, recall_score"
   ]
  },
  {
   "cell_type": "code",
   "execution_count": 33,
   "metadata": {},
   "outputs": [
    {
     "name": "stdout",
     "output_type": "stream",
     "text": [
      "              precision    recall  f1-score   support\n",
      "\n",
      "           0       0.80      0.93      0.86        60\n",
      "           1       0.87      0.65      0.74        40\n",
      "\n",
      "    accuracy                           0.82       100\n",
      "   macro avg       0.83      0.79      0.80       100\n",
      "weighted avg       0.83      0.82      0.81       100\n",
      "\n"
     ]
    }
   ],
   "source": [
    "y_pred = passive_model.predict(X_test)\n",
    "print(classification_report(y_test, y_pred))"
   ]
  },
  {
   "cell_type": "code",
   "execution_count": 34,
   "metadata": {},
   "outputs": [
    {
     "data": {
      "image/png": "[encoded data removed]",
      "text/plain": [
       "<Figure size 640x480 with 2 Axes>"
      ]
     },
     "metadata": {},
     "output_type": "display_data"
    }
   ],
   "source": [
    "from sklearn.metrics import confusion_matrix\n",
    "cf_matrix = confusion_matrix(y_test, y_pred)\n",
    "labels = ['True Neg','False Pos','False Neg','True Pos']\n",
    "labels = np.asarray(labels).reshape(2,2)\n",
    "\n",
    "import seaborn as sns\n",
    "sns.heatmap(cf_matrix, annot=True)\n",
    "plt.show()"
   ]
  },
  {
   "cell_type": "markdown",
   "metadata": {},
   "source": [
    "**Observations**: Good scoring, despite class imbalances. Accuracy 80% and lowest recall is 69%.\n",
    "    \n",
    "    So let's try and see how the Active Learning compares to this performance. "
   ]
  },
  {
   "cell_type": "markdown",
   "metadata": {},
   "source": [
    "# ACTIVE LEARNING"
   ]
  },
  {
   "cell_type": "markdown",
   "metadata": {},
   "source": [
    "### Tasks\n",
    "\n",
    "1. fit the first model only on the **start_df** using **SVM** and evaluate accuracy, precision and recall on test_df\n",
    "2. in each iteration, add 10 observations from **df** to your trainset (choose the observation using active learning approach) \n",
    "    - score all observations in df and take 10 where the model isn't sure what class it is. The probability of surviving will be around 50% \n",
    "3. refit the model and evaluate on **test_df** again.    \n",
    "3. the goal is to converge to the optimal solution as fast as possible by choosing **right** observations in each iteration\n",
    "4. plot the graphs for each eval metric, where on the axis x is iteration number, on y is the metric value for that model"
   ]
  },
  {
   "cell_type": "markdown",
   "metadata": {},
   "source": [
    "# 1. fit the first model only on the start_df \n",
    "using SVM and evaluate accuracy, precision and recall on test_df"
   ]
  },
  {
   "cell_type": "code",
   "execution_count": 35,
   "metadata": {},
   "outputs": [
    {
     "data": {
      "text/plain": [
       "0    489\n",
       "1    302\n",
       "Name: Survived, dtype: int64"
      ]
     },
     "metadata": {},
     "output_type": "display_data"
    },
    {
     "name": "stdout",
     "output_type": "stream",
     "text": [
      "We need 187 new 1 records to offset class imbalance.\n"
     ]
    },
    {
     "data": {
      "text/plain": [
       "0    489\n",
       "1    489\n",
       "Name: Survived, dtype: int64"
      ]
     },
     "metadata": {},
     "output_type": "display_data"
    }
   ],
   "source": [
    "# train_df is the set of the entire dataset available for training\n",
    "\n",
    "start_df = train_df.sample(n=100, random_state=394) # this is our first batch of labelled data\n",
    "\n",
    "df = train_df[~train_df.PassengerId.isin(start_df.PassengerId.tolist())] # this is what remains\n",
    "\n",
    "# use class balancing function to generate X_train, y_train\n",
    "X_train, y_train = class_balancing(train_df, 'Survived');"
   ]
  },
  {
   "cell_type": "markdown",
   "metadata": {},
   "source": [
    "**Note**: We no longer have access to the entire dataset used to generate features in the Passive learning stage.\n",
    "\n",
    "So the pipeline will only fit across the available data which will definitely skew the results."
   ]
  },
  {
   "cell_type": "code",
   "execution_count": 36,
   "metadata": {},
   "outputs": [],
   "source": [
    "def model_generator(df):\n",
    "    \"\"\"\n",
    "    Generates a new model based on the increasing training dataset\n",
    "    \"\"\"\n",
    "\n",
    "    cat_transform = Pipeline([\n",
    "                        ('impute_mode', SimpleImputer(strategy='most_frequent')),\n",
    "                        ('onehot_encoder', OneHotEncoder(sparse_output=False))\n",
    "                        ])\n",
    "\n",
    "    bin_transform = Pipeline([\n",
    "                        ('impute_mode', SimpleImputer(strategy='most_frequent')),\n",
    "                        ('onehot_encoder', OneHotEncoder(drop='if_binary', sparse_output=False))])\n",
    "\n",
    "#     num_transform = Pipeline([\n",
    "#                         ('custom_imputer', CustomImputer(df)),\n",
    "#                         ('scaling', StandardScaler())])\n",
    "    num_transform = Pipeline([\n",
    "                        ('custom_imputer', CustomImputer(train_df)),\n",
    "                        ('power_transformer', PowerTransformer(method=\"box-cox\", standardize=True))])\n",
    "    preprocessing = ColumnTransformer([\n",
    "                        ('cat_transform', cat_transform, ['Pclass', 'Embarked']),\n",
    "                        ('bin_transform', bin_transform, ['Sex']),\n",
    "                        ('num_transform', num_transform, ['Age', 'Pclass', 'Sex'])], # the 2 are required but will be dropped\n",
    "                    remainder='passthrough')\n",
    "\n",
    "\n",
    "    # creating the final pipeline\n",
    "    model = Pipeline([\n",
    "                        ('add_new_columns', ColumnGenerator(df)),\n",
    "                        ('preprocessing', preprocessing), \n",
    "                        ('classifier', SVC(probability=True))\n",
    "                          ])\n",
    "    \n",
    "    return model"
   ]
  },
  {
   "cell_type": "code",
   "execution_count": 37,
   "metadata": {},
   "outputs": [],
   "source": [
    "model_1 = model_generator(start_df)"
   ]
  },
  {
   "cell_type": "code",
   "execution_count": 38,
   "metadata": {},
   "outputs": [
    {
     "data": {
      "image/png": "[encoded data removed]",
      "text/plain": [
       "<Figure size 150x150 with 2 Axes>"
      ]
     },
     "metadata": {},
     "output_type": "display_data"
    },
    {
     "data": {
      "text/plain": [
       "(0.8, 0.8125, 0.65)"
      ]
     },
     "execution_count": 38,
     "metadata": {},
     "output_type": "execute_result"
    }
   ],
   "source": [
    "def scoring_test_df (model, X_train, y_train, \n",
    "                     X_test=X_test, y_test=y_test):\n",
    "    model.fit(X_train, y_train)\n",
    "    \n",
    "    y_pred = model.predict(X_test)\n",
    "#     print(classification_report(y_test, y_pred))\n",
    "    \n",
    "#     seaborn confusion matrix\n",
    "    figure = plt.figure(figsize=(1.5,1.5))\n",
    "    cf_matrix = confusion_matrix(y_test, y_pred)\n",
    "    sns.heatmap(cf_matrix, annot=True)\n",
    "    plt.show()\n",
    "    precision = precision_score(y_test, y_pred)\n",
    "    recall = recall_score(y_test, y_pred)\n",
    "    accuracy = model.score(X_test, y_test)\n",
    "    return accuracy, precision, recall\n",
    "\n",
    "\n",
    "scoring_test_df(model_1, X_train, y_train)\n",
    "\n"
   ]
  },
  {
   "cell_type": "code",
   "execution_count": null,
   "metadata": {},
   "outputs": [],
   "source": []
  },
  {
   "cell_type": "markdown",
   "metadata": {},
   "source": [
    "# 2. in each iteration, add 10 observations from df"
   ]
  },
  {
   "cell_type": "markdown",
   "metadata": {},
   "source": [
    "**score all observations in df**\n",
    "and take 10 where the model isn't sure what class it is. The probability of surviving will be around 50%"
   ]
  },
  {
   "cell_type": "code",
   "execution_count": 39,
   "metadata": {},
   "outputs": [],
   "source": [
    "def scoring_df(model, df=df):\n",
    "    X_test_df = df.drop(columns='Survived')\n",
    "    y_test_df = df['Survived']\n",
    "    y_pred_df = model.predict(X_test_df)\n",
    "    y_pred_probabilty = model.predict_proba(X_test_df)\n",
    "\n",
    "\n",
    "    ## Creating a results table, listing the groundtruth, predictions, probabilities and proximity to 0.5 (guessing)\n",
    "\n",
    "    results = y_test_df.to_frame()\n",
    "    results['y_predictions'] = y_pred_df\n",
    "    results['probabilities_0'] = y_pred_probabilty[:,0]\n",
    "    results['probabilities_1'] = y_pred_probabilty[:,1]\n",
    "    results.rename(columns={'Survived': 'y_true'}, inplace=True)\n",
    "\n",
    "\n",
    "    filter = results['y_true'] != results['y_predictions']\n",
    "\n",
    "    results['inverse_sorting'] = np.abs(results['probabilities_0'] - 0.5)\n",
    "\n",
    "\n",
    "    scored_results = results[filter].sort_values('inverse_sorting')\n",
    "    return scored_results[:10]"
   ]
  },
  {
   "cell_type": "code",
   "execution_count": 43,
   "metadata": {},
   "outputs": [
    {
     "data": {
      "text/html": [
       "<div>\n",
       "<style scoped>\n",
       "    .dataframe tbody tr th:only-of-type {\n",
       "        vertical-align: middle;\n",
       "    }\n",
       "\n",
       "    .dataframe tbody tr th {\n",
       "        vertical-align: top;\n",
       "    }\n",
       "\n",
       "    .dataframe thead th {\n",
       "        text-align: right;\n",
       "    }\n",
       "</style>\n",
       "<table border=\"1\" class=\"dataframe\">\n",
       "  <thead>\n",
       "    <tr style=\"text-align: right;\">\n",
       "      <th></th>\n",
       "      <th>y_true</th>\n",
       "      <th>y_predictions</th>\n",
       "      <th>probabilities_0</th>\n",
       "      <th>probabilities_1</th>\n",
       "      <th>inverse_sorting</th>\n",
       "    </tr>\n",
       "  </thead>\n",
       "  <tbody>\n",
       "    <tr>\n",
       "      <th>701</th>\n",
       "      <td>1</td>\n",
       "      <td>0</td>\n",
       "      <td>0.490730</td>\n",
       "      <td>0.509270</td>\n",
       "      <td>0.009270</td>\n",
       "    </tr>\n",
       "    <tr>\n",
       "      <th>25</th>\n",
       "      <td>1</td>\n",
       "      <td>0</td>\n",
       "      <td>0.487395</td>\n",
       "      <td>0.512605</td>\n",
       "      <td>0.012605</td>\n",
       "    </tr>\n",
       "    <tr>\n",
       "      <th>622</th>\n",
       "      <td>1</td>\n",
       "      <td>0</td>\n",
       "      <td>0.480161</td>\n",
       "      <td>0.519839</td>\n",
       "      <td>0.019839</td>\n",
       "    </tr>\n",
       "    <tr>\n",
       "      <th>559</th>\n",
       "      <td>1</td>\n",
       "      <td>0</td>\n",
       "      <td>0.462976</td>\n",
       "      <td>0.537024</td>\n",
       "      <td>0.037024</td>\n",
       "    </tr>\n",
       "    <tr>\n",
       "      <th>660</th>\n",
       "      <td>1</td>\n",
       "      <td>0</td>\n",
       "      <td>0.544905</td>\n",
       "      <td>0.455095</td>\n",
       "      <td>0.044905</td>\n",
       "    </tr>\n",
       "    <tr>\n",
       "      <th>867</th>\n",
       "      <td>0</td>\n",
       "      <td>1</td>\n",
       "      <td>0.439810</td>\n",
       "      <td>0.560190</td>\n",
       "      <td>0.060190</td>\n",
       "    </tr>\n",
       "    <tr>\n",
       "      <th>436</th>\n",
       "      <td>0</td>\n",
       "      <td>1</td>\n",
       "      <td>0.424699</td>\n",
       "      <td>0.575301</td>\n",
       "      <td>0.075301</td>\n",
       "    </tr>\n",
       "    <tr>\n",
       "      <th>782</th>\n",
       "      <td>0</td>\n",
       "      <td>1</td>\n",
       "      <td>0.422368</td>\n",
       "      <td>0.577632</td>\n",
       "      <td>0.077632</td>\n",
       "    </tr>\n",
       "    <tr>\n",
       "      <th>83</th>\n",
       "      <td>0</td>\n",
       "      <td>1</td>\n",
       "      <td>0.415487</td>\n",
       "      <td>0.584513</td>\n",
       "      <td>0.084513</td>\n",
       "    </tr>\n",
       "    <tr>\n",
       "      <th>792</th>\n",
       "      <td>0</td>\n",
       "      <td>1</td>\n",
       "      <td>0.412279</td>\n",
       "      <td>0.587721</td>\n",
       "      <td>0.087721</td>\n",
       "    </tr>\n",
       "  </tbody>\n",
       "</table>\n",
       "</div>"
      ],
      "text/plain": [
       "     y_true  y_predictions  probabilities_0  probabilities_1  inverse_sorting\n",
       "701       1              0         0.490730         0.509270         0.009270\n",
       "25        1              0         0.487395         0.512605         0.012605\n",
       "622       1              0         0.480161         0.519839         0.019839\n",
       "559       1              0         0.462976         0.537024         0.037024\n",
       "660       1              0         0.544905         0.455095         0.044905\n",
       "867       0              1         0.439810         0.560190         0.060190\n",
       "436       0              1         0.424699         0.575301         0.075301\n",
       "782       0              1         0.422368         0.577632         0.077632\n",
       "83        0              1         0.415487         0.584513         0.084513\n",
       "792       0              1         0.412279         0.587721         0.087721"
      ]
     },
     "execution_count": 43,
     "metadata": {},
     "output_type": "execute_result"
    }
   ],
   "source": [
    "scored_results"
   ]
  },
  {
   "cell_type": "code",
   "execution_count": 44,
   "metadata": {},
   "outputs": [],
   "source": [
    "scored_results = scoring_df(model_1, df)"
   ]
  },
  {
   "cell_type": "markdown",
   "metadata": {},
   "source": [
    "* These are the most uncertain scores. They will be incorporated into the training data. And it will be re-trained.\n",
    "\n",
    "* At this point, it is a good idea to functionalize our process."
   ]
  },
  {
   "cell_type": "code",
   "execution_count": 45,
   "metadata": {},
   "outputs": [
    {
     "data": {
      "text/plain": [
       "Int64Index([701, 25, 622, 559, 660, 867, 436, 782, 83, 792], dtype='int64')"
      ]
     },
     "execution_count": 45,
     "metadata": {},
     "output_type": "execute_result"
    }
   ],
   "source": [
    "scored_results.index"
   ]
  },
  {
   "cell_type": "code",
   "execution_count": 42,
   "metadata": {},
   "outputs": [],
   "source": [
    "def training_generator(start_df, scored_results, train_df=train_df):\n",
    "\n",
    "    # updating the training index\n",
    "    training_index = np.concatenate((start_df.index, scored_results.index))\n",
    "\n",
    "    model_df = train_df.loc[training_index]\n",
    "    X_train, y_train = class_balancing(model_df, 'Survived');\n",
    "\n",
    "    # left over df\n",
    "    df = train_df[~train_df.PassengerId.isin(model_df.PassengerId.tolist())]\n",
    "\n",
    "    ## Remember train_df is thh entire dataset outside the test_df. \n",
    "    ## Start_df and df add up to train_df. With each iteration, df gets smaller and start_df gets larger\n",
    "\n",
    "    return model_df, X_train, y_train, df"
   ]
  },
  {
   "cell_type": "code",
   "execution_count": null,
   "metadata": {},
   "outputs": [],
   "source": [
    "model_df, X_train, y_train, df = training_generator(start_df, scored_results, train_df=train_df)"
   ]
  },
  {
   "cell_type": "code",
   "execution_count": null,
   "metadata": {},
   "outputs": [],
   "source": [
    "# initialization\n",
    "start_df = train_df.sample(n=400, random_state=394)\n",
    "X_train, y_train = class_balancing(start_df, 'Survived')\n",
    "\n",
    "# left over df\n",
    "df = train_df[~train_df.PassengerId.isin(start_df.PassengerId.tolist())]\n",
    "\n",
    "\n",
    "num_iterations = 70\n",
    "\n",
    "scores = [] # accuracy, precision, recall\n",
    "models = []\n",
    "for i in range(num_iterations):\n",
    "    if i == 0:\n",
    "        model_df = start_df  \n",
    "    model = model_generator(model_df)\n",
    "    models.append(model)\n",
    "    score = scoring_test_df(model, X_train, y_train)\n",
    "    scores.append(score) # accuracy, precision, recall\n",
    "    scored_results = scoring_df(model, df)\n",
    "    model_df, X_train, y_train, df = training_generator(model_df, scored_results, train_df=train_df)\n",
    "    print(f\"Iteration # {i}, scored {score}\")\n",
    "\n",
    "    \n",
    "    \n",
    "    "
   ]
  },
  {
   "cell_type": "code",
   "execution_count": null,
   "metadata": {},
   "outputs": [],
   "source": [
    "scores_df = pd.DataFrame(scores, columns=['Accuracy', 'Precision', 'Recall'])\n",
    "scores_df"
   ]
  },
  {
   "cell_type": "code",
   "execution_count": null,
   "metadata": {},
   "outputs": [],
   "source": [
    "from matplotlib.ticker import MultipleLocator\n",
    "\n",
    "ax = sns.lineplot(data=scores_df)\n",
    "ax.xaxis.set_minor_locator(MultipleLocator(base=2))\n",
    "# Set grid to use minor tick locations. \n",
    "plt.grid(which = 'minor')\n",
    "\n",
    "\n",
    "plt.grid()"
   ]
  },
  {
   "cell_type": "code",
   "execution_count": null,
   "metadata": {},
   "outputs": [],
   "source": [
    "from matplotlib.ticker import MultipleLocator\n",
    "\n",
    "ax = sns.lineplot(data=scores_df)\n",
    "ax.xaxis.set_minor_locator(MultipleLocator(base=2))\n",
    "# Set grid to use minor tick locations. \n",
    "plt.grid(which = 'minor')\n",
    "\n",
    "\n",
    "plt.grid()"
   ]
  },
  {
   "cell_type": "markdown",
   "metadata": {},
   "source": [
    "## Observations \n",
    "The results flunctuated a bit the jumped up at the 46th mark, which approximates i.e. when the training_set was 560. Compare this to the original \"Passive Training\" that required a dataset of 791 records.\n",
    "\n",
    "## Conclusions:\n",
    "\n",
    "Active Learning is definitely an advantage when the source data is \"expensive\".\n",
    "\n",
    "Even the human \"cost\" i.e. manually labelling the data can be mitigated to some extent with automation.\n",
    "\n",
    "However, its advantage is strictly in situations where data is expensive. Not having a large dataset restricts opportunities in feature engineering, which can in turn affect the efficiency of the model. "
   ]
  },
  {
   "cell_type": "code",
   "execution_count": null,
   "metadata": {},
   "outputs": [],
   "source": []
  },
  {
   "cell_type": "code",
   "execution_count": null,
   "metadata": {},
   "outputs": [],
   "source": []
  },
  {
   "cell_type": "code",
   "execution_count": null,
   "metadata": {},
   "outputs": [],
   "source": []
  },
  {
   "cell_type": "code",
   "execution_count": null,
   "metadata": {},
   "outputs": [],
   "source": []
  },
  {
   "cell_type": "code",
   "execution_count": null,
   "metadata": {},
   "outputs": [],
   "source": []
  },
  {
   "cell_type": "code",
   "execution_count": null,
   "metadata": {},
   "outputs": [],
   "source": []
  },
  {
   "cell_type": "code",
   "execution_count": null,
   "metadata": {},
   "outputs": [],
   "source": []
  },
  {
   "cell_type": "code",
   "execution_count": null,
   "metadata": {},
   "outputs": [],
   "source": []
  },
  {
   "cell_type": "code",
   "execution_count": null,
   "metadata": {},
   "outputs": [],
   "source": []
  },
  {
   "cell_type": "code",
   "execution_count": null,
   "metadata": {},
   "outputs": [],
   "source": []
  },
  {
   "cell_type": "code",
   "execution_count": null,
   "metadata": {},
   "outputs": [],
   "source": []
  },
  {
   "cell_type": "code",
   "execution_count": null,
   "metadata": {},
   "outputs": [],
   "source": []
  },
  {
   "cell_type": "code",
   "execution_count": null,
   "metadata": {},
   "outputs": [],
   "source": []
  },
  {
   "cell_type": "code",
   "execution_count": null,
   "metadata": {},
   "outputs": [],
   "source": []
  },
  {
   "cell_type": "code",
   "execution_count": null,
   "metadata": {},
   "outputs": [],
   "source": []
  },
  {
   "cell_type": "code",
   "execution_count": null,
   "metadata": {},
   "outputs": [],
   "source": []
  },
  {
   "cell_type": "code",
   "execution_count": null,
   "metadata": {},
   "outputs": [],
   "source": []
  },
  {
   "cell_type": "code",
   "execution_count": null,
   "metadata": {},
   "outputs": [],
   "source": []
  },
  {
   "cell_type": "code",
   "execution_count": null,
   "metadata": {},
   "outputs": [],
   "source": []
  },
  {
   "cell_type": "code",
   "execution_count": null,
   "metadata": {},
   "outputs": [],
   "source": [
    "kaggle_test = pd.read_csv('test.csv')"
   ]
  },
  {
   "cell_type": "code",
   "execution_count": null,
   "metadata": {},
   "outputs": [],
   "source": [
    "model = models[-1]"
   ]
  },
  {
   "cell_type": "code",
   "execution_count": null,
   "metadata": {},
   "outputs": [],
   "source": [
    "kaggle_test = kaggle_test.reindex(columns=X_train.columns)"
   ]
  },
  {
   "cell_type": "code",
   "execution_count": null,
   "metadata": {},
   "outputs": [],
   "source": [
    "submission = pd.DataFrame(model.predict(kaggle_test)).rename(columns={0:'Survived'})\n",
    "submission.index = kaggle_test['PassengerId']\n",
    "submission"
   ]
  },
  {
   "cell_type": "code",
   "execution_count": null,
   "metadata": {},
   "outputs": [],
   "source": [
    "submission.to_csv('kaggle_competition.csv', index=True)"
   ]
  },
  {
   "cell_type": "code",
   "execution_count": null,
   "metadata": {},
   "outputs": [],
   "source": []
  },
  {
   "cell_type": "code",
   "execution_count": null,
   "metadata": {},
   "outputs": [],
   "source": []
  }
 ],
 "metadata": {
  "kernelspec": {
   "display_name": "Python 3 (ipykernel)",
   "language": "python",
   "name": "python3"
  },
  "language_info": {
   "codemirror_mode": {
    "name": "ipython",
    "version": 3
   },
   "file_extension": ".py",
   "mimetype": "text/x-python",
   "name": "python",
   "nbconvert_exporter": "python",
   "pygments_lexer": "ipython3",
   "version": "3.8.16"
  }
 },
 "nbformat": 4,
 "nbformat_minor": 4
}

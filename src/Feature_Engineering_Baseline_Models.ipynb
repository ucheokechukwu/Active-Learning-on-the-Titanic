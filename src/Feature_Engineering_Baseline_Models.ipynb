{
  "nbformat": 4,
  "nbformat_minor": 0,
  "metadata": {
    "colab": {
      "provenance": [],
      "authorship_tag": "ABX9TyM8J49N/iQhY8ba3h3pRLbu",
      "include_colab_link": true
    },
    "kernelspec": {
      "name": "python3",
      "display_name": "Python 3"
    },
    "language_info": {
      "name": "python"
    }
  },
  "cells": [
    {
      "cell_type": "markdown",
      "metadata": {
        "id": "view-in-github",
        "colab_type": "text"
      },
      "source": [
        "<a href=\"https://colab.research.google.com/github/ucheokechukwu/Active-Learning-on-the-Titanic/blob/main/src/Feature_Engineering_Baseline_Models.ipynb\" target=\"_parent\"><img src=\"https://colab.research.google.com/assets/colab-badge.svg\" alt=\"Open In Colab\"/></a>"
      ]
    },
    {
      "cell_type": "markdown",
      "source": [
        "Bitcoin data source: https://coincodex.com/crypto/bitcoin/historical-data/\n",
        "\n",
        "NFLX data source:\n",
        "\n",
        "- https://www.nasdaq.com/market-activity/stocks/nflx/historical\n",
        "\n",
        "- https://finance.yahoo.com/quote/nflx/history/?guccounter=1"
      ],
      "metadata": {
        "id": "MAUdYS7t_nbn"
      }
    },
    {
      "cell_type": "code",
      "source": [
        "!pip install tensorflow_addons"
      ],
      "metadata": {
        "colab": {
          "base_uri": "https://localhost:8080/"
        },
        "id": "775LnA3eOK_B",
        "outputId": "946ce04b-cbc1-4151-961b-a50a15fba2a4"
      },
      "execution_count": 1,
      "outputs": [
        {
          "output_type": "stream",
          "name": "stdout",
          "text": [
            "Looking in indexes: https://pypi.org/simple, https://us-python.pkg.dev/colab-wheels/public/simple/\n",
            "Collecting tensorflow_addons\n",
            "  Downloading tensorflow_addons-0.20.0-cp310-cp310-manylinux_2_17_x86_64.manylinux2014_x86_64.whl (591 kB)\n",
            "\u001b[2K     \u001b[90m━━━━━━━━━━━━━━━━━━━━━━━━━━━━━━━━━━━━━━\u001b[0m \u001b[32m591.0/591.0 kB\u001b[0m \u001b[31m10.3 MB/s\u001b[0m eta \u001b[36m0:00:00\u001b[0m\n",
            "\u001b[?25hRequirement already satisfied: packaging in /usr/local/lib/python3.10/dist-packages (from tensorflow_addons) (23.1)\n",
            "Collecting typeguard<3.0.0,>=2.7 (from tensorflow_addons)\n",
            "  Downloading typeguard-2.13.3-py3-none-any.whl (17 kB)\n",
            "Installing collected packages: typeguard, tensorflow_addons\n",
            "Successfully installed tensorflow_addons-0.20.0 typeguard-2.13.3\n"
          ]
        }
      ]
    },
    {
      "cell_type": "code",
      "source": [
        "import pandas as pd\n",
        "import numpy as np\n",
        "import tensorflow as tf\n",
        "from tensorflow.keras import layers\n",
        "from tensorflow.keras.utils import plot_model\n",
        "\n",
        "from tensorflow_addons.metrics import RSquare\n",
        "# model.compile(loss='mse', optimizer='rmsprop', metrics=[RSquare()])\n"
      ],
      "metadata": {
        "id": "KNCdp1AiY-2T"
      },
      "execution_count": 5,
      "outputs": []
    },
    {
      "cell_type": "code",
      "source": [
        "data = pd.read_csv('/content/data/nflx.csv',\n",
        "                   parse_dates = ['Date'],\n",
        "                   index_col = ['Date']).sort_index(ascending=True)['Close'].to_frame()\n",
        "data"
      ],
      "metadata": {
        "colab": {
          "base_uri": "https://localhost:8080/",
          "height": 455
        },
        "id": "8Y_K7i_5I8Rg",
        "outputId": "091bc7bf-39fc-416f-cefe-01e351e38dad"
      },
      "execution_count": 11,
      "outputs": [
        {
          "output_type": "execute_result",
          "data": {
            "text/plain": [
              "                 Close\n",
              "Date                  \n",
              "2022-06-13  169.690002\n",
              "2022-06-14  167.539993\n",
              "2022-06-15  180.110001\n",
              "2022-06-16  173.350006\n",
              "2022-06-17  175.509995\n",
              "...                ...\n",
              "2023-06-07  399.769989\n",
              "2023-06-08  409.369995\n",
              "2023-06-09  420.019989\n",
              "2023-06-12  423.970001\n",
              "2023-06-13  432.649994\n",
              "\n",
              "[252 rows x 1 columns]"
            ],
            "text/html": [
              "\n",
              "  <div id=\"df-bda31354-bd61-4696-8647-8ecd747b20b4\">\n",
              "    <div class=\"colab-df-container\">\n",
              "      <div>\n",
              "<style scoped>\n",
              "    .dataframe tbody tr th:only-of-type {\n",
              "        vertical-align: middle;\n",
              "    }\n",
              "\n",
              "    .dataframe tbody tr th {\n",
              "        vertical-align: top;\n",
              "    }\n",
              "\n",
              "    .dataframe thead th {\n",
              "        text-align: right;\n",
              "    }\n",
              "</style>\n",
              "<table border=\"1\" class=\"dataframe\">\n",
              "  <thead>\n",
              "    <tr style=\"text-align: right;\">\n",
              "      <th></th>\n",
              "      <th>Close</th>\n",
              "    </tr>\n",
              "    <tr>\n",
              "      <th>Date</th>\n",
              "      <th></th>\n",
              "    </tr>\n",
              "  </thead>\n",
              "  <tbody>\n",
              "    <tr>\n",
              "      <th>2022-06-13</th>\n",
              "      <td>169.690002</td>\n",
              "    </tr>\n",
              "    <tr>\n",
              "      <th>2022-06-14</th>\n",
              "      <td>167.539993</td>\n",
              "    </tr>\n",
              "    <tr>\n",
              "      <th>2022-06-15</th>\n",
              "      <td>180.110001</td>\n",
              "    </tr>\n",
              "    <tr>\n",
              "      <th>2022-06-16</th>\n",
              "      <td>173.350006</td>\n",
              "    </tr>\n",
              "    <tr>\n",
              "      <th>2022-06-17</th>\n",
              "      <td>175.509995</td>\n",
              "    </tr>\n",
              "    <tr>\n",
              "      <th>...</th>\n",
              "      <td>...</td>\n",
              "    </tr>\n",
              "    <tr>\n",
              "      <th>2023-06-07</th>\n",
              "      <td>399.769989</td>\n",
              "    </tr>\n",
              "    <tr>\n",
              "      <th>2023-06-08</th>\n",
              "      <td>409.369995</td>\n",
              "    </tr>\n",
              "    <tr>\n",
              "      <th>2023-06-09</th>\n",
              "      <td>420.019989</td>\n",
              "    </tr>\n",
              "    <tr>\n",
              "      <th>2023-06-12</th>\n",
              "      <td>423.970001</td>\n",
              "    </tr>\n",
              "    <tr>\n",
              "      <th>2023-06-13</th>\n",
              "      <td>432.649994</td>\n",
              "    </tr>\n",
              "  </tbody>\n",
              "</table>\n",
              "<p>252 rows × 1 columns</p>\n",
              "</div>\n",
              "      <button class=\"colab-df-convert\" onclick=\"convertToInteractive('df-bda31354-bd61-4696-8647-8ecd747b20b4')\"\n",
              "              title=\"Convert this dataframe to an interactive table.\"\n",
              "              style=\"display:none;\">\n",
              "        \n",
              "  <svg xmlns=\"http://www.w3.org/2000/svg\" height=\"24px\"viewBox=\"0 0 24 24\"\n",
              "       width=\"24px\">\n",
              "    <path d=\"M0 0h24v24H0V0z\" fill=\"none\"/>\n",
              "    <path d=\"M18.56 5.44l.94 2.06.94-2.06 2.06-.94-2.06-.94-.94-2.06-.94 2.06-2.06.94zm-11 1L8.5 8.5l.94-2.06 2.06-.94-2.06-.94L8.5 2.5l-.94 2.06-2.06.94zm10 10l.94 2.06.94-2.06 2.06-.94-2.06-.94-.94-2.06-.94 2.06-2.06.94z\"/><path d=\"M17.41 7.96l-1.37-1.37c-.4-.4-.92-.59-1.43-.59-.52 0-1.04.2-1.43.59L10.3 9.45l-7.72 7.72c-.78.78-.78 2.05 0 2.83L4 21.41c.39.39.9.59 1.41.59.51 0 1.02-.2 1.41-.59l7.78-7.78 2.81-2.81c.8-.78.8-2.07 0-2.86zM5.41 20L4 18.59l7.72-7.72 1.47 1.35L5.41 20z\"/>\n",
              "  </svg>\n",
              "      </button>\n",
              "      \n",
              "  <style>\n",
              "    .colab-df-container {\n",
              "      display:flex;\n",
              "      flex-wrap:wrap;\n",
              "      gap: 12px;\n",
              "    }\n",
              "\n",
              "    .colab-df-convert {\n",
              "      background-color: #E8F0FE;\n",
              "      border: none;\n",
              "      border-radius: 50%;\n",
              "      cursor: pointer;\n",
              "      display: none;\n",
              "      fill: #1967D2;\n",
              "      height: 32px;\n",
              "      padding: 0 0 0 0;\n",
              "      width: 32px;\n",
              "    }\n",
              "\n",
              "    .colab-df-convert:hover {\n",
              "      background-color: #E2EBFA;\n",
              "      box-shadow: 0px 1px 2px rgba(60, 64, 67, 0.3), 0px 1px 3px 1px rgba(60, 64, 67, 0.15);\n",
              "      fill: #174EA6;\n",
              "    }\n",
              "\n",
              "    [theme=dark] .colab-df-convert {\n",
              "      background-color: #3B4455;\n",
              "      fill: #D2E3FC;\n",
              "    }\n",
              "\n",
              "    [theme=dark] .colab-df-convert:hover {\n",
              "      background-color: #434B5C;\n",
              "      box-shadow: 0px 1px 3px 1px rgba(0, 0, 0, 0.15);\n",
              "      filter: drop-shadow(0px 1px 2px rgba(0, 0, 0, 0.3));\n",
              "      fill: #FFFFFF;\n",
              "    }\n",
              "  </style>\n",
              "\n",
              "      <script>\n",
              "        const buttonEl =\n",
              "          document.querySelector('#df-bda31354-bd61-4696-8647-8ecd747b20b4 button.colab-df-convert');\n",
              "        buttonEl.style.display =\n",
              "          google.colab.kernel.accessAllowed ? 'block' : 'none';\n",
              "\n",
              "        async function convertToInteractive(key) {\n",
              "          const element = document.querySelector('#df-bda31354-bd61-4696-8647-8ecd747b20b4');\n",
              "          const dataTable =\n",
              "            await google.colab.kernel.invokeFunction('convertToInteractive',\n",
              "                                                     [key], {});\n",
              "          if (!dataTable) return;\n",
              "\n",
              "          const docLinkHtml = 'Like what you see? Visit the ' +\n",
              "            '<a target=\"_blank\" href=https://colab.research.google.com/notebooks/data_table.ipynb>data table notebook</a>'\n",
              "            + ' to learn more about interactive tables.';\n",
              "          element.innerHTML = '';\n",
              "          dataTable['output_type'] = 'display_data';\n",
              "          await google.colab.output.renderOutput(dataTable, element);\n",
              "          const docLink = document.createElement('div');\n",
              "          docLink.innerHTML = docLinkHtml;\n",
              "          element.appendChild(docLink);\n",
              "        }\n",
              "      </script>\n",
              "    </div>\n",
              "  </div>\n",
              "  "
            ]
          },
          "metadata": {},
          "execution_count": 11
        }
      ]
    },
    {
      "cell_type": "code",
      "source": [
        "data.tail()"
      ],
      "metadata": {
        "colab": {
          "base_uri": "https://localhost:8080/",
          "height": 238
        },
        "id": "qR1Q-4VoJXgP",
        "outputId": "b1db19d0-7860-4c45-abff-0f8f35aaa86c"
      },
      "execution_count": 12,
      "outputs": [
        {
          "output_type": "execute_result",
          "data": {
            "text/plain": [
              "                 Close\n",
              "Date                  \n",
              "2023-06-07  399.769989\n",
              "2023-06-08  409.369995\n",
              "2023-06-09  420.019989\n",
              "2023-06-12  423.970001\n",
              "2023-06-13  432.649994"
            ],
            "text/html": [
              "\n",
              "  <div id=\"df-8aa896e8-b219-4a31-ba7a-af9003898eab\">\n",
              "    <div class=\"colab-df-container\">\n",
              "      <div>\n",
              "<style scoped>\n",
              "    .dataframe tbody tr th:only-of-type {\n",
              "        vertical-align: middle;\n",
              "    }\n",
              "\n",
              "    .dataframe tbody tr th {\n",
              "        vertical-align: top;\n",
              "    }\n",
              "\n",
              "    .dataframe thead th {\n",
              "        text-align: right;\n",
              "    }\n",
              "</style>\n",
              "<table border=\"1\" class=\"dataframe\">\n",
              "  <thead>\n",
              "    <tr style=\"text-align: right;\">\n",
              "      <th></th>\n",
              "      <th>Close</th>\n",
              "    </tr>\n",
              "    <tr>\n",
              "      <th>Date</th>\n",
              "      <th></th>\n",
              "    </tr>\n",
              "  </thead>\n",
              "  <tbody>\n",
              "    <tr>\n",
              "      <th>2023-06-07</th>\n",
              "      <td>399.769989</td>\n",
              "    </tr>\n",
              "    <tr>\n",
              "      <th>2023-06-08</th>\n",
              "      <td>409.369995</td>\n",
              "    </tr>\n",
              "    <tr>\n",
              "      <th>2023-06-09</th>\n",
              "      <td>420.019989</td>\n",
              "    </tr>\n",
              "    <tr>\n",
              "      <th>2023-06-12</th>\n",
              "      <td>423.970001</td>\n",
              "    </tr>\n",
              "    <tr>\n",
              "      <th>2023-06-13</th>\n",
              "      <td>432.649994</td>\n",
              "    </tr>\n",
              "  </tbody>\n",
              "</table>\n",
              "</div>\n",
              "      <button class=\"colab-df-convert\" onclick=\"convertToInteractive('df-8aa896e8-b219-4a31-ba7a-af9003898eab')\"\n",
              "              title=\"Convert this dataframe to an interactive table.\"\n",
              "              style=\"display:none;\">\n",
              "        \n",
              "  <svg xmlns=\"http://www.w3.org/2000/svg\" height=\"24px\"viewBox=\"0 0 24 24\"\n",
              "       width=\"24px\">\n",
              "    <path d=\"M0 0h24v24H0V0z\" fill=\"none\"/>\n",
              "    <path d=\"M18.56 5.44l.94 2.06.94-2.06 2.06-.94-2.06-.94-.94-2.06-.94 2.06-2.06.94zm-11 1L8.5 8.5l.94-2.06 2.06-.94-2.06-.94L8.5 2.5l-.94 2.06-2.06.94zm10 10l.94 2.06.94-2.06 2.06-.94-2.06-.94-.94-2.06-.94 2.06-2.06.94z\"/><path d=\"M17.41 7.96l-1.37-1.37c-.4-.4-.92-.59-1.43-.59-.52 0-1.04.2-1.43.59L10.3 9.45l-7.72 7.72c-.78.78-.78 2.05 0 2.83L4 21.41c.39.39.9.59 1.41.59.51 0 1.02-.2 1.41-.59l7.78-7.78 2.81-2.81c.8-.78.8-2.07 0-2.86zM5.41 20L4 18.59l7.72-7.72 1.47 1.35L5.41 20z\"/>\n",
              "  </svg>\n",
              "      </button>\n",
              "      \n",
              "  <style>\n",
              "    .colab-df-container {\n",
              "      display:flex;\n",
              "      flex-wrap:wrap;\n",
              "      gap: 12px;\n",
              "    }\n",
              "\n",
              "    .colab-df-convert {\n",
              "      background-color: #E8F0FE;\n",
              "      border: none;\n",
              "      border-radius: 50%;\n",
              "      cursor: pointer;\n",
              "      display: none;\n",
              "      fill: #1967D2;\n",
              "      height: 32px;\n",
              "      padding: 0 0 0 0;\n",
              "      width: 32px;\n",
              "    }\n",
              "\n",
              "    .colab-df-convert:hover {\n",
              "      background-color: #E2EBFA;\n",
              "      box-shadow: 0px 1px 2px rgba(60, 64, 67, 0.3), 0px 1px 3px 1px rgba(60, 64, 67, 0.15);\n",
              "      fill: #174EA6;\n",
              "    }\n",
              "\n",
              "    [theme=dark] .colab-df-convert {\n",
              "      background-color: #3B4455;\n",
              "      fill: #D2E3FC;\n",
              "    }\n",
              "\n",
              "    [theme=dark] .colab-df-convert:hover {\n",
              "      background-color: #434B5C;\n",
              "      box-shadow: 0px 1px 3px 1px rgba(0, 0, 0, 0.15);\n",
              "      filter: drop-shadow(0px 1px 2px rgba(0, 0, 0, 0.3));\n",
              "      fill: #FFFFFF;\n",
              "    }\n",
              "  </style>\n",
              "\n",
              "      <script>\n",
              "        const buttonEl =\n",
              "          document.querySelector('#df-8aa896e8-b219-4a31-ba7a-af9003898eab button.colab-df-convert');\n",
              "        buttonEl.style.display =\n",
              "          google.colab.kernel.accessAllowed ? 'block' : 'none';\n",
              "\n",
              "        async function convertToInteractive(key) {\n",
              "          const element = document.querySelector('#df-8aa896e8-b219-4a31-ba7a-af9003898eab');\n",
              "          const dataTable =\n",
              "            await google.colab.kernel.invokeFunction('convertToInteractive',\n",
              "                                                     [key], {});\n",
              "          if (!dataTable) return;\n",
              "\n",
              "          const docLinkHtml = 'Like what you see? Visit the ' +\n",
              "            '<a target=\"_blank\" href=https://colab.research.google.com/notebooks/data_table.ipynb>data table notebook</a>'\n",
              "            + ' to learn more about interactive tables.';\n",
              "          element.innerHTML = '';\n",
              "          dataTable['output_type'] = 'display_data';\n",
              "          await google.colab.output.renderOutput(dataTable, element);\n",
              "          const docLink = document.createElement('div');\n",
              "          docLink.innerHTML = docLinkHtml;\n",
              "          element.appendChild(docLink);\n",
              "        }\n",
              "      </script>\n",
              "    </div>\n",
              "  </div>\n",
              "  "
            ]
          },
          "metadata": {},
          "execution_count": 12
        }
      ]
    },
    {
      "cell_type": "code",
      "source": [
        "import matplotlib.pyplot as plt\n",
        "plt.plot(data, label='Stock Price')\n",
        "plt.legend()\n",
        "plt.show()"
      ],
      "metadata": {
        "colab": {
          "base_uri": "https://localhost:8080/",
          "height": 430
        },
        "id": "bnLKwqdTKE0g",
        "outputId": "634a1577-6828-4f7c-f27a-c38347db8487"
      },
      "execution_count": 13,
      "outputs": [
        {
          "output_type": "display_data",
          "data": {
            "text/plain": [
              "<Figure size 640x480 with 1 Axes>"
            ],
            "image/png": "[encoded data removed]"
          },
          "metadata": {}
        }
      ]
    },
    {
      "cell_type": "markdown",
      "source": [
        "## Creating Train & Test Splits"
      ],
      "metadata": {
        "id": "MVnIeqi1KWF7"
      }
    },
    {
      "cell_type": "code",
      "source": [
        "split = int(0.8 * len(data))\n",
        "train, test = data[:split], data[split:]"
      ],
      "metadata": {
        "id": "E1DU8ArrMBZe"
      },
      "execution_count": 14,
      "outputs": []
    },
    {
      "cell_type": "code",
      "source": [
        "# plotting train, test data\n",
        "plt.figure(figsize=(10,10))\n",
        "\n",
        "plt.scatter(train.index, train, color='green', label='train', s=5)\n",
        "plt.scatter(test.index, test, color='orange', label='test', s=5)\n",
        "plt.ylabel('Price')\n",
        "plt.legend()\n",
        "plt.title('Historical Price')\n",
        "plt.show()"
      ],
      "metadata": {
        "colab": {
          "base_uri": "https://localhost:8080/",
          "height": 853
        },
        "id": "QW60sjoJMYZ7",
        "outputId": "6d03a153-c74d-43f6-8e65-1e33fe1efefc"
      },
      "execution_count": 16,
      "outputs": [
        {
          "output_type": "display_data",
          "data": {
            "text/plain": [
              "<Figure size 1000x1000 with 1 Axes>"
            ],
            "image/png": "[encoded data removed]"
          },
          "metadata": {}
        }
      ]
    },
    {
      "cell_type": "markdown",
      "source": [
        "# Baseline Model: Naive Forecast\n",
        "\n",
        "X[t+1] = X[t]"
      ],
      "metadata": {
        "id": "hFxDjpfNMi3Y"
      }
    },
    {
      "cell_type": "code",
      "source": [
        "# shifting the data by one day\n",
        "\n",
        "pred = test.shift(periods=1, freq='B')\n",
        "display(pred.head())\n",
        "display(pred.tail())\n",
        "test.tail()\n"
      ],
      "metadata": {
        "colab": {
          "base_uri": "https://localhost:8080/",
          "height": 679
        },
        "id": "PjeR3XIMOJ2W",
        "outputId": "6eb0348e-870b-4948-c7c8-18bba41bd474"
      },
      "execution_count": 35,
      "outputs": [
        {
          "output_type": "display_data",
          "data": {
            "text/plain": [
              "                 Close\n",
              "Date                  \n",
              "2023-04-03  345.480011\n",
              "2023-04-04  348.279999\n",
              "2023-04-05  346.750000\n",
              "2023-04-06  342.350006\n",
              "2023-04-07  339.329987"
            ],
            "text/html": [
              "\n",
              "  <div id=\"df-efc5c07f-89a3-4b59-8e5c-9db1093a7e28\">\n",
              "    <div class=\"colab-df-container\">\n",
              "      <div>\n",
              "<style scoped>\n",
              "    .dataframe tbody tr th:only-of-type {\n",
              "        vertical-align: middle;\n",
              "    }\n",
              "\n",
              "    .dataframe tbody tr th {\n",
              "        vertical-align: top;\n",
              "    }\n",
              "\n",
              "    .dataframe thead th {\n",
              "        text-align: right;\n",
              "    }\n",
              "</style>\n",
              "<table border=\"1\" class=\"dataframe\">\n",
              "  <thead>\n",
              "    <tr style=\"text-align: right;\">\n",
              "      <th></th>\n",
              "      <th>Close</th>\n",
              "    </tr>\n",
              "    <tr>\n",
              "      <th>Date</th>\n",
              "      <th></th>\n",
              "    </tr>\n",
              "  </thead>\n",
              "  <tbody>\n",
              "    <tr>\n",
              "      <th>2023-04-03</th>\n",
              "      <td>345.480011</td>\n",
              "    </tr>\n",
              "    <tr>\n",
              "      <th>2023-04-04</th>\n",
              "      <td>348.279999</td>\n",
              "    </tr>\n",
              "    <tr>\n",
              "      <th>2023-04-05</th>\n",
              "      <td>346.750000</td>\n",
              "    </tr>\n",
              "    <tr>\n",
              "      <th>2023-04-06</th>\n",
              "      <td>342.350006</td>\n",
              "    </tr>\n",
              "    <tr>\n",
              "      <th>2023-04-07</th>\n",
              "      <td>339.329987</td>\n",
              "    </tr>\n",
              "  </tbody>\n",
              "</table>\n",
              "</div>\n",
              "      <button class=\"colab-df-convert\" onclick=\"convertToInteractive('df-efc5c07f-89a3-4b59-8e5c-9db1093a7e28')\"\n",
              "              title=\"Convert this dataframe to an interactive table.\"\n",
              "              style=\"display:none;\">\n",
              "        \n",
              "  <svg xmlns=\"http://www.w3.org/2000/svg\" height=\"24px\"viewBox=\"0 0 24 24\"\n",
              "       width=\"24px\">\n",
              "    <path d=\"M0 0h24v24H0V0z\" fill=\"none\"/>\n",
              "    <path d=\"M18.56 5.44l.94 2.06.94-2.06 2.06-.94-2.06-.94-.94-2.06-.94 2.06-2.06.94zm-11 1L8.5 8.5l.94-2.06 2.06-.94-2.06-.94L8.5 2.5l-.94 2.06-2.06.94zm10 10l.94 2.06.94-2.06 2.06-.94-2.06-.94-.94-2.06-.94 2.06-2.06.94z\"/><path d=\"M17.41 7.96l-1.37-1.37c-.4-.4-.92-.59-1.43-.59-.52 0-1.04.2-1.43.59L10.3 9.45l-7.72 7.72c-.78.78-.78 2.05 0 2.83L4 21.41c.39.39.9.59 1.41.59.51 0 1.02-.2 1.41-.59l7.78-7.78 2.81-2.81c.8-.78.8-2.07 0-2.86zM5.41 20L4 18.59l7.72-7.72 1.47 1.35L5.41 20z\"/>\n",
              "  </svg>\n",
              "      </button>\n",
              "      \n",
              "  <style>\n",
              "    .colab-df-container {\n",
              "      display:flex;\n",
              "      flex-wrap:wrap;\n",
              "      gap: 12px;\n",
              "    }\n",
              "\n",
              "    .colab-df-convert {\n",
              "      background-color: #E8F0FE;\n",
              "      border: none;\n",
              "      border-radius: 50%;\n",
              "      cursor: pointer;\n",
              "      display: none;\n",
              "      fill: #1967D2;\n",
              "      height: 32px;\n",
              "      padding: 0 0 0 0;\n",
              "      width: 32px;\n",
              "    }\n",
              "\n",
              "    .colab-df-convert:hover {\n",
              "      background-color: #E2EBFA;\n",
              "      box-shadow: 0px 1px 2px rgba(60, 64, 67, 0.3), 0px 1px 3px 1px rgba(60, 64, 67, 0.15);\n",
              "      fill: #174EA6;\n",
              "    }\n",
              "\n",
              "    [theme=dark] .colab-df-convert {\n",
              "      background-color: #3B4455;\n",
              "      fill: #D2E3FC;\n",
              "    }\n",
              "\n",
              "    [theme=dark] .colab-df-convert:hover {\n",
              "      background-color: #434B5C;\n",
              "      box-shadow: 0px 1px 3px 1px rgba(0, 0, 0, 0.15);\n",
              "      filter: drop-shadow(0px 1px 2px rgba(0, 0, 0, 0.3));\n",
              "      fill: #FFFFFF;\n",
              "    }\n",
              "  </style>\n",
              "\n",
              "      <script>\n",
              "        const buttonEl =\n",
              "          document.querySelector('#df-efc5c07f-89a3-4b59-8e5c-9db1093a7e28 button.colab-df-convert');\n",
              "        buttonEl.style.display =\n",
              "          google.colab.kernel.accessAllowed ? 'block' : 'none';\n",
              "\n",
              "        async function convertToInteractive(key) {\n",
              "          const element = document.querySelector('#df-efc5c07f-89a3-4b59-8e5c-9db1093a7e28');\n",
              "          const dataTable =\n",
              "            await google.colab.kernel.invokeFunction('convertToInteractive',\n",
              "                                                     [key], {});\n",
              "          if (!dataTable) return;\n",
              "\n",
              "          const docLinkHtml = 'Like what you see? Visit the ' +\n",
              "            '<a target=\"_blank\" href=https://colab.research.google.com/notebooks/data_table.ipynb>data table notebook</a>'\n",
              "            + ' to learn more about interactive tables.';\n",
              "          element.innerHTML = '';\n",
              "          dataTable['output_type'] = 'display_data';\n",
              "          await google.colab.output.renderOutput(dataTable, element);\n",
              "          const docLink = document.createElement('div');\n",
              "          docLink.innerHTML = docLinkHtml;\n",
              "          element.appendChild(docLink);\n",
              "        }\n",
              "      </script>\n",
              "    </div>\n",
              "  </div>\n",
              "  "
            ]
          },
          "metadata": {}
        },
        {
          "output_type": "display_data",
          "data": {
            "text/plain": [
              "                 Close\n",
              "Date                  \n",
              "2023-06-08  399.769989\n",
              "2023-06-09  409.369995\n",
              "2023-06-12  420.019989\n",
              "2023-06-13  423.970001\n",
              "2023-06-14  432.649994"
            ],
            "text/html": [
              "\n",
              "  <div id=\"df-9d1daadf-4f7c-4041-8a16-069bfd59fc80\">\n",
              "    <div class=\"colab-df-container\">\n",
              "      <div>\n",
              "<style scoped>\n",
              "    .dataframe tbody tr th:only-of-type {\n",
              "        vertical-align: middle;\n",
              "    }\n",
              "\n",
              "    .dataframe tbody tr th {\n",
              "        vertical-align: top;\n",
              "    }\n",
              "\n",
              "    .dataframe thead th {\n",
              "        text-align: right;\n",
              "    }\n",
              "</style>\n",
              "<table border=\"1\" class=\"dataframe\">\n",
              "  <thead>\n",
              "    <tr style=\"text-align: right;\">\n",
              "      <th></th>\n",
              "      <th>Close</th>\n",
              "    </tr>\n",
              "    <tr>\n",
              "      <th>Date</th>\n",
              "      <th></th>\n",
              "    </tr>\n",
              "  </thead>\n",
              "  <tbody>\n",
              "    <tr>\n",
              "      <th>2023-06-08</th>\n",
              "      <td>399.769989</td>\n",
              "    </tr>\n",
              "    <tr>\n",
              "      <th>2023-06-09</th>\n",
              "      <td>409.369995</td>\n",
              "    </tr>\n",
              "    <tr>\n",
              "      <th>2023-06-12</th>\n",
              "      <td>420.019989</td>\n",
              "    </tr>\n",
              "    <tr>\n",
              "      <th>2023-06-13</th>\n",
              "      <td>423.970001</td>\n",
              "    </tr>\n",
              "    <tr>\n",
              "      <th>2023-06-14</th>\n",
              "      <td>432.649994</td>\n",
              "    </tr>\n",
              "  </tbody>\n",
              "</table>\n",
              "</div>\n",
              "      <button class=\"colab-df-convert\" onclick=\"convertToInteractive('df-9d1daadf-4f7c-4041-8a16-069bfd59fc80')\"\n",
              "              title=\"Convert this dataframe to an interactive table.\"\n",
              "              style=\"display:none;\">\n",
              "        \n",
              "  <svg xmlns=\"http://www.w3.org/2000/svg\" height=\"24px\"viewBox=\"0 0 24 24\"\n",
              "       width=\"24px\">\n",
              "    <path d=\"M0 0h24v24H0V0z\" fill=\"none\"/>\n",
              "    <path d=\"M18.56 5.44l.94 2.06.94-2.06 2.06-.94-2.06-.94-.94-2.06-.94 2.06-2.06.94zm-11 1L8.5 8.5l.94-2.06 2.06-.94-2.06-.94L8.5 2.5l-.94 2.06-2.06.94zm10 10l.94 2.06.94-2.06 2.06-.94-2.06-.94-.94-2.06-.94 2.06-2.06.94z\"/><path d=\"M17.41 7.96l-1.37-1.37c-.4-.4-.92-.59-1.43-.59-.52 0-1.04.2-1.43.59L10.3 9.45l-7.72 7.72c-.78.78-.78 2.05 0 2.83L4 21.41c.39.39.9.59 1.41.59.51 0 1.02-.2 1.41-.59l7.78-7.78 2.81-2.81c.8-.78.8-2.07 0-2.86zM5.41 20L4 18.59l7.72-7.72 1.47 1.35L5.41 20z\"/>\n",
              "  </svg>\n",
              "      </button>\n",
              "      \n",
              "  <style>\n",
              "    .colab-df-container {\n",
              "      display:flex;\n",
              "      flex-wrap:wrap;\n",
              "      gap: 12px;\n",
              "    }\n",
              "\n",
              "    .colab-df-convert {\n",
              "      background-color: #E8F0FE;\n",
              "      border: none;\n",
              "      border-radius: 50%;\n",
              "      cursor: pointer;\n",
              "      display: none;\n",
              "      fill: #1967D2;\n",
              "      height: 32px;\n",
              "      padding: 0 0 0 0;\n",
              "      width: 32px;\n",
              "    }\n",
              "\n",
              "    .colab-df-convert:hover {\n",
              "      background-color: #E2EBFA;\n",
              "      box-shadow: 0px 1px 2px rgba(60, 64, 67, 0.3), 0px 1px 3px 1px rgba(60, 64, 67, 0.15);\n",
              "      fill: #174EA6;\n",
              "    }\n",
              "\n",
              "    [theme=dark] .colab-df-convert {\n",
              "      background-color: #3B4455;\n",
              "      fill: #D2E3FC;\n",
              "    }\n",
              "\n",
              "    [theme=dark] .colab-df-convert:hover {\n",
              "      background-color: #434B5C;\n",
              "      box-shadow: 0px 1px 3px 1px rgba(0, 0, 0, 0.15);\n",
              "      filter: drop-shadow(0px 1px 2px rgba(0, 0, 0, 0.3));\n",
              "      fill: #FFFFFF;\n",
              "    }\n",
              "  </style>\n",
              "\n",
              "      <script>\n",
              "        const buttonEl =\n",
              "          document.querySelector('#df-9d1daadf-4f7c-4041-8a16-069bfd59fc80 button.colab-df-convert');\n",
              "        buttonEl.style.display =\n",
              "          google.colab.kernel.accessAllowed ? 'block' : 'none';\n",
              "\n",
              "        async function convertToInteractive(key) {\n",
              "          const element = document.querySelector('#df-9d1daadf-4f7c-4041-8a16-069bfd59fc80');\n",
              "          const dataTable =\n",
              "            await google.colab.kernel.invokeFunction('convertToInteractive',\n",
              "                                                     [key], {});\n",
              "          if (!dataTable) return;\n",
              "\n",
              "          const docLinkHtml = 'Like what you see? Visit the ' +\n",
              "            '<a target=\"_blank\" href=https://colab.research.google.com/notebooks/data_table.ipynb>data table notebook</a>'\n",
              "            + ' to learn more about interactive tables.';\n",
              "          element.innerHTML = '';\n",
              "          dataTable['output_type'] = 'display_data';\n",
              "          await google.colab.output.renderOutput(dataTable, element);\n",
              "          const docLink = document.createElement('div');\n",
              "          docLink.innerHTML = docLinkHtml;\n",
              "          element.appendChild(docLink);\n",
              "        }\n",
              "      </script>\n",
              "    </div>\n",
              "  </div>\n",
              "  "
            ]
          },
          "metadata": {}
        },
        {
          "output_type": "execute_result",
          "data": {
            "text/plain": [
              "                 Close\n",
              "Date                  \n",
              "2023-06-07  399.769989\n",
              "2023-06-08  409.369995\n",
              "2023-06-09  420.019989\n",
              "2023-06-12  423.970001\n",
              "2023-06-13  432.649994"
            ],
            "text/html": [
              "\n",
              "  <div id=\"df-e58538b9-a8be-482d-b19f-a53846da8a70\">\n",
              "    <div class=\"colab-df-container\">\n",
              "      <div>\n",
              "<style scoped>\n",
              "    .dataframe tbody tr th:only-of-type {\n",
              "        vertical-align: middle;\n",
              "    }\n",
              "\n",
              "    .dataframe tbody tr th {\n",
              "        vertical-align: top;\n",
              "    }\n",
              "\n",
              "    .dataframe thead th {\n",
              "        text-align: right;\n",
              "    }\n",
              "</style>\n",
              "<table border=\"1\" class=\"dataframe\">\n",
              "  <thead>\n",
              "    <tr style=\"text-align: right;\">\n",
              "      <th></th>\n",
              "      <th>Close</th>\n",
              "    </tr>\n",
              "    <tr>\n",
              "      <th>Date</th>\n",
              "      <th></th>\n",
              "    </tr>\n",
              "  </thead>\n",
              "  <tbody>\n",
              "    <tr>\n",
              "      <th>2023-06-07</th>\n",
              "      <td>399.769989</td>\n",
              "    </tr>\n",
              "    <tr>\n",
              "      <th>2023-06-08</th>\n",
              "      <td>409.369995</td>\n",
              "    </tr>\n",
              "    <tr>\n",
              "      <th>2023-06-09</th>\n",
              "      <td>420.019989</td>\n",
              "    </tr>\n",
              "    <tr>\n",
              "      <th>2023-06-12</th>\n",
              "      <td>423.970001</td>\n",
              "    </tr>\n",
              "    <tr>\n",
              "      <th>2023-06-13</th>\n",
              "      <td>432.649994</td>\n",
              "    </tr>\n",
              "  </tbody>\n",
              "</table>\n",
              "</div>\n",
              "      <button class=\"colab-df-convert\" onclick=\"convertToInteractive('df-e58538b9-a8be-482d-b19f-a53846da8a70')\"\n",
              "              title=\"Convert this dataframe to an interactive table.\"\n",
              "              style=\"display:none;\">\n",
              "        \n",
              "  <svg xmlns=\"http://www.w3.org/2000/svg\" height=\"24px\"viewBox=\"0 0 24 24\"\n",
              "       width=\"24px\">\n",
              "    <path d=\"M0 0h24v24H0V0z\" fill=\"none\"/>\n",
              "    <path d=\"M18.56 5.44l.94 2.06.94-2.06 2.06-.94-2.06-.94-.94-2.06-.94 2.06-2.06.94zm-11 1L8.5 8.5l.94-2.06 2.06-.94-2.06-.94L8.5 2.5l-.94 2.06-2.06.94zm10 10l.94 2.06.94-2.06 2.06-.94-2.06-.94-.94-2.06-.94 2.06-2.06.94z\"/><path d=\"M17.41 7.96l-1.37-1.37c-.4-.4-.92-.59-1.43-.59-.52 0-1.04.2-1.43.59L10.3 9.45l-7.72 7.72c-.78.78-.78 2.05 0 2.83L4 21.41c.39.39.9.59 1.41.59.51 0 1.02-.2 1.41-.59l7.78-7.78 2.81-2.81c.8-.78.8-2.07 0-2.86zM5.41 20L4 18.59l7.72-7.72 1.47 1.35L5.41 20z\"/>\n",
              "  </svg>\n",
              "      </button>\n",
              "      \n",
              "  <style>\n",
              "    .colab-df-container {\n",
              "      display:flex;\n",
              "      flex-wrap:wrap;\n",
              "      gap: 12px;\n",
              "    }\n",
              "\n",
              "    .colab-df-convert {\n",
              "      background-color: #E8F0FE;\n",
              "      border: none;\n",
              "      border-radius: 50%;\n",
              "      cursor: pointer;\n",
              "      display: none;\n",
              "      fill: #1967D2;\n",
              "      height: 32px;\n",
              "      padding: 0 0 0 0;\n",
              "      width: 32px;\n",
              "    }\n",
              "\n",
              "    .colab-df-convert:hover {\n",
              "      background-color: #E2EBFA;\n",
              "      box-shadow: 0px 1px 2px rgba(60, 64, 67, 0.3), 0px 1px 3px 1px rgba(60, 64, 67, 0.15);\n",
              "      fill: #174EA6;\n",
              "    }\n",
              "\n",
              "    [theme=dark] .colab-df-convert {\n",
              "      background-color: #3B4455;\n",
              "      fill: #D2E3FC;\n",
              "    }\n",
              "\n",
              "    [theme=dark] .colab-df-convert:hover {\n",
              "      background-color: #434B5C;\n",
              "      box-shadow: 0px 1px 3px 1px rgba(0, 0, 0, 0.15);\n",
              "      filter: drop-shadow(0px 1px 2px rgba(0, 0, 0, 0.3));\n",
              "      fill: #FFFFFF;\n",
              "    }\n",
              "  </style>\n",
              "\n",
              "      <script>\n",
              "        const buttonEl =\n",
              "          document.querySelector('#df-e58538b9-a8be-482d-b19f-a53846da8a70 button.colab-df-convert');\n",
              "        buttonEl.style.display =\n",
              "          google.colab.kernel.accessAllowed ? 'block' : 'none';\n",
              "\n",
              "        async function convertToInteractive(key) {\n",
              "          const element = document.querySelector('#df-e58538b9-a8be-482d-b19f-a53846da8a70');\n",
              "          const dataTable =\n",
              "            await google.colab.kernel.invokeFunction('convertToInteractive',\n",
              "                                                     [key], {});\n",
              "          if (!dataTable) return;\n",
              "\n",
              "          const docLinkHtml = 'Like what you see? Visit the ' +\n",
              "            '<a target=\"_blank\" href=https://colab.research.google.com/notebooks/data_table.ipynb>data table notebook</a>'\n",
              "            + ' to learn more about interactive tables.';\n",
              "          element.innerHTML = '';\n",
              "          dataTable['output_type'] = 'display_data';\n",
              "          await google.colab.output.renderOutput(dataTable, element);\n",
              "          const docLink = document.createElement('div');\n",
              "          docLink.innerHTML = docLinkHtml;\n",
              "          element.appendChild(docLink);\n",
              "        }\n",
              "      </script>\n",
              "    </div>\n",
              "  </div>\n",
              "  "
            ]
          },
          "metadata": {},
          "execution_count": 35
        }
      ]
    },
    {
      "cell_type": "code",
      "source": [
        "# visualizing this\n",
        "plt.figure(figsize=(10,10))\n",
        "# plt.scatter(train.index, train, color='green', label='train', s=4)\n",
        "plt.scatter(test.index, test, color='green', label='test', s=20, marker=\"+\")\n",
        "plt.scatter(pred.index, pred, color='purple', label='pred', s=10, marker=\"x\")\n",
        "plt.legend()"
      ],
      "metadata": {
        "colab": {
          "base_uri": "https://localhost:8080/",
          "height": 848
        },
        "id": "FJjjepybOtUY",
        "outputId": "65810771-4469-41e5-e32a-bb47dec22c55"
      },
      "execution_count": 36,
      "outputs": [
        {
          "output_type": "execute_result",
          "data": {
            "text/plain": [
              "<matplotlib.legend.Legend at 0x7f99b240a4d0>"
            ]
          },
          "metadata": {},
          "execution_count": 36
        },
        {
          "output_type": "display_data",
          "data": {
            "text/plain": [
              "<Figure size 1000x1000 with 1 Axes>"
            ],
            "image/png": "[encoded data removed]"
          },
          "metadata": {}
        }
      ]
    },
    {
      "cell_type": "markdown",
      "source": [
        "## Evaluating performance"
      ],
      "metadata": {
        "id": "3xX42oWXSoMf"
      }
    },
    {
      "cell_type": "code",
      "source": [
        "from sklearn.metrics import r2_score\n",
        "\n",
        "def metrics(y_true, y_pred, period=1):\n",
        "  \"\"\"\n",
        "  Implement MASE (mean_absolute_scaled error & r2 score).\n",
        "  \"\"\"\n",
        "  mae = tf.reduce_mean(tf.abs(y_true - y_pred))\n",
        "  # Find MAE of naive forecast (no seasonality)\n",
        "  mae_naive_no_season = tf.reduce_mean(tf.reduce_mean(tf.abs(y_true[1:] - y_true[:-1])))\n",
        "  # our seasonality is 1 day (hence the shifting of 1 day)\n",
        "  return mae / mae_naive_no_season, r2_score(y_true, y_pred)"
      ],
      "metadata": {
        "id": "oevPurDVPNbl"
      },
      "execution_count": 47,
      "outputs": []
    },
    {
      "cell_type": "code",
      "source": [
        "len(test.values[1:]), len(pred.values[:-1])"
      ],
      "metadata": {
        "colab": {
          "base_uri": "https://localhost:8080/"
        },
        "id": "qeYo1Mcvf-HX",
        "outputId": "9fae27b0-22db-4c47-b6bb-69065bf3c528"
      },
      "execution_count": 42,
      "outputs": [
        {
          "output_type": "execute_result",
          "data": {
            "text/plain": [
              "(50, 50)"
            ]
          },
          "metadata": {},
          "execution_count": 42
        }
      ]
    },
    {
      "cell_type": "code",
      "source": [
        "error_dict = {}\n",
        "error_dict['baseline'] = metrics(y_true = test.values[1:],\n",
        "                                            y_pred = pred.values[:-1])\n",
        "error_dict"
      ],
      "metadata": {
        "colab": {
          "base_uri": "https://localhost:8080/"
        },
        "id": "A7uPz5fAT7dC",
        "outputId": "f6b20e96-7894-40c6-a09e-d3029e0b9445"
      },
      "execution_count": 49,
      "outputs": [
        {
          "output_type": "execute_result",
          "data": {
            "text/plain": [
              "{'baseline': (<tf.Tensor: shape=(), dtype=float64, numpy=0.989607461898346>,\n",
              "  0.9388946698604538)}"
            ]
          },
          "metadata": {},
          "execution_count": 49
        }
      ]
    },
    {
      "cell_type": "markdown",
      "source": [
        "## Windowing Dataset\n",
        "\n",
        "To turn time series into supervised learning problem using the **Sliding Windows** approach."
      ],
      "metadata": {
        "id": "7ysf8Ax3UMZ9"
      }
    },
    {
      "cell_type": "code",
      "source": [
        "display(data.head())"
      ],
      "metadata": {
        "colab": {
          "base_uri": "https://localhost:8080/",
          "height": 238
        },
        "id": "Z4qXeCfGXQTL",
        "outputId": "0fe8ac8e-2bbb-4202-ed35-06539d2ff964"
      },
      "execution_count": 50,
      "outputs": [
        {
          "output_type": "display_data",
          "data": {
            "text/plain": [
              "                 Close\n",
              "Date                  \n",
              "2022-06-13  169.690002\n",
              "2022-06-14  167.539993\n",
              "2022-06-15  180.110001\n",
              "2022-06-16  173.350006\n",
              "2022-06-17  175.509995"
            ],
            "text/html": [
              "\n",
              "  <div id=\"df-3835b65e-fabb-497a-8c80-16911084ec81\">\n",
              "    <div class=\"colab-df-container\">\n",
              "      <div>\n",
              "<style scoped>\n",
              "    .dataframe tbody tr th:only-of-type {\n",
              "        vertical-align: middle;\n",
              "    }\n",
              "\n",
              "    .dataframe tbody tr th {\n",
              "        vertical-align: top;\n",
              "    }\n",
              "\n",
              "    .dataframe thead th {\n",
              "        text-align: right;\n",
              "    }\n",
              "</style>\n",
              "<table border=\"1\" class=\"dataframe\">\n",
              "  <thead>\n",
              "    <tr style=\"text-align: right;\">\n",
              "      <th></th>\n",
              "      <th>Close</th>\n",
              "    </tr>\n",
              "    <tr>\n",
              "      <th>Date</th>\n",
              "      <th></th>\n",
              "    </tr>\n",
              "  </thead>\n",
              "  <tbody>\n",
              "    <tr>\n",
              "      <th>2022-06-13</th>\n",
              "      <td>169.690002</td>\n",
              "    </tr>\n",
              "    <tr>\n",
              "      <th>2022-06-14</th>\n",
              "      <td>167.539993</td>\n",
              "    </tr>\n",
              "    <tr>\n",
              "      <th>2022-06-15</th>\n",
              "      <td>180.110001</td>\n",
              "    </tr>\n",
              "    <tr>\n",
              "      <th>2022-06-16</th>\n",
              "      <td>173.350006</td>\n",
              "    </tr>\n",
              "    <tr>\n",
              "      <th>2022-06-17</th>\n",
              "      <td>175.509995</td>\n",
              "    </tr>\n",
              "  </tbody>\n",
              "</table>\n",
              "</div>\n",
              "      <button class=\"colab-df-convert\" onclick=\"convertToInteractive('df-3835b65e-fabb-497a-8c80-16911084ec81')\"\n",
              "              title=\"Convert this dataframe to an interactive table.\"\n",
              "              style=\"display:none;\">\n",
              "        \n",
              "  <svg xmlns=\"http://www.w3.org/2000/svg\" height=\"24px\"viewBox=\"0 0 24 24\"\n",
              "       width=\"24px\">\n",
              "    <path d=\"M0 0h24v24H0V0z\" fill=\"none\"/>\n",
              "    <path d=\"M18.56 5.44l.94 2.06.94-2.06 2.06-.94-2.06-.94-.94-2.06-.94 2.06-2.06.94zm-11 1L8.5 8.5l.94-2.06 2.06-.94-2.06-.94L8.5 2.5l-.94 2.06-2.06.94zm10 10l.94 2.06.94-2.06 2.06-.94-2.06-.94-.94-2.06-.94 2.06-2.06.94z\"/><path d=\"M17.41 7.96l-1.37-1.37c-.4-.4-.92-.59-1.43-.59-.52 0-1.04.2-1.43.59L10.3 9.45l-7.72 7.72c-.78.78-.78 2.05 0 2.83L4 21.41c.39.39.9.59 1.41.59.51 0 1.02-.2 1.41-.59l7.78-7.78 2.81-2.81c.8-.78.8-2.07 0-2.86zM5.41 20L4 18.59l7.72-7.72 1.47 1.35L5.41 20z\"/>\n",
              "  </svg>\n",
              "      </button>\n",
              "      \n",
              "  <style>\n",
              "    .colab-df-container {\n",
              "      display:flex;\n",
              "      flex-wrap:wrap;\n",
              "      gap: 12px;\n",
              "    }\n",
              "\n",
              "    .colab-df-convert {\n",
              "      background-color: #E8F0FE;\n",
              "      border: none;\n",
              "      border-radius: 50%;\n",
              "      cursor: pointer;\n",
              "      display: none;\n",
              "      fill: #1967D2;\n",
              "      height: 32px;\n",
              "      padding: 0 0 0 0;\n",
              "      width: 32px;\n",
              "    }\n",
              "\n",
              "    .colab-df-convert:hover {\n",
              "      background-color: #E2EBFA;\n",
              "      box-shadow: 0px 1px 2px rgba(60, 64, 67, 0.3), 0px 1px 3px 1px rgba(60, 64, 67, 0.15);\n",
              "      fill: #174EA6;\n",
              "    }\n",
              "\n",
              "    [theme=dark] .colab-df-convert {\n",
              "      background-color: #3B4455;\n",
              "      fill: #D2E3FC;\n",
              "    }\n",
              "\n",
              "    [theme=dark] .colab-df-convert:hover {\n",
              "      background-color: #434B5C;\n",
              "      box-shadow: 0px 1px 3px 1px rgba(0, 0, 0, 0.15);\n",
              "      filter: drop-shadow(0px 1px 2px rgba(0, 0, 0, 0.3));\n",
              "      fill: #FFFFFF;\n",
              "    }\n",
              "  </style>\n",
              "\n",
              "      <script>\n",
              "        const buttonEl =\n",
              "          document.querySelector('#df-3835b65e-fabb-497a-8c80-16911084ec81 button.colab-df-convert');\n",
              "        buttonEl.style.display =\n",
              "          google.colab.kernel.accessAllowed ? 'block' : 'none';\n",
              "\n",
              "        async function convertToInteractive(key) {\n",
              "          const element = document.querySelector('#df-3835b65e-fabb-497a-8c80-16911084ec81');\n",
              "          const dataTable =\n",
              "            await google.colab.kernel.invokeFunction('convertToInteractive',\n",
              "                                                     [key], {});\n",
              "          if (!dataTable) return;\n",
              "\n",
              "          const docLinkHtml = 'Like what you see? Visit the ' +\n",
              "            '<a target=\"_blank\" href=https://colab.research.google.com/notebooks/data_table.ipynb>data table notebook</a>'\n",
              "            + ' to learn more about interactive tables.';\n",
              "          element.innerHTML = '';\n",
              "          dataTable['output_type'] = 'display_data';\n",
              "          await google.colab.output.renderOutput(dataTable, element);\n",
              "          const docLink = document.createElement('div');\n",
              "          docLink.innerHTML = docLinkHtml;\n",
              "          element.appendChild(docLink);\n",
              "        }\n",
              "      </script>\n",
              "    </div>\n",
              "  </div>\n",
              "  "
            ]
          },
          "metadata": {}
        }
      ]
    },
    {
      "cell_type": "code",
      "source": [
        "def make_windows(df, window_size=3, horizon=1):\n",
        "    \"\"\"\n",
        "    Input: 1-D time series\n",
        "    output: X 2D time series of window_size\n",
        "    y: 1D time series lagged by horizon\n",
        "    \"\"\"\n",
        "    data = df.copy()\n",
        "\n",
        "    windows = list(data.rolling(window=window_size))[window_size:]\n",
        "    window_data = pd.concat([pd.DataFrame(window.T.values) for window in windows])\n",
        "    window_data.index = data.index[window_size:]\n",
        "\n",
        "    X = window_data[:-horizon].shift(horizon, freq='B')\n",
        "    y = data[window_size+horizon:]\n",
        "    print(f\"The shape of X is {X.shape} and the size of y is {y.shape}\")\n",
        "    print(\"Testing that the indices are aligned:\")\n",
        "\n",
        "    display(pd.merge(X, y, left_index=True, right_index=True))\n",
        "    return X, y"
      ],
      "metadata": {
        "id": "dSUxseO_nix5"
      },
      "execution_count": 53,
      "outputs": []
    },
    {
      "cell_type": "code",
      "source": [
        "X, y = make_windows(data, 3, 1)"
      ],
      "metadata": {
        "colab": {
          "base_uri": "https://localhost:8080/",
          "height": 491
        },
        "id": "ZtRLlZ36fBee",
        "outputId": "9e54d8ba-e8f4-48b6-d6f8-6de447e220b3"
      },
      "execution_count": 62,
      "outputs": [
        {
          "output_type": "stream",
          "name": "stdout",
          "text": [
            "The shape of X is (248, 3) and the size of y is (248, 1)\n",
            "Testing that the indices are aligned:\n"
          ]
        },
        {
          "output_type": "display_data",
          "data": {
            "text/plain": [
              "                     0           1           2       Close\n",
              "Date                                                      \n",
              "2022-06-17  167.539993  180.110001  173.350006  175.509995\n",
              "2022-06-22  173.350006  175.509995  170.910004  178.889999\n",
              "2022-06-23  175.509995  170.910004  178.889999  181.710007\n",
              "2022-06-24  170.910004  178.889999  181.710007  190.850006\n",
              "2022-06-27  178.889999  181.710007  190.850006  189.139999\n",
              "...                ...         ...         ...         ...\n",
              "2023-06-07  400.470001  403.540009  399.290009  399.769989\n",
              "2023-06-08  403.540009  399.290009  399.769989  409.369995\n",
              "2023-06-09  399.290009  399.769989  409.369995  420.019989\n",
              "2023-06-12  399.769989  409.369995  420.019989  423.970001\n",
              "2023-06-13  409.369995  420.019989  423.970001  432.649994\n",
              "\n",
              "[238 rows x 4 columns]"
            ],
            "text/html": [
              "\n",
              "  <div id=\"df-73975693-f389-492c-860b-37e65653c741\">\n",
              "    <div class=\"colab-df-container\">\n",
              "      <div>\n",
              "<style scoped>\n",
              "    .dataframe tbody tr th:only-of-type {\n",
              "        vertical-align: middle;\n",
              "    }\n",
              "\n",
              "    .dataframe tbody tr th {\n",
              "        vertical-align: top;\n",
              "    }\n",
              "\n",
              "    .dataframe thead th {\n",
              "        text-align: right;\n",
              "    }\n",
              "</style>\n",
              "<table border=\"1\" class=\"dataframe\">\n",
              "  <thead>\n",
              "    <tr style=\"text-align: right;\">\n",
              "      <th></th>\n",
              "      <th>0</th>\n",
              "      <th>1</th>\n",
              "      <th>2</th>\n",
              "      <th>Close</th>\n",
              "    </tr>\n",
              "    <tr>\n",
              "      <th>Date</th>\n",
              "      <th></th>\n",
              "      <th></th>\n",
              "      <th></th>\n",
              "      <th></th>\n",
              "    </tr>\n",
              "  </thead>\n",
              "  <tbody>\n",
              "    <tr>\n",
              "      <th>2022-06-17</th>\n",
              "      <td>167.539993</td>\n",
              "      <td>180.110001</td>\n",
              "      <td>173.350006</td>\n",
              "      <td>175.509995</td>\n",
              "    </tr>\n",
              "    <tr>\n",
              "      <th>2022-06-22</th>\n",
              "      <td>173.350006</td>\n",
              "      <td>175.509995</td>\n",
              "      <td>170.910004</td>\n",
              "      <td>178.889999</td>\n",
              "    </tr>\n",
              "    <tr>\n",
              "      <th>2022-06-23</th>\n",
              "      <td>175.509995</td>\n",
              "      <td>170.910004</td>\n",
              "      <td>178.889999</td>\n",
              "      <td>181.710007</td>\n",
              "    </tr>\n",
              "    <tr>\n",
              "      <th>2022-06-24</th>\n",
              "      <td>170.910004</td>\n",
              "      <td>178.889999</td>\n",
              "      <td>181.710007</td>\n",
              "      <td>190.850006</td>\n",
              "    </tr>\n",
              "    <tr>\n",
              "      <th>2022-06-27</th>\n",
              "      <td>178.889999</td>\n",
              "      <td>181.710007</td>\n",
              "      <td>190.850006</td>\n",
              "      <td>189.139999</td>\n",
              "    </tr>\n",
              "    <tr>\n",
              "      <th>...</th>\n",
              "      <td>...</td>\n",
              "      <td>...</td>\n",
              "      <td>...</td>\n",
              "      <td>...</td>\n",
              "    </tr>\n",
              "    <tr>\n",
              "      <th>2023-06-07</th>\n",
              "      <td>400.470001</td>\n",
              "      <td>403.540009</td>\n",
              "      <td>399.290009</td>\n",
              "      <td>399.769989</td>\n",
              "    </tr>\n",
              "    <tr>\n",
              "      <th>2023-06-08</th>\n",
              "      <td>403.540009</td>\n",
              "      <td>399.290009</td>\n",
              "      <td>399.769989</td>\n",
              "      <td>409.369995</td>\n",
              "    </tr>\n",
              "    <tr>\n",
              "      <th>2023-06-09</th>\n",
              "      <td>399.290009</td>\n",
              "      <td>399.769989</td>\n",
              "      <td>409.369995</td>\n",
              "      <td>420.019989</td>\n",
              "    </tr>\n",
              "    <tr>\n",
              "      <th>2023-06-12</th>\n",
              "      <td>399.769989</td>\n",
              "      <td>409.369995</td>\n",
              "      <td>420.019989</td>\n",
              "      <td>423.970001</td>\n",
              "    </tr>\n",
              "    <tr>\n",
              "      <th>2023-06-13</th>\n",
              "      <td>409.369995</td>\n",
              "      <td>420.019989</td>\n",
              "      <td>423.970001</td>\n",
              "      <td>432.649994</td>\n",
              "    </tr>\n",
              "  </tbody>\n",
              "</table>\n",
              "<p>238 rows × 4 columns</p>\n",
              "</div>\n",
              "      <button class=\"colab-df-convert\" onclick=\"convertToInteractive('df-73975693-f389-492c-860b-37e65653c741')\"\n",
              "              title=\"Convert this dataframe to an interactive table.\"\n",
              "              style=\"display:none;\">\n",
              "        \n",
              "  <svg xmlns=\"http://www.w3.org/2000/svg\" height=\"24px\"viewBox=\"0 0 24 24\"\n",
              "       width=\"24px\">\n",
              "    <path d=\"M0 0h24v24H0V0z\" fill=\"none\"/>\n",
              "    <path d=\"M18.56 5.44l.94 2.06.94-2.06 2.06-.94-2.06-.94-.94-2.06-.94 2.06-2.06.94zm-11 1L8.5 8.5l.94-2.06 2.06-.94-2.06-.94L8.5 2.5l-.94 2.06-2.06.94zm10 10l.94 2.06.94-2.06 2.06-.94-2.06-.94-.94-2.06-.94 2.06-2.06.94z\"/><path d=\"M17.41 7.96l-1.37-1.37c-.4-.4-.92-.59-1.43-.59-.52 0-1.04.2-1.43.59L10.3 9.45l-7.72 7.72c-.78.78-.78 2.05 0 2.83L4 21.41c.39.39.9.59 1.41.59.51 0 1.02-.2 1.41-.59l7.78-7.78 2.81-2.81c.8-.78.8-2.07 0-2.86zM5.41 20L4 18.59l7.72-7.72 1.47 1.35L5.41 20z\"/>\n",
              "  </svg>\n",
              "      </button>\n",
              "      \n",
              "  <style>\n",
              "    .colab-df-container {\n",
              "      display:flex;\n",
              "      flex-wrap:wrap;\n",
              "      gap: 12px;\n",
              "    }\n",
              "\n",
              "    .colab-df-convert {\n",
              "      background-color: #E8F0FE;\n",
              "      border: none;\n",
              "      border-radius: 50%;\n",
              "      cursor: pointer;\n",
              "      display: none;\n",
              "      fill: #1967D2;\n",
              "      height: 32px;\n",
              "      padding: 0 0 0 0;\n",
              "      width: 32px;\n",
              "    }\n",
              "\n",
              "    .colab-df-convert:hover {\n",
              "      background-color: #E2EBFA;\n",
              "      box-shadow: 0px 1px 2px rgba(60, 64, 67, 0.3), 0px 1px 3px 1px rgba(60, 64, 67, 0.15);\n",
              "      fill: #174EA6;\n",
              "    }\n",
              "\n",
              "    [theme=dark] .colab-df-convert {\n",
              "      background-color: #3B4455;\n",
              "      fill: #D2E3FC;\n",
              "    }\n",
              "\n",
              "    [theme=dark] .colab-df-convert:hover {\n",
              "      background-color: #434B5C;\n",
              "      box-shadow: 0px 1px 3px 1px rgba(0, 0, 0, 0.15);\n",
              "      filter: drop-shadow(0px 1px 2px rgba(0, 0, 0, 0.3));\n",
              "      fill: #FFFFFF;\n",
              "    }\n",
              "  </style>\n",
              "\n",
              "      <script>\n",
              "        const buttonEl =\n",
              "          document.querySelector('#df-73975693-f389-492c-860b-37e65653c741 button.colab-df-convert');\n",
              "        buttonEl.style.display =\n",
              "          google.colab.kernel.accessAllowed ? 'block' : 'none';\n",
              "\n",
              "        async function convertToInteractive(key) {\n",
              "          const element = document.querySelector('#df-73975693-f389-492c-860b-37e65653c741');\n",
              "          const dataTable =\n",
              "            await google.colab.kernel.invokeFunction('convertToInteractive',\n",
              "                                                     [key], {});\n",
              "          if (!dataTable) return;\n",
              "\n",
              "          const docLinkHtml = 'Like what you see? Visit the ' +\n",
              "            '<a target=\"_blank\" href=https://colab.research.google.com/notebooks/data_table.ipynb>data table notebook</a>'\n",
              "            + ' to learn more about interactive tables.';\n",
              "          element.innerHTML = '';\n",
              "          dataTable['output_type'] = 'display_data';\n",
              "          await google.colab.output.renderOutput(dataTable, element);\n",
              "          const docLink = document.createElement('div');\n",
              "          docLink.innerHTML = docLinkHtml;\n",
              "          element.appendChild(docLink);\n",
              "        }\n",
              "      </script>\n",
              "    </div>\n",
              "  </div>\n",
              "  "
            ]
          },
          "metadata": {}
        }
      ]
    },
    {
      "cell_type": "markdown",
      "source": [
        "# Model 1"
      ],
      "metadata": {
        "id": "zI3ndKy75J5X"
      }
    },
    {
      "cell_type": "markdown",
      "source": [
        "A single dense layer with\n",
        "- 128 hidden units and ReLU(rectified linear unit) activation\n",
        "\n",
        "An output layer with\n",
        "- linear activation (or no activation)\n",
        "- Adam optimizer and MAE loss function\n",
        "- Batch size of 128\n",
        "- 100 epochs\n"
      ],
      "metadata": {
        "id": "x2_jzei15wDZ"
      }
    },
    {
      "cell_type": "code",
      "source": [
        "# set random seed for reproducible results\n",
        "tf.random.set_seed(88)\n",
        "# construct model\n",
        "input = layers.Input(shape=(3,), name='input')\n",
        "hidden = layers.Dense(128, activation='relu')(input)\n",
        "output = layers.Dense(1, activation='linear')(hidden)\n",
        "\n",
        "\n",
        "model1 = tf.keras.Model(inputs=input,\n",
        "                         outputs=output,\n",
        "                         name=\"model_1\")\n",
        "\n",
        "plot_model(model1, show_shapes=True)"
      ],
      "metadata": {
        "colab": {
          "base_uri": "https://localhost:8080/",
          "height": 312
        },
        "id": "Ge38D-b_53a6",
        "outputId": "c50e8aaa-05ee-4207-e2cc-d435d16573d3"
      },
      "execution_count": 55,
      "outputs": [
        {
          "output_type": "execute_result",
          "data": {
            "image/png": "[encoded data removed]",
            "text/plain": [
              "<IPython.core.display.Image object>"
            ]
          },
          "metadata": {},
          "execution_count": 55
        }
      ]
    },
    {
      "cell_type": "code",
      "source": [
        "plot_model(model1, show_shapes=True)"
      ],
      "metadata": {
        "colab": {
          "base_uri": "https://localhost:8080/",
          "height": 312
        },
        "id": "iMkxXKzw_L28",
        "outputId": "68aafb22-1e18-4039-a4d2-172bb02fbf50"
      },
      "execution_count": 56,
      "outputs": [
        {
          "output_type": "execute_result",
          "data": {
            "image/png": "[encoded data removed]",
            "text/plain": [
              "<IPython.core.display.Image object>"
            ]
          },
          "metadata": {},
          "execution_count": 56
        }
      ]
    },
    {
      "cell_type": "code",
      "source": [],
      "metadata": {
        "id": "SBeQ9o7Qg_7h"
      },
      "execution_count": null,
      "outputs": []
    },
    {
      "cell_type": "code",
      "source": [
        "# function to train test split the X and y\n",
        "def train_test_splits(X, y, test_split=0.2):\n",
        "    \"\"\"\n",
        "    Input: X and y\n",
        "    Output: X_train, X_test, y_train, y_test in that order\n",
        "    \"\"\"\n",
        "    split = round(len(X) * (1-test_split))\n",
        "    # returns in order: X_train, X_test, y_train, y_test\n",
        "    X_train, X_test, y_train, y_test = X[:split], X[split:], y[:split], y[split:]\n",
        "    display (X_train.shape, X_test.shape, y_train.shape, y_test.shape)\n",
        "    return X_train, X_test, y_train, y_test\n",
        "\n",
        "\n",
        "X_train, X_test, y_train, y_test = train_test_splits(X, y, test_split=0.2)"
      ],
      "metadata": {
        "colab": {
          "base_uri": "https://localhost:8080/",
          "height": 88
        },
        "id": "xU8RPagf8Yid",
        "outputId": "806b5123-f39f-46da-91e9-ce33d6df7ca7"
      },
      "execution_count": 63,
      "outputs": [
        {
          "output_type": "display_data",
          "data": {
            "text/plain": [
              "(198, 3)"
            ]
          },
          "metadata": {}
        },
        {
          "output_type": "display_data",
          "data": {
            "text/plain": [
              "(50, 3)"
            ]
          },
          "metadata": {}
        },
        {
          "output_type": "display_data",
          "data": {
            "text/plain": [
              "(198, 1)"
            ]
          },
          "metadata": {}
        },
        {
          "output_type": "display_data",
          "data": {
            "text/plain": [
              "(50, 1)"
            ]
          },
          "metadata": {}
        }
      ]
    },
    {
      "cell_type": "code",
      "source": [
        "# modelling checkpoint\n",
        "import os\n",
        "from tensorflow.keras.callbacks import ModelCheckpoint, EarlyStopping\n",
        "early_stop = EarlyStopping(monitor='loss', patience=4)\n",
        "\n",
        "# Create a function to implement a ModelCheckpoint callback with a specific filename\n",
        "def create_model_checkpoint(model_num, filepath=\"model_checkpoints\"):\n",
        "    return ModelCheckpoint(filepath=os.path.join(filepath, 'model_num'),\n",
        "                                            verbose=0,\n",
        "                                            save_best_only=True)"
      ],
      "metadata": {
        "id": "4pCNpRLa3tqL"
      },
      "execution_count": 64,
      "outputs": []
    },
    {
      "cell_type": "code",
      "source": [
        "# train_dataset, test_dataset = convert_to_tfDataset(X,y, batch=128)\n",
        "# Compile model\n",
        "# model1.compile(loss=\"mae\",\n",
        "#                 optimizer=tf.keras.optimizers.Adam(),\n",
        "#                 metrics=[\"mae\"])\n",
        "\n",
        "model1.compile(loss='mse', optimizer='rmsprop', metrics=[RSquare()])"
      ],
      "metadata": {
        "id": "9bPqhSXn9d8C"
      },
      "execution_count": 65,
      "outputs": []
    },
    {
      "cell_type": "code",
      "source": [
        "# Fit model\n",
        "model1.fit(X_train,\n",
        "           y_train,\n",
        "           epochs=100,\n",
        "           verbose=1,\n",
        "           batch_size=128,\n",
        "           validation_data=(X_test, y_test),\n",
        "           callbacks=[early_stop]\n",
        "           ) # create ModelCheckpoint callback to save best model"
      ],
      "metadata": {
        "colab": {
          "base_uri": "https://localhost:8080/"
        },
        "id": "qcMdElbb6XM2",
        "outputId": "33878687-d65b-4358-b61f-a059adefcf97"
      },
      "execution_count": 66,
      "outputs": [
        {
          "output_type": "stream",
          "name": "stdout",
          "text": [
            "Epoch 1/100\n",
            "2/2 [==============================] - 3s 1s/step - loss: 77448.1797 - r_square: -26.2219 - val_loss: 93561.6406 - val_r_square: -90.1072\n",
            "Epoch 2/100\n",
            "2/2 [==============================] - 0s 122ms/step - loss: 54602.4141 - r_square: -18.1920 - val_loss: 71303.4141 - val_r_square: -68.4329\n",
            "Epoch 3/100\n",
            "2/2 [==============================] - 0s 122ms/step - loss: 41787.3477 - r_square: -13.6877 - val_loss: 55792.3594 - val_r_square: -53.3287\n",
            "Epoch 4/100\n",
            "2/2 [==============================] - 0s 60ms/step - loss: 32668.2129 - r_square: -10.4824 - val_loss: 43892.5312 - val_r_square: -41.7411\n",
            "Epoch 5/100\n",
            "2/2 [==============================] - 0s 36ms/step - loss: 25667.0332 - r_square: -8.0216 - val_loss: 34525.3516 - val_r_square: -32.6196\n",
            "Epoch 6/100\n",
            "2/2 [==============================] - 0s 53ms/step - loss: 20141.1445 - r_square: -6.0793 - val_loss: 27009.0059 - val_r_square: -25.3005\n",
            "Epoch 7/100\n",
            "2/2 [==============================] - 0s 40ms/step - loss: 15703.3750 - r_square: -4.5195 - val_loss: 20918.7695 - val_r_square: -19.3700\n",
            "Epoch 8/100\n",
            "2/2 [==============================] - 0s 55ms/step - loss: 12082.4600 - r_square: -3.2468 - val_loss: 15877.4883 - val_r_square: -14.4610\n",
            "Epoch 9/100\n",
            "2/2 [==============================] - 0s 58ms/step - loss: 9145.4365 - r_square: -2.2145 - val_loss: 11932.4902 - val_r_square: -10.6195\n",
            "Epoch 10/100\n",
            "2/2 [==============================] - 0s 68ms/step - loss: 6837.6465 - r_square: -1.4033 - val_loss: 8802.4697 - val_r_square: -7.5716\n",
            "Epoch 11/100\n",
            "2/2 [==============================] - 0s 40ms/step - loss: 5014.0674 - r_square: -0.7624 - val_loss: 6351.9702 - val_r_square: -5.1853\n",
            "Epoch 12/100\n",
            "2/2 [==============================] - 0s 43ms/step - loss: 3590.3784 - r_square: -0.2620 - val_loss: 4447.9956 - val_r_square: -3.3313\n",
            "Epoch 13/100\n",
            "2/2 [==============================] - 0s 60ms/step - loss: 2503.3501 - r_square: 0.1201 - val_loss: 3050.5852 - val_r_square: -1.9706\n",
            "Epoch 14/100\n",
            "2/2 [==============================] - 0s 39ms/step - loss: 1710.6718 - r_square: 0.3987 - val_loss: 2039.6005 - val_r_square: -0.9861\n",
            "Epoch 15/100\n",
            "2/2 [==============================] - 0s 56ms/step - loss: 1140.4454 - r_square: 0.5991 - val_loss: 1317.8668 - val_r_square: -0.2833\n",
            "Epoch 16/100\n",
            "2/2 [==============================] - 0s 54ms/step - loss: 740.9948 - r_square: 0.7396 - val_loss: 826.6381 - val_r_square: 0.1950\n",
            "Epoch 17/100\n",
            "2/2 [==============================] - 0s 38ms/step - loss: 476.3276 - r_square: 0.8326 - val_loss: 512.8008 - val_r_square: 0.5007\n",
            "Epoch 18/100\n",
            "2/2 [==============================] - 0s 39ms/step - loss: 312.1879 - r_square: 0.8903 - val_loss: 322.3435 - val_r_square: 0.6861\n",
            "Epoch 19/100\n",
            "2/2 [==============================] - 0s 56ms/step - loss: 216.9492 - r_square: 0.9237 - val_loss: 214.9911 - val_r_square: 0.7906\n",
            "Epoch 20/100\n",
            "2/2 [==============================] - 0s 59ms/step - loss: 164.6217 - r_square: 0.9421 - val_loss: 150.7162 - val_r_square: 0.8532\n",
            "Epoch 21/100\n",
            "2/2 [==============================] - 0s 40ms/step - loss: 137.8300 - r_square: 0.9516 - val_loss: 124.2986 - val_r_square: 0.8790\n",
            "Epoch 22/100\n",
            "2/2 [==============================] - 0s 40ms/step - loss: 126.7243 - r_square: 0.9555 - val_loss: 106.6244 - val_r_square: 0.8962\n",
            "Epoch 23/100\n",
            "2/2 [==============================] - 0s 38ms/step - loss: 121.3147 - r_square: 0.9574 - val_loss: 100.8455 - val_r_square: 0.9018\n",
            "Epoch 24/100\n",
            "2/2 [==============================] - 0s 42ms/step - loss: 120.6321 - r_square: 0.9576 - val_loss: 100.6957 - val_r_square: 0.9019\n",
            "Epoch 25/100\n",
            "2/2 [==============================] - 0s 55ms/step - loss: 119.8337 - r_square: 0.9579 - val_loss: 98.0362 - val_r_square: 0.9045\n",
            "Epoch 26/100\n",
            "2/2 [==============================] - 0s 39ms/step - loss: 119.3882 - r_square: 0.9580 - val_loss: 94.9448 - val_r_square: 0.9075\n",
            "Epoch 27/100\n",
            "2/2 [==============================] - 0s 50ms/step - loss: 119.1256 - r_square: 0.9581 - val_loss: 96.4372 - val_r_square: 0.9061\n",
            "Epoch 28/100\n",
            "2/2 [==============================] - 0s 54ms/step - loss: 118.9494 - r_square: 0.9582 - val_loss: 95.4446 - val_r_square: 0.9071\n",
            "Epoch 29/100\n",
            "2/2 [==============================] - 0s 39ms/step - loss: 118.8302 - r_square: 0.9582 - val_loss: 94.6682 - val_r_square: 0.9078\n",
            "Epoch 30/100\n",
            "2/2 [==============================] - 0s 60ms/step - loss: 119.3688 - r_square: 0.9580 - val_loss: 99.7290 - val_r_square: 0.9029\n",
            "Epoch 31/100\n",
            "2/2 [==============================] - 0s 54ms/step - loss: 119.7801 - r_square: 0.9579 - val_loss: 91.6712 - val_r_square: 0.9107\n",
            "Epoch 32/100\n",
            "2/2 [==============================] - 0s 39ms/step - loss: 119.5331 - r_square: 0.9580 - val_loss: 101.7499 - val_r_square: 0.9009\n",
            "Epoch 33/100\n",
            "2/2 [==============================] - 0s 59ms/step - loss: 119.5544 - r_square: 0.9580 - val_loss: 98.4483 - val_r_square: 0.9041\n"
          ]
        },
        {
          "output_type": "execute_result",
          "data": {
            "text/plain": [
              "<keras.callbacks.History at 0x7f99b23410c0>"
            ]
          },
          "metadata": {},
          "execution_count": 66
        }
      ]
    },
    {
      "cell_type": "code",
      "source": [
        "metrics(y_test.values, model1.predict(X_test), period=1)"
      ],
      "metadata": {
        "colab": {
          "base_uri": "https://localhost:8080/"
        },
        "id": "vcGc5F0F-gU4",
        "outputId": "cea1347c-ff21-4803-b38d-af10c8978847"
      },
      "execution_count": 68,
      "outputs": [
        {
          "output_type": "stream",
          "name": "stdout",
          "text": [
            "2/2 [==============================] - 0s 5ms/step\n"
          ]
        },
        {
          "output_type": "execute_result",
          "data": {
            "text/plain": [
              "(<tf.Tensor: shape=(), dtype=float64, numpy=1.3062383798928205>,\n",
              " 0.90413405480212)"
            ]
          },
          "metadata": {},
          "execution_count": 68
        }
      ]
    },
    {
      "cell_type": "code",
      "source": [
        "error_dict['model1'] = metrics(y_true = y_test.values,\n",
        "                                            y_pred = model1.predict(X_test))\n",
        "error_dict"
      ],
      "metadata": {
        "colab": {
          "base_uri": "https://localhost:8080/"
        },
        "id": "uPrkF5xHCaMj",
        "outputId": "6e6733ec-c2eb-4df4-dfb4-f474362a3c1d"
      },
      "execution_count": 70,
      "outputs": [
        {
          "output_type": "stream",
          "name": "stdout",
          "text": [
            "2/2 [==============================] - 0s 9ms/step\n"
          ]
        },
        {
          "output_type": "execute_result",
          "data": {
            "text/plain": [
              "{'baseline': (<tf.Tensor: shape=(), dtype=float64, numpy=0.989607461898346>,\n",
              "  0.9388946698604538),\n",
              " 'model1': (<tf.Tensor: shape=(), dtype=float64, numpy=1.3062383798928205>,\n",
              "  0.90413405480212)}"
            ]
          },
          "metadata": {},
          "execution_count": 70
        }
      ]
    },
    {
      "cell_type": "code",
      "source": [],
      "metadata": {
        "id": "rfuQ87jdDjwl"
      },
      "execution_count": null,
      "outputs": []
    }
  ]
}